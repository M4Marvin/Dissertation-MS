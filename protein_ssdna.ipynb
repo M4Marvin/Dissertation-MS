{
 "cells": [
  {
   "cell_type": "code",
   "execution_count": 1,
   "metadata": {},
   "outputs": [],
   "source": [
    "import pandas as pd\n",
    "import numpy as np\n",
    "import pickle\n",
    "import os\n",
    "import warnings\n",
    "\n",
    "from src.pdb_to_dfs import process_pdb\n",
    "\n",
    "import matplotlib.pyplot as plt\n",
    "import seaborn as sns\n",
    "\n",
    "warnings.filterwarnings(\"ignore\")\n"
   ]
  },
  {
   "attachments": {},
   "cell_type": "markdown",
   "metadata": {},
   "source": [
    "**Protein-ssDNA**: Use the center of mass coordinates of base (B). {Use `DA`, `DT`, `DG`, and `DC` for different nucleotides} and C-alpha or Center of mass of side chain for the calculations. \n",
    "1. Calculate the distance between Base (B) and the nearest C-alpha atom of protein.\n",
    "2. Calculate the distance between Base (B) and the nearest side chain (use COM). \n",
    "3. Calculate the distance between Base (B) and any nearest atom of protein (either C-alpha or side chain of protein)."
   ]
  },
  {
   "cell_type": "code",
   "execution_count": 2,
   "metadata": {},
   "outputs": [],
   "source": [
    "pdbs_folder = \"data/processed_pdbs\"\n",
    "pdb_list = [pdb for pdb in os.listdir(pdbs_folder) if pdb.endswith(\".pdb\")]"
   ]
  },
  {
   "cell_type": "code",
   "execution_count": 3,
   "metadata": {},
   "outputs": [
    {
     "name": "stdout",
     "output_type": "stream",
     "text": [
      "Nucleotide 9 in chain B has missing atoms.\n"
     ]
    }
   ],
   "source": [
    "pdb_name = pdb_list[10]\n",
    "dfs, chain_types = process_pdb(pdb_name, pdbs_folder)\n",
    "\n",
    "dfs_ssdna = [df for df, chain_type in zip(dfs, chain_types) if chain_type == \"ssdna\"]\n",
    "dfs_ssdna = pd.concat(dfs_ssdna)\n",
    "\n",
    "dfs_protein = [df for df, chain_type in zip(dfs, chain_types) if chain_type == \"protein\"]\n",
    "dfs_protein = pd.concat(dfs_protein)"
   ]
  },
  {
   "cell_type": "code",
   "execution_count": 4,
   "metadata": {},
   "outputs": [
    {
     "data": {
      "text/html": [
       "<div>\n",
       "<style scoped>\n",
       "    .dataframe tbody tr th:only-of-type {\n",
       "        vertical-align: middle;\n",
       "    }\n",
       "\n",
       "    .dataframe tbody tr th {\n",
       "        vertical-align: top;\n",
       "    }\n",
       "\n",
       "    .dataframe thead th {\n",
       "        text-align: right;\n",
       "    }\n",
       "</style>\n",
       "<table border=\"1\" class=\"dataframe\">\n",
       "  <thead>\n",
       "    <tr style=\"text-align: right;\">\n",
       "      <th></th>\n",
       "      <th>residue</th>\n",
       "      <th>ca_coords</th>\n",
       "      <th>sidechain_coms</th>\n",
       "    </tr>\n",
       "  </thead>\n",
       "  <tbody>\n",
       "    <tr>\n",
       "      <th>0</th>\n",
       "      <td>GLN</td>\n",
       "      <td>[39.903, 18.827, -17.926]</td>\n",
       "      <td>[39.814003, 21.0476, -20.413998]</td>\n",
       "    </tr>\n",
       "    <tr>\n",
       "      <th>1</th>\n",
       "      <td>TYR</td>\n",
       "      <td>[38.815, 15.201, -18.075]</td>\n",
       "      <td>[38.876873, 15.96775, -21.649626]</td>\n",
       "    </tr>\n",
       "    <tr>\n",
       "      <th>2</th>\n",
       "      <td>HIS</td>\n",
       "      <td>[37.221, 12.597, -15.85]</td>\n",
       "      <td>[35.48567, 10.136167, -15.092168]</td>\n",
       "    </tr>\n",
       "    <tr>\n",
       "      <th>3</th>\n",
       "      <td>VAL</td>\n",
       "      <td>[35.88, 13.397, -12.405]</td>\n",
       "      <td>[34.08067, 13.036667, -11.783333]</td>\n",
       "    </tr>\n",
       "    <tr>\n",
       "      <th>4</th>\n",
       "      <td>GLU</td>\n",
       "      <td>[37.669, 14.133, -9.12]</td>\n",
       "      <td>[38.597603, 15.357, -6.7226]</td>\n",
       "    </tr>\n",
       "  </tbody>\n",
       "</table>\n",
       "</div>"
      ],
      "text/plain": [
       "  residue                  ca_coords                     sidechain_coms\n",
       "0     GLN  [39.903, 18.827, -17.926]   [39.814003, 21.0476, -20.413998]\n",
       "1     TYR  [38.815, 15.201, -18.075]  [38.876873, 15.96775, -21.649626]\n",
       "2     HIS   [37.221, 12.597, -15.85]  [35.48567, 10.136167, -15.092168]\n",
       "3     VAL   [35.88, 13.397, -12.405]  [34.08067, 13.036667, -11.783333]\n",
       "4     GLU    [37.669, 14.133, -9.12]       [38.597603, 15.357, -6.7226]"
      ]
     },
     "execution_count": 4,
     "metadata": {},
     "output_type": "execute_result"
    }
   ],
   "source": [
    "dfs_protein.head()"
   ]
  },
  {
   "attachments": {},
   "cell_type": "markdown",
   "metadata": {},
   "source": [
    "Columns in protein df: ['residue', 'ca_coords', 'sidechain_coms']"
   ]
  },
  {
   "cell_type": "code",
   "execution_count": 6,
   "metadata": {},
   "outputs": [
    {
     "data": {
      "text/html": [
       "<div>\n",
       "<style scoped>\n",
       "    .dataframe tbody tr th:only-of-type {\n",
       "        vertical-align: middle;\n",
       "    }\n",
       "\n",
       "    .dataframe tbody tr th {\n",
       "        vertical-align: top;\n",
       "    }\n",
       "\n",
       "    .dataframe thead th {\n",
       "        text-align: right;\n",
       "    }\n",
       "</style>\n",
       "<table border=\"1\" class=\"dataframe\">\n",
       "  <thead>\n",
       "    <tr style=\"text-align: right;\">\n",
       "      <th></th>\n",
       "      <th>residue</th>\n",
       "      <th>sugar_com</th>\n",
       "      <th>base_com</th>\n",
       "      <th>phosphate_com</th>\n",
       "    </tr>\n",
       "  </thead>\n",
       "  <tbody>\n",
       "    <tr>\n",
       "      <th>0</th>\n",
       "      <td>DC</td>\n",
       "      <td>[31.66825, 42.730255, 8.845875]</td>\n",
       "      <td>[31.704876, 40.248123, 12.269251]</td>\n",
       "      <td>[35.831005, 43.051666, 10.074667]</td>\n",
       "    </tr>\n",
       "    <tr>\n",
       "      <th>1</th>\n",
       "      <td>DC</td>\n",
       "      <td>[26.24175, 45.035625, 4.273375]</td>\n",
       "      <td>[23.182625, 44.714127, 0.455]</td>\n",
       "      <td>[29.695, 42.822998, 5.7643332]</td>\n",
       "    </tr>\n",
       "  </tbody>\n",
       "</table>\n",
       "</div>"
      ],
      "text/plain": [
       "  residue                        sugar_com                           base_com  \\\n",
       "0      DC  [31.66825, 42.730255, 8.845875]  [31.704876, 40.248123, 12.269251]   \n",
       "1      DC  [26.24175, 45.035625, 4.273375]      [23.182625, 44.714127, 0.455]   \n",
       "\n",
       "                       phosphate_com  \n",
       "0  [35.831005, 43.051666, 10.074667]  \n",
       "1     [29.695, 42.822998, 5.7643332]  "
      ]
     },
     "execution_count": 6,
     "metadata": {},
     "output_type": "execute_result"
    }
   ],
   "source": [
    "dfs_ssdna.head()"
   ]
  },
  {
   "attachments": {},
   "cell_type": "markdown",
   "metadata": {},
   "source": [
    "Columns in ssDNA df: ['residue', 'sugar_com', 'base_com', 'phosphate_com']"
   ]
  },
  {
   "cell_type": "code",
   "execution_count": 9,
   "metadata": {},
   "outputs": [],
   "source": [
    "# For each residue in ssdna chain, find the closest residue in protein chain, \n",
    "# based on closest distance between CA atoms and base com.\n",
    "for i, row in dfs_ssdna.iterrows():\n",
    "    base_com = row[\"base_com\"]\n",
    "    closest_residue_ca_index = dfs_protein[\"ca_coords\"].apply(lambda x: np.linalg.norm(x - base_com)).idxmin()\n",
    "    closest_residue_ca_distance = np.linalg.norm(dfs_protein.loc[closest_residue_ca_index, \"ca_coords\"] - base_com)\n",
    "\n",
    "    closest_residue_sidechain_index = dfs_protein[\"sidechain_coms\"].dropna().apply(lambda x: np.linalg.norm(x - base_com)).idxmin()\n",
    "    closest_residue_sidechain_distance = np.linalg.norm(dfs_protein.loc[closest_residue_sidechain_index, \"sidechain_coms\"] - base_com)\n",
    "\n",
    "    # Add the closest residue to the ssdna dataframe\n",
    "    dfs_ssdna.loc[i, \"closest_residue_ca_index\"] = closest_residue_ca_index\n",
    "    dfs_ssdna.loc[i, \"closest_residue_ca_distance\"] = closest_residue_ca_distance\n",
    "\n",
    "    dfs_ssdna.loc[i, \"closest_residue_sidechain_index\"] = closest_residue_sidechain_index\n",
    "    dfs_ssdna.loc[i, \"closest_residue_sidechain_distance\"] = closest_residue_sidechain_distance"
   ]
  },
  {
   "cell_type": "code",
   "execution_count": 10,
   "metadata": {},
   "outputs": [
    {
     "name": "stdout",
     "output_type": "stream",
     "text": [
      "Closest residue to DC is PRO with distance 10.16\n",
      "Indices: 1, 62\n"
     ]
    }
   ],
   "source": [
    "print(f\"Closest residue to {row['residue']} is {dfs_protein.loc[closest_residue_ca_index, 'residue']} with distance {closest_residue_ca_distance:.2f}\")\n",
    "print(f\"Indices: {i}, {closest_residue_ca_index}\")"
   ]
  },
  {
   "cell_type": "code",
   "execution_count": 16,
   "metadata": {},
   "outputs": [
    {
     "name": "stdout",
     "output_type": "stream",
     "text": [
      "Closest residue to DC is ILE with distance 9.48\n",
      "Indices: 1, 60\n"
     ]
    }
   ],
   "source": [
    "print(f\"Closest residue to {row['residue']} is {dfs_protein.loc[closest_residue_sidechain_index, 'residue']} with distance {closest_residue_sidechain_distance:.2f}\")\n",
    "print(f\"Indices: {i}, {closest_residue_sidechain_index}\")"
   ]
  },
  {
   "cell_type": "code",
   "execution_count": 11,
   "metadata": {},
   "outputs": [
    {
     "data": {
      "text/html": [
       "<div>\n",
       "<style scoped>\n",
       "    .dataframe tbody tr th:only-of-type {\n",
       "        vertical-align: middle;\n",
       "    }\n",
       "\n",
       "    .dataframe tbody tr th {\n",
       "        vertical-align: top;\n",
       "    }\n",
       "\n",
       "    .dataframe thead th {\n",
       "        text-align: right;\n",
       "    }\n",
       "</style>\n",
       "<table border=\"1\" class=\"dataframe\">\n",
       "  <thead>\n",
       "    <tr style=\"text-align: right;\">\n",
       "      <th></th>\n",
       "      <th>residue</th>\n",
       "      <th>sugar_com</th>\n",
       "      <th>base_com</th>\n",
       "      <th>phosphate_com</th>\n",
       "      <th>closest_residue_ca_index</th>\n",
       "      <th>closest_residue_ca_distance</th>\n",
       "      <th>closest_residue_sidechain_index</th>\n",
       "      <th>closest_residue_sidechain_distance</th>\n",
       "    </tr>\n",
       "  </thead>\n",
       "  <tbody>\n",
       "    <tr>\n",
       "      <th>0</th>\n",
       "      <td>DC</td>\n",
       "      <td>[31.66825, 42.730255, 8.845875]</td>\n",
       "      <td>[31.704876, 40.248123, 12.269251]</td>\n",
       "      <td>[35.831005, 43.051666, 10.074667]</td>\n",
       "      <td>115</td>\n",
       "      <td>7.158820</td>\n",
       "      <td>115</td>\n",
       "      <td>6.094775</td>\n",
       "    </tr>\n",
       "    <tr>\n",
       "      <th>1</th>\n",
       "      <td>DC</td>\n",
       "      <td>[26.24175, 45.035625, 4.273375]</td>\n",
       "      <td>[23.182625, 44.714127, 0.455]</td>\n",
       "      <td>[29.695, 42.822998, 5.7643332]</td>\n",
       "      <td>62</td>\n",
       "      <td>10.164877</td>\n",
       "      <td>60</td>\n",
       "      <td>9.480768</td>\n",
       "    </tr>\n",
       "  </tbody>\n",
       "</table>\n",
       "</div>"
      ],
      "text/plain": [
       "  residue                        sugar_com                           base_com  \\\n",
       "0      DC  [31.66825, 42.730255, 8.845875]  [31.704876, 40.248123, 12.269251]   \n",
       "1      DC  [26.24175, 45.035625, 4.273375]      [23.182625, 44.714127, 0.455]   \n",
       "\n",
       "                       phosphate_com  closest_residue_ca_index  \\\n",
       "0  [35.831005, 43.051666, 10.074667]                       115   \n",
       "1     [29.695, 42.822998, 5.7643332]                        62   \n",
       "\n",
       "   closest_residue_ca_distance  closest_residue_sidechain_index  \\\n",
       "0                     7.158820                              115   \n",
       "1                    10.164877                               60   \n",
       "\n",
       "   closest_residue_sidechain_distance  \n",
       "0                            6.094775  \n",
       "1                            9.480768  "
      ]
     },
     "execution_count": 11,
     "metadata": {},
     "output_type": "execute_result"
    }
   ],
   "source": [
    "dfs_ssdna[\"closest_residue_ca_index\"] = dfs_ssdna[\"closest_residue_ca_index\"].astype(int)\n",
    "dfs_ssdna[\"closest_residue_sidechain_index\"] = dfs_ssdna[\"closest_residue_sidechain_index\"].astype(int)\n",
    "\n",
    "dfs_ssdna.head()"
   ]
  },
  {
   "cell_type": "code",
   "execution_count": 13,
   "metadata": {},
   "outputs": [],
   "source": [
    "dfs_ssdna[\"closest_residue_distance\"] = dfs_ssdna[[\"closest_residue_ca_distance\", \"closest_residue_sidechain_distance\"]].min(axis=1)"
   ]
  },
  {
   "cell_type": "code",
   "execution_count": 14,
   "metadata": {},
   "outputs": [
    {
     "data": {
      "text/html": [
       "<div>\n",
       "<style scoped>\n",
       "    .dataframe tbody tr th:only-of-type {\n",
       "        vertical-align: middle;\n",
       "    }\n",
       "\n",
       "    .dataframe tbody tr th {\n",
       "        vertical-align: top;\n",
       "    }\n",
       "\n",
       "    .dataframe thead th {\n",
       "        text-align: right;\n",
       "    }\n",
       "</style>\n",
       "<table border=\"1\" class=\"dataframe\">\n",
       "  <thead>\n",
       "    <tr style=\"text-align: right;\">\n",
       "      <th></th>\n",
       "      <th>residue</th>\n",
       "      <th>phosphate_com</th>\n",
       "      <th>closest_residue_ca_distance</th>\n",
       "      <th>closest_residue_sidechain_distance</th>\n",
       "      <th>closest_residue_distance</th>\n",
       "    </tr>\n",
       "  </thead>\n",
       "  <tbody>\n",
       "    <tr>\n",
       "      <th>0</th>\n",
       "      <td>DC</td>\n",
       "      <td>[35.831005, 43.051666, 10.074667]</td>\n",
       "      <td>7.158820</td>\n",
       "      <td>6.094775</td>\n",
       "      <td>6.094775</td>\n",
       "    </tr>\n",
       "    <tr>\n",
       "      <th>1</th>\n",
       "      <td>DC</td>\n",
       "      <td>[29.695, 42.822998, 5.7643332]</td>\n",
       "      <td>10.164877</td>\n",
       "      <td>9.480768</td>\n",
       "      <td>9.480768</td>\n",
       "    </tr>\n",
       "  </tbody>\n",
       "</table>\n",
       "</div>"
      ],
      "text/plain": [
       "  residue                      phosphate_com  closest_residue_ca_distance  \\\n",
       "0      DC  [35.831005, 43.051666, 10.074667]                     7.158820   \n",
       "1      DC     [29.695, 42.822998, 5.7643332]                    10.164877   \n",
       "\n",
       "   closest_residue_sidechain_distance  closest_residue_distance  \n",
       "0                            6.094775                  6.094775  \n",
       "1                            9.480768                  9.480768  "
      ]
     },
     "execution_count": 14,
     "metadata": {},
     "output_type": "execute_result"
    }
   ],
   "source": [
    "dfs_ssdna.drop([\"sugar_com\", \"base_com\", \"phosphate_com\", \"closest_residue_ca_index\", \"closest_residue_sidechain_index\"], axis=1, inplace=True)\n",
    "dfs_ssdna.head()"
   ]
  },
  {
   "cell_type": "code",
   "execution_count": 31,
   "metadata": {},
   "outputs": [
    {
     "name": "stdout",
     "output_type": "stream",
     "text": [
      "Nucleotide 1 in chain B has missing atoms.\n",
      "Nucleotide 1 in chain B has missing atoms.\n",
      "Nucleotide 1 in chain B has missing atoms.\n",
      "Nucleotide 9995 in chain B has missing atoms.\n",
      "Nucleotide 9 in chain B has missing atoms.\n",
      "Nucleotide 6 in chain C has missing atoms.\n",
      "Nucleotide 15 in chain C has missing atoms.\n",
      "Nucleotide 17 in chain C has missing atoms.\n",
      "Nucleotide 18 in chain C has missing atoms.\n",
      "Nucleotide 20 in chain C has missing atoms.\n",
      "Nucleotide 25 in chain C has missing atoms.\n",
      "Nucleotide 1 in chain B has missing atoms.\n",
      "Nucleotide 1 in chain F has missing atoms.\n",
      "Nucleotide 9 in chain G has missing atoms.\n",
      "Nucleotide 1 in chain L has missing atoms.\n",
      "Nucleotide 1 in chain H has missing atoms.\n",
      "Nucleotide 1 in chain I has missing atoms.\n",
      "Nucleotide 1 in chain C has missing atoms.\n",
      "Nucleotide 1 in chain D has missing atoms.\n",
      "Nucleotide 923 in chain C has missing atoms.\n",
      "Nucleotide 935 in chain D has missing atoms.\n",
      "Nucleotide 11 in chain D has missing atoms.\n",
      "Nucleotide 1 in chain B has missing atoms.\n",
      "Nucleotide 15 in chain B has missing atoms.\n",
      "Error processing 2CCZ.pdb\n",
      "Nucleotide 1 in chain A has missing atoms.\n",
      "Nucleotide 23 in chain A has missing atoms.\n",
      "Nucleotide 24 in chain A has missing atoms.\n",
      "Nucleotide 1 in chain A has missing atoms.\n",
      "Nucleotide 1 in chain B has missing atoms.\n",
      "Nucleotide 1 in chain C has missing atoms.\n",
      "Nucleotide 1 in chain D has missing atoms.\n",
      "Nucleotide 1 in chain E has missing atoms.\n",
      "Nucleotide 1 in chain F has missing atoms.\n",
      "Nucleotide 1 in chain A has missing atoms.\n",
      "Nucleotide 1 in chain B has missing atoms.\n",
      "Nucleotide 686 in chain B has missing atoms.\n",
      "Nucleotide 1 in chain D has missing atoms.\n",
      "Error processing 2VW9.pdb\n",
      "Nucleotide 2 in chain C has missing atoms.\n",
      "Nucleotide 3 in chain C has missing atoms.\n",
      "Error processing 2VYE.pdb\n",
      "Nucleotide 1 in chain A has missing atoms.\n",
      "Nucleotide 4 in chain B has missing atoms.\n",
      "Nucleotide 1 in chain C has missing atoms.\n",
      "Nucleotide 1 in chain D has missing atoms.\n",
      "Nucleotide 7 in chain A has missing atoms.\n",
      "Nucleotide 7 in chain B has missing atoms.\n",
      "Nucleotide 11 in chain B has missing atoms.\n",
      "Nucleotide 1 in chain B has missing atoms.\n",
      "Nucleotide 1 in chain D has missing atoms.\n",
      "Error processing 4HIK.pdb\n",
      "Nucleotide 1 in chain W has missing atoms.\n",
      "Nucleotide 1 in chain X has missing atoms.\n",
      "Nucleotide 1 in chain Y has missing atoms.\n",
      "Nucleotide 1 in chain Z has missing atoms.\n",
      "Nucleotide 5 in chain G has missing atoms.\n",
      "Nucleotide 8 in chain C has missing atoms.\n",
      "Nucleotide 8 in chain D has missing atoms.\n",
      "Nucleotide 9998 in chain B has missing atoms.\n",
      "Nucleotide 2 in chain B has missing atoms.\n",
      "Nucleotide 2 in chain C has missing atoms.\n",
      "Nucleotide 11 in chain C has missing atoms.\n",
      "Nucleotide 11 in chain D has missing atoms.\n",
      "Nucleotide 5 in chain D has missing atoms.\n",
      "Nucleotide 6 in chain F has missing atoms.\n",
      "Nucleotide 1 in chain B has missing atoms.\n",
      "Nucleotide 1 in chain B has missing atoms.\n",
      "Nucleotide 1 in chain B has missing atoms.\n",
      "Nucleotide 8 in chain B has missing atoms.\n",
      "Nucleotide 8 in chain C has missing atoms.\n",
      "Nucleotide 8 in chain D has missing atoms.\n",
      "Nucleotide 13 in chain C has missing atoms.\n",
      "Nucleotide 6 in chain D has missing atoms.\n",
      "Nucleotide 8 in chain D has missing atoms.\n",
      "Nucleotide 1 in chain B has missing atoms.\n",
      "Nucleotide 1 in chain B has missing atoms.\n",
      "Nucleotide 1 in chain B has missing atoms.\n"
     ]
    },
    {
     "data": {
      "text/html": [
       "<div>\n",
       "<style scoped>\n",
       "    .dataframe tbody tr th:only-of-type {\n",
       "        vertical-align: middle;\n",
       "    }\n",
       "\n",
       "    .dataframe tbody tr th {\n",
       "        vertical-align: top;\n",
       "    }\n",
       "\n",
       "    .dataframe thead th {\n",
       "        text-align: right;\n",
       "    }\n",
       "</style>\n",
       "<table border=\"1\" class=\"dataframe\">\n",
       "  <thead>\n",
       "    <tr style=\"text-align: right;\">\n",
       "      <th></th>\n",
       "      <th>residue</th>\n",
       "      <th>closest_residue_ca_distance</th>\n",
       "      <th>closest_residue_sidechain_distance</th>\n",
       "      <th>closest_residue_distance</th>\n",
       "    </tr>\n",
       "  </thead>\n",
       "  <tbody>\n",
       "    <tr>\n",
       "      <th>0</th>\n",
       "      <td>DT</td>\n",
       "      <td>5.671150</td>\n",
       "      <td>3.488274</td>\n",
       "      <td>3.488274</td>\n",
       "    </tr>\n",
       "    <tr>\n",
       "      <th>1</th>\n",
       "      <td>DT</td>\n",
       "      <td>6.140086</td>\n",
       "      <td>3.536165</td>\n",
       "      <td>3.536165</td>\n",
       "    </tr>\n",
       "    <tr>\n",
       "      <th>2</th>\n",
       "      <td>DT</td>\n",
       "      <td>6.640112</td>\n",
       "      <td>3.820036</td>\n",
       "      <td>3.820036</td>\n",
       "    </tr>\n",
       "    <tr>\n",
       "      <th>0</th>\n",
       "      <td>DA</td>\n",
       "      <td>7.190639</td>\n",
       "      <td>5.342240</td>\n",
       "      <td>5.342240</td>\n",
       "    </tr>\n",
       "    <tr>\n",
       "      <th>1</th>\n",
       "      <td>5HC</td>\n",
       "      <td>5.418911</td>\n",
       "      <td>4.080000</td>\n",
       "      <td>4.080000</td>\n",
       "    </tr>\n",
       "  </tbody>\n",
       "</table>\n",
       "</div>"
      ],
      "text/plain": [
       "  residue  closest_residue_ca_distance  closest_residue_sidechain_distance  \\\n",
       "0      DT                     5.671150                            3.488274   \n",
       "1      DT                     6.140086                            3.536165   \n",
       "2      DT                     6.640112                            3.820036   \n",
       "0      DA                     7.190639                            5.342240   \n",
       "1     5HC                     5.418911                            4.080000   \n",
       "\n",
       "   closest_residue_distance  \n",
       "0                  3.488274  \n",
       "1                  3.536165  \n",
       "2                  3.820036  \n",
       "0                  5.342240  \n",
       "1                  4.080000  "
      ]
     },
     "execution_count": 31,
     "metadata": {},
     "output_type": "execute_result"
    }
   ],
   "source": [
    "df_data = pd.DataFrame()\n",
    "for pdb_name in pdb_list:\n",
    "    try:\n",
    "        dfs, chain_types = process_pdb(pdb_name, pdbs_folder)\n",
    "    except:\n",
    "        print(f\"Error processing {pdb_name}\")\n",
    "        continue\n",
    "\n",
    "    df_ssdna = [df for df, chain_type in zip(dfs, chain_types) if chain_type == \"ssdna\"]\n",
    "    if len(df_ssdna) == 0:\n",
    "        continue\n",
    "    elif len(df_ssdna) > 1:\n",
    "        df_ssdna = pd.concat(df_ssdna)\n",
    "        df_ssdna.reset_index(inplace=True, drop=True)\n",
    "    else:\n",
    "        df_ssdna = df_ssdna[0]\n",
    "\n",
    "    df_protein = [df for df, chain_type in zip(dfs, chain_types) if chain_type == \"protein\"]\n",
    "    if len(df_protein) > 1:\n",
    "        df_protein = pd.concat(df_protein)\n",
    "        df_protein.reset_index(inplace=True, drop=True)\n",
    "    else:\n",
    "        df_protein = df_protein[0]\n",
    "\n",
    "    for i, row in df_ssdna.iterrows():\n",
    "        base_com = row[\"base_com\"]\n",
    "        closest_residue_ca_index = df_protein[\"ca_coords\"].apply(lambda x: np.linalg.norm(x - base_com)).idxmin()\n",
    "        closest_residue_ca_distance = np.linalg.norm(df_protein.loc[closest_residue_ca_index, \"ca_coords\"] - base_com)\n",
    "\n",
    "        closest_residue_sidechain_index = df_protein[\"sidechain_coms\"].dropna().apply(lambda x: np.linalg.norm(x - base_com)).idxmin()\n",
    "        closest_residue_sidechain_distance = np.linalg.norm(df_protein.loc[closest_residue_sidechain_index, \"sidechain_coms\"] - base_com)\n",
    "\n",
    "        df_ssdna.loc[i, \"closest_residue_ca_distance\"] = closest_residue_ca_distance\n",
    "        df_ssdna.loc[i, \"closest_residue_sidechain_distance\"] = closest_residue_sidechain_distance\n",
    "\n",
    "\n",
    "    df_ssdna[\"closest_residue_distance\"] = df_ssdna[[\"closest_residue_ca_distance\", \"closest_residue_sidechain_distance\"]].min(axis=1)\n",
    "\n",
    "    df_ssdna.drop([\"sugar_com\", \"base_com\", \"phosphate_com\"], axis=1, inplace=True)\n",
    "\n",
    "    # Concat to existing dataframe\n",
    "    df_data = pd.concat([df_data, df_ssdna])\n",
    "\n",
    "df_data.head()"
   ]
  },
  {
   "cell_type": "code",
   "execution_count": 32,
   "metadata": {},
   "outputs": [],
   "source": [
    "# Remove rows where the closest residue is not a nucleotide residue\n",
    "df_data = df_data[df_data[\"residue\"].isin([\"DA\", \"DC\", \"DG\", \"DT\"])]"
   ]
  },
  {
   "cell_type": "code",
   "execution_count": 35,
   "metadata": {},
   "outputs": [],
   "source": [
    "df_data.columns = ['nu', 'closest_residue_ca_distance',\n",
    "       'closest_residue_sidechain_distance', 'closest_residue_distance']"
   ]
  },
  {
   "cell_type": "code",
   "execution_count": 36,
   "metadata": {},
   "outputs": [
    {
     "data": {
      "text/html": [
       "<div>\n",
       "<style scoped>\n",
       "    .dataframe tbody tr th:only-of-type {\n",
       "        vertical-align: middle;\n",
       "    }\n",
       "\n",
       "    .dataframe tbody tr th {\n",
       "        vertical-align: top;\n",
       "    }\n",
       "\n",
       "    .dataframe thead th {\n",
       "        text-align: right;\n",
       "    }\n",
       "</style>\n",
       "<table border=\"1\" class=\"dataframe\">\n",
       "  <thead>\n",
       "    <tr style=\"text-align: right;\">\n",
       "      <th></th>\n",
       "      <th>nu</th>\n",
       "      <th>closest_residue_ca_distance</th>\n",
       "      <th>closest_residue_sidechain_distance</th>\n",
       "      <th>closest_residue_distance</th>\n",
       "    </tr>\n",
       "  </thead>\n",
       "  <tbody>\n",
       "    <tr>\n",
       "      <th>0</th>\n",
       "      <td>DT</td>\n",
       "      <td>5.671150</td>\n",
       "      <td>3.488274</td>\n",
       "      <td>3.488274</td>\n",
       "    </tr>\n",
       "    <tr>\n",
       "      <th>1</th>\n",
       "      <td>DT</td>\n",
       "      <td>6.140086</td>\n",
       "      <td>3.536165</td>\n",
       "      <td>3.536165</td>\n",
       "    </tr>\n",
       "    <tr>\n",
       "      <th>2</th>\n",
       "      <td>DT</td>\n",
       "      <td>6.640112</td>\n",
       "      <td>3.820036</td>\n",
       "      <td>3.820036</td>\n",
       "    </tr>\n",
       "    <tr>\n",
       "      <th>0</th>\n",
       "      <td>DA</td>\n",
       "      <td>7.190639</td>\n",
       "      <td>5.342240</td>\n",
       "      <td>5.342240</td>\n",
       "    </tr>\n",
       "    <tr>\n",
       "      <th>2</th>\n",
       "      <td>DA</td>\n",
       "      <td>5.056645</td>\n",
       "      <td>3.587384</td>\n",
       "      <td>3.587384</td>\n",
       "    </tr>\n",
       "  </tbody>\n",
       "</table>\n",
       "</div>"
      ],
      "text/plain": [
       "   nu  closest_residue_ca_distance  closest_residue_sidechain_distance  \\\n",
       "0  DT                     5.671150                            3.488274   \n",
       "1  DT                     6.140086                            3.536165   \n",
       "2  DT                     6.640112                            3.820036   \n",
       "0  DA                     7.190639                            5.342240   \n",
       "2  DA                     5.056645                            3.587384   \n",
       "\n",
       "   closest_residue_distance  \n",
       "0                  3.488274  \n",
       "1                  3.536165  \n",
       "2                  3.820036  \n",
       "0                  5.342240  \n",
       "2                  3.587384  "
      ]
     },
     "execution_count": 36,
     "metadata": {},
     "output_type": "execute_result"
    }
   ],
   "source": [
    "df_data.head()"
   ]
  },
  {
   "cell_type": "code",
   "execution_count": 43,
   "metadata": {},
   "outputs": [
    {
     "data": {
      "image/png": "[encoded data removed]",
      "text/plain": [
       "<Figure size 1271.5x400 with 1 Axes>"
      ]
     },
     "metadata": {},
     "output_type": "display_data"
    }
   ],
   "source": [
    "plot = sns.FacetGrid(data=df_data, hue=\"nu\", height=5)\n",
    "plot.figure.set_size_inches(12, 4)\n",
    "plot.figure.suptitle(\"Distance between ssDNA and closest protein residue\", fontsize=16)\n",
    "plot.map(sns.histplot, \"closest_residue_distance\", bins=100)\n",
    "plot.add_legend()\n",
    "plot.set_axis_labels(\"Distance (Å)\", \"Count\")\n",
    "plot.savefig(\"ssdna_protein_distance.png\", dpi=300)\n",
    "\n",
    "\n"
   ]
  },
  {
   "cell_type": "code",
   "execution_count": 45,
   "metadata": {},
   "outputs": [
    {
     "data": {
      "image/png": "[encoded data removed]",
      "text/plain": [
       "<Figure size 1271.5x400 with 1 Axes>"
      ]
     },
     "metadata": {},
     "output_type": "display_data"
    }
   ],
   "source": [
    "plot = sns.FacetGrid(data=df_data, hue=\"nu\", height=5)\n",
    "plot.figure.set_size_inches(12, 4)\n",
    "plot.figure.suptitle(\"Distance between ssDNA and closest protein residue ( sidechain )\", fontsize=16)\n",
    "plot.map(sns.histplot, \"closest_residue_sidechain_distance\", bins=100)\n",
    "plot.add_legend()\n",
    "plot.set_axis_labels(\"Distance (Å)\", \"Count\")\n",
    "plot.savefig(\"ssdna_protein_distance.png\", dpi=300)"
   ]
  },
  {
   "cell_type": "code",
   "execution_count": 46,
   "metadata": {},
   "outputs": [
    {
     "data": {
      "image/png": "[encoded data removed]",
      "text/plain": [
       "<Figure size 1271.5x400 with 1 Axes>"
      ]
     },
     "metadata": {},
     "output_type": "display_data"
    }
   ],
   "source": [
    "plot = sns.FacetGrid(data=df_data, hue=\"nu\", height=5)\n",
    "plot.figure.set_size_inches(12, 4)\n",
    "plot.figure.suptitle(\"Distance between ssDNA and closest protein residue ( backbone )\", fontsize=16)\n",
    "plot.map(sns.histplot, \"closest_residue_ca_distance\", bins=100)\n",
    "plot.add_legend()\n",
    "plot.set_axis_labels(\"Distance (Å)\", \"Count\")\n",
    "plot.savefig(\"ssdna_protein_distance.png\", dpi=300)"
   ]
  },
  {
   "cell_type": "code",
   "execution_count": null,
   "metadata": {},
   "outputs": [],
   "source": []
  }
 ],
 "metadata": {
  "kernelspec": {
   "display_name": "bio",
   "language": "python",
   "name": "python3"
  },
  "language_info": {
   "codemirror_mode": {
    "name": "ipython",
    "version": 3
   },
   "file_extension": ".py",
   "mimetype": "text/x-python",
   "name": "python",
   "nbconvert_exporter": "python",
   "pygments_lexer": "ipython3",
   "version": "3.8.15"
  },
  "orig_nbformat": 4
 },
 "nbformat": 4,
 "nbformat_minor": 2
}
