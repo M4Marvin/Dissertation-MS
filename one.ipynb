{
 "cells": [
  {
   "cell_type": "code",
   "execution_count": 1,
   "metadata": {},
   "outputs": [],
   "source": [
    "import numpy as np\n",
    "import matplotlib as mpl\n",
    "import matplotlib.pyplot as plt\n",
    "import mdtraj as md\n",
    "import os\n",
    "import math\n",
    "import time\n",
    "from sys import exit"
   ]
  },
  {
   "cell_type": "code",
   "execution_count": 2,
   "metadata": {},
   "outputs": [
    {
     "data": {
      "text/plain": [
       "'1.24.3'"
      ]
     },
     "execution_count": 2,
     "metadata": {},
     "output_type": "execute_result"
    }
   ],
   "source": [
    "np.__version__"
   ]
  },
  {
   "cell_type": "code",
   "execution_count": 2,
   "metadata": {},
   "outputs": [],
   "source": [
    "residue_names = ['ALA', 'ARG', 'ASN','ASP', 'CYS', 'GLU', 'GLN', 'GLY', 'HIS', 'HYP', 'ILE', 'LEU', 'LYS'\n",
    "    ,'MET', 'PHE', 'PRO', 'SER', 'THR', 'TRP', 'TYR', 'VAL']\n",
    "\n",
    "nucleotide_names = ['DA', 'DT', 'DG', 'DC']"
   ]
  },
  {
   "cell_type": "code",
   "execution_count": 3,
   "metadata": {},
   "outputs": [],
   "source": [
    "phosphate_atoms = ['OP1', 'OP2', 'P']\n",
    "sugar_atoms = ['C1\\'', 'C2\\'', 'C3\\'', 'C4\\'', 'C5\\'', 'O3\\'', 'O4\\'', 'O5\\'']"
   ]
  },
  {
   "cell_type": "code",
   "execution_count": 4,
   "metadata": {},
   "outputs": [],
   "source": [
    "def remove_water(traj):\n",
    "    \"\"\"\n",
    "    Removes water molecules from a mdtraj.Trajectory object.\n",
    "    \n",
    "    Parameters\n",
    "    ----------\n",
    "    traj : mdtraj.Trajectory\n",
    "        The input trajectory.\n",
    "    \n",
    "    Returns\n",
    "    -------\n",
    "    mdtraj.Trajectory\n",
    "        The output trajectory containing only non-water atoms.\n",
    "    \"\"\"\n",
    "    # Select all non-water atoms\n",
    "    non_water_atoms = traj.topology.select(\"not water\")\n",
    "\n",
    "    # Create a new trajectory containing only the non-water atoms\n",
    "    traj_no_water = traj.atom_slice(non_water_atoms)\n",
    "\n",
    "    return traj_no_water\n",
    "\n",
    "def remove_hyrdogen(traj):\n",
    "    \"\"\"\n",
    "    Removes hydrogen atoms from a mdtraj.Trajectory object.\n",
    "    \n",
    "    Parameters\n",
    "    ----------\n",
    "    traj : mdtraj.Trajectory\n",
    "        The input trajectory.\n",
    "    \n",
    "    Returns\n",
    "    -------\n",
    "    mdtraj.Trajectory\n",
    "        The output trajectory containing only non-hydrogen atoms.\n",
    "    \"\"\"\n",
    "    # Select all non-hydrogen atoms\n",
    "    non_hydrogen_atoms = traj.topology.select(\"not element H\")\n",
    "\n",
    "    # Create a new trajectory containing only the non-hydrogen atoms\n",
    "    traj_no_hydrogen = traj.atom_slice(non_hydrogen_atoms)\n",
    "\n",
    "    return traj_no_hydrogen"
   ]
  },
  {
   "cell_type": "code",
   "execution_count": 28,
   "metadata": {},
   "outputs": [],
   "source": [
    "data_folder = './data/ssDNA_binding_proteins_complex'"
   ]
  },
  {
   "cell_type": "code",
   "execution_count": 29,
   "metadata": {},
   "outputs": [
    {
     "name": "stderr",
     "output_type": "stream",
     "text": [
      "/Users/marvinprakash/anaconda3/envs/bio/lib/python3.8/site-packages/mdtraj/formats/pdb/pdbfile.py:200: UserWarning: Unlikely unit cell vectors detected in PDB file likely resulting from a dummy CRYST1 record. Discarding unit cell vectors.\n",
      "  warnings.warn('Unlikely unit cell vectors detected in PDB file likely '\n"
     ]
    }
   ],
   "source": [
    "file_name = '8DFA.pdb'\n",
    "file_path = os.path.join(data_folder, file_name)\n",
    "\n",
    "traj = md.load_pdb(file_path) "
   ]
  },
  {
   "cell_type": "code",
   "execution_count": 30,
   "metadata": {},
   "outputs": [
    {
     "name": "stdout",
     "output_type": "stream",
     "text": [
      "46813\n",
      "46813\n",
      "23790\n"
     ]
    }
   ],
   "source": [
    "print(traj.n_atoms)\n",
    "# Remove water\n",
    "traj = remove_water(traj)\n",
    "\n",
    "print(traj.n_atoms)\n",
    "# Remove hydrogen\n",
    "traj = remove_hyrdogen(traj)\n",
    "\n",
    "print(traj.n_atoms)\n",
    "\n",
    "# Remove ligands\n",
    "# traj = remove_ligands(traj)"
   ]
  },
  {
   "cell_type": "code",
   "execution_count": 33,
   "metadata": {},
   "outputs": [],
   "source": [
    "n_atoms = traj.n_residues\n",
    "bond_info = {'indices': np.array([[i,i+1] for i in range(n_atoms - 1)])}"
   ]
  },
  {
   "cell_type": "code",
   "execution_count": 56,
   "metadata": {},
   "outputs": [
    {
     "data": {
      "text/plain": [
       "<mdtraj.Trajectory with 1 frames, 464 atoms, 464 residues, and unitcells at 0x15bd28430>"
      ]
     },
     "execution_count": 56,
     "metadata": {},
     "output_type": "execute_result"
    }
   ],
   "source": [
    "top = traj.topology\n",
    "ca_indices = top.select('name CA')\n",
    "\n",
    "top_ca = top.subset(ca_indices)\n",
    "top_ca\n",
    "\n",
    "traj_ca = traj.atom_slice(ca_indices)\n",
    "traj_ca"
   ]
  },
  {
   "cell_type": "code",
   "execution_count": 8,
   "metadata": {},
   "outputs": [],
   "source": [
    "def get_chains(file_path:str):\n",
    "    # Load the traj\n",
    "    traj = md.load_pdb(file_path)\n",
    "    # Remove water\n",
    "    traj = remove_water(traj)\n",
    "    top = traj.topology\n",
    "    chains = {}\n",
    "    for chain in top.chains:\n",
    "        # print(list(chain.residues))\n",
    "        first_residue = chain.residue(0).name\n",
    "        if first_residue in residue_names:\n",
    "            chain_type = 'protein'\n",
    "        elif first_residue in nucleotide_names:\n",
    "            chain_type = 'ssDNA'\n",
    "        else:\n",
    "            continue\n",
    "        chains[chain.index] = {\n",
    "            'residues': list(chain.residues),\n",
    "            'type': chain_type,\n",
    "            'residue_names': [x.name for x in chain.residues]\n",
    "        }\n",
    "    return chains\n",
    "    "
   ]
  },
  {
   "cell_type": "code",
   "execution_count": 9,
   "metadata": {},
   "outputs": [],
   "source": [
    "def remove_dimers(chains):\n",
    "    for chain in chains.values():\n",
    "        if chain['type'] == 'ssDNA':\n",
    "            continue\n",
    "        # Check if the chain's residue name list is a subarray of others\n",
    "        for other_chain in chains.values():\n",
    "            if chain == other_chain:\n",
    "                continue\n",
    "            if chain['residue_names'] in other_chain['residue_names']:\n",
    "                chains.pop(chain)\n",
    "                break\n",
    "    return chains   "
   ]
  },
  {
   "cell_type": "code",
   "execution_count": 19,
   "metadata": {},
   "outputs": [
    {
     "data": {
      "text/plain": [
       "['__class__',\n",
       " '__copy__',\n",
       " '__deepcopy__',\n",
       " '__delattr__',\n",
       " '__dict__',\n",
       " '__dir__',\n",
       " '__doc__',\n",
       " '__eq__',\n",
       " '__format__',\n",
       " '__ge__',\n",
       " '__getattribute__',\n",
       " '__gt__',\n",
       " '__hash__',\n",
       " '__init__',\n",
       " '__init_subclass__',\n",
       " '__le__',\n",
       " '__lt__',\n",
       " '__module__',\n",
       " '__ne__',\n",
       " '__new__',\n",
       " '__reduce__',\n",
       " '__reduce_ex__',\n",
       " '__repr__',\n",
       " '__setattr__',\n",
       " '__sizeof__',\n",
       " '__str__',\n",
       " '__subclasshook__',\n",
       " '__weakref__',\n",
       " '_atoms',\n",
       " '_bonds',\n",
       " '_chains',\n",
       " '_numAtoms',\n",
       " '_numResidues',\n",
       " '_residues',\n",
       " '_standardBonds',\n",
       " '_string_summary_basic',\n",
       " '_unique_pairs',\n",
       " '_unique_pairs_equal',\n",
       " '_unique_pairs_mutually_exclusive',\n",
       " 'add_atom',\n",
       " 'add_bond',\n",
       " 'add_chain',\n",
       " 'add_residue',\n",
       " 'atom',\n",
       " 'atoms',\n",
       " 'atoms_by_name',\n",
       " 'bonds',\n",
       " 'chain',\n",
       " 'chains',\n",
       " 'copy',\n",
       " 'create_disulfide_bonds',\n",
       " 'create_standard_bonds',\n",
       " 'delete_atom_by_index',\n",
       " 'find_molecules',\n",
       " 'from_dataframe',\n",
       " 'from_openmm',\n",
       " 'guess_anchor_molecules',\n",
       " 'insert_atom',\n",
       " 'join',\n",
       " 'n_atoms',\n",
       " 'n_bonds',\n",
       " 'n_chains',\n",
       " 'n_residues',\n",
       " 'residue',\n",
       " 'residues',\n",
       " 'select',\n",
       " 'select_atom_indices',\n",
       " 'select_expression',\n",
       " 'select_pairs',\n",
       " 'subset',\n",
       " 'to_bondgraph',\n",
       " 'to_dataframe',\n",
       " 'to_fasta',\n",
       " 'to_openmm']"
      ]
     },
     "execution_count": 19,
     "metadata": {},
     "output_type": "execute_result"
    }
   ],
   "source": [
    "dir(traj.topology)"
   ]
  },
  {
   "cell_type": "code",
   "execution_count": 20,
   "metadata": {},
   "outputs": [
    {
     "name": "stderr",
     "output_type": "stream",
     "text": [
      "/Users/marvinprakash/anaconda3/envs/bio/lib/python3.8/site-packages/mdtraj/formats/pdb/pdbfile.py:200: UserWarning: Unlikely unit cell vectors detected in PDB file likely resulting from a dummy CRYST1 record. Discarding unit cell vectors.\n",
      "  warnings.warn('Unlikely unit cell vectors detected in PDB file likely '\n"
     ]
    },
    {
     "name": "stdout",
     "output_type": "stream",
     "text": [
      "<mdtraj.core.topology.Chain object at 0x146f69c40>\n",
      "<mdtraj.core.topology.Chain object at 0x12fa253d0>\n",
      "<mdtraj.core.topology.Chain object at 0x12fdf19d0>\n",
      "<mdtraj.core.topology.Chain object at 0x144a88490>\n",
      "<mdtraj.core.topology.Chain object at 0x1453a75b0>\n",
      "<mdtraj.core.topology.Chain object at 0x14617b070>\n",
      "<mdtraj.core.topology.Chain object at 0x146c09af0>\n",
      "<mdtraj.core.topology.Chain object at 0x146e9a220>\n",
      "<mdtraj.core.topology.Chain object at 0x147238ca0>\n",
      "<mdtraj.core.topology.Chain object at 0x12fa76760>\n",
      "<mdtraj.core.topology.Chain object at 0x12fca30d0>\n",
      "<mdtraj.core.topology.Chain object at 0x12fe37d00>\n",
      "<mdtraj.core.topology.Chain object at 0x12fe59970>\n"
     ]
    },
    {
     "ename": "ValueError",
     "evalue": "xyz must be shape (Any, 1480, 3). You supplied  (1, 46813, 3)",
     "output_type": "error",
     "traceback": [
      "\u001b[0;31m---------------------------------------------------------------------------\u001b[0m",
      "\u001b[0;31mValueError\u001b[0m                                Traceback (most recent call last)",
      "\u001b[1;32m/Users/marvinprakash/Codes/Dissertation/one.ipynb Cell 13\u001b[0m in \u001b[0;36m1\n\u001b[1;32m     <a href='vscode-notebook-cell:/Users/marvinprakash/Codes/Dissertation/one.ipynb#X26sZmlsZQ%3D%3D?line=9'>10</a>\u001b[0m new_topology \u001b[39m=\u001b[39m traj\u001b[39m.\u001b[39mtopology\u001b[39m.\u001b[39msubset([atom\u001b[39m.\u001b[39mindex \u001b[39mfor\u001b[39;00m atom \u001b[39min\u001b[39;00m traj\u001b[39m.\u001b[39mtopology\u001b[39m.\u001b[39matoms \u001b[39mif\u001b[39;00m atom\u001b[39m.\u001b[39mresidue\u001b[39m.\u001b[39mchain\u001b[39m.\u001b[39mindex \u001b[39mnot\u001b[39;00m \u001b[39min\u001b[39;00m remaining_chain_indices])\n\u001b[1;32m     <a href='vscode-notebook-cell:/Users/marvinprakash/Codes/Dissertation/one.ipynb#X26sZmlsZQ%3D%3D?line=11'>12</a>\u001b[0m \u001b[39m# Create a new trajectory with the updated topology\u001b[39;00m\n\u001b[0;32m---> <a href='vscode-notebook-cell:/Users/marvinprakash/Codes/Dissertation/one.ipynb#X26sZmlsZQ%3D%3D?line=12'>13</a>\u001b[0m new_traj \u001b[39m=\u001b[39m md\u001b[39m.\u001b[39;49mTrajectory(xyz\u001b[39m=\u001b[39;49mtraj\u001b[39m.\u001b[39;49mxyz, topology\u001b[39m=\u001b[39;49mnew_topology)\n\u001b[1;32m     <a href='vscode-notebook-cell:/Users/marvinprakash/Codes/Dissertation/one.ipynb#X26sZmlsZQ%3D%3D?line=14'>15</a>\u001b[0m filtered_data_folder \u001b[39m=\u001b[39m \u001b[39m\"\u001b[39m\u001b[39m./data/processed_pdbs\u001b[39m\u001b[39m\"\u001b[39m\n\u001b[1;32m     <a href='vscode-notebook-cell:/Users/marvinprakash/Codes/Dissertation/one.ipynb#X26sZmlsZQ%3D%3D?line=15'>16</a>\u001b[0m \u001b[39m# Save the new trajectory\u001b[39;00m\n",
      "File \u001b[0;32m~/anaconda3/envs/bio/lib/python3.8/site-packages/mdtraj/core/trajectory.py:1226\u001b[0m, in \u001b[0;36mTrajectory.__init__\u001b[0;34m(self, xyz, topology, time, unitcell_lengths, unitcell_angles)\u001b[0m\n\u001b[1;32m   1222\u001b[0m \u001b[39mdef\u001b[39;00m \u001b[39m__init__\u001b[39m(\u001b[39mself\u001b[39m, xyz, topology, time\u001b[39m=\u001b[39m\u001b[39mNone\u001b[39;00m, unitcell_lengths\u001b[39m=\u001b[39m\u001b[39mNone\u001b[39;00m, unitcell_angles\u001b[39m=\u001b[39m\u001b[39mNone\u001b[39;00m):\n\u001b[1;32m   1223\u001b[0m     \u001b[39m# install the topology into the object first, so that when setting\u001b[39;00m\n\u001b[1;32m   1224\u001b[0m     \u001b[39m# the xyz, we can check that it lines up (e.g. n_atoms), with the topology\u001b[39;00m\n\u001b[1;32m   1225\u001b[0m     \u001b[39mself\u001b[39m\u001b[39m.\u001b[39mtopology \u001b[39m=\u001b[39m topology\n\u001b[0;32m-> 1226\u001b[0m     \u001b[39mself\u001b[39;49m\u001b[39m.\u001b[39;49mxyz \u001b[39m=\u001b[39m xyz\n\u001b[1;32m   1228\u001b[0m     \u001b[39m# _rmsd_traces are the inner product of each centered conformation,\u001b[39;00m\n\u001b[1;32m   1229\u001b[0m     \u001b[39m# which are required for computing RMSD. Normally these values are\u001b[39;00m\n\u001b[1;32m   1230\u001b[0m     \u001b[39m# calculated on the fly in the cython code (rmsd/_rmsd.pyx), but\u001b[39;00m\n\u001b[0;32m   (...)\u001b[0m\n\u001b[1;32m   1234\u001b[0m     \u001b[39m# self._rmsd_traces. This array is populated computed by\u001b[39;00m\n\u001b[1;32m   1235\u001b[0m     \u001b[39m# center_conformations, and no other methods should really touch it.\u001b[39;00m\n\u001b[1;32m   1236\u001b[0m     \u001b[39mself\u001b[39m\u001b[39m.\u001b[39m_rmsd_traces \u001b[39m=\u001b[39m \u001b[39mNone\u001b[39;00m\n",
      "File \u001b[0;32m~/anaconda3/envs/bio/lib/python3.8/site-packages/mdtraj/core/trajectory.py:939\u001b[0m, in \u001b[0;36mTrajectory.xyz\u001b[0;34m(self, value)\u001b[0m\n\u001b[1;32m    936\u001b[0m \u001b[39melse\u001b[39;00m:\n\u001b[1;32m    937\u001b[0m     shape \u001b[39m=\u001b[39m (\u001b[39mNone\u001b[39;00m, \u001b[39mNone\u001b[39;00m, \u001b[39m3\u001b[39m)\n\u001b[0;32m--> 939\u001b[0m value \u001b[39m=\u001b[39m ensure_type(value, np\u001b[39m.\u001b[39;49mfloat32, \u001b[39m3\u001b[39;49m, \u001b[39m'\u001b[39;49m\u001b[39mxyz\u001b[39;49m\u001b[39m'\u001b[39;49m, shape\u001b[39m=\u001b[39;49mshape,\n\u001b[1;32m    940\u001b[0m                     warn_on_cast\u001b[39m=\u001b[39;49m\u001b[39mFalse\u001b[39;49;00m, add_newaxis_on_deficient_ndim\u001b[39m=\u001b[39;49m\u001b[39mTrue\u001b[39;49;00m)\n\u001b[1;32m    941\u001b[0m \u001b[39mself\u001b[39m\u001b[39m.\u001b[39m_xyz \u001b[39m=\u001b[39m value\n\u001b[1;32m    942\u001b[0m \u001b[39mself\u001b[39m\u001b[39m.\u001b[39m_rmsd_traces \u001b[39m=\u001b[39m \u001b[39mNone\u001b[39;00m\n",
      "File \u001b[0;32m~/anaconda3/envs/bio/lib/python3.8/site-packages/mdtraj/utils/validation.py:148\u001b[0m, in \u001b[0;36mensure_type\u001b[0;34m(val, dtype, ndim, name, length, can_be_none, shape, warn_on_cast, add_newaxis_on_deficient_ndim)\u001b[0m\n\u001b[1;32m    145\u001b[0m             \u001b[39mcontinue\u001b[39;00m\n\u001b[1;32m    146\u001b[0m         \u001b[39mif\u001b[39;00m a \u001b[39m!=\u001b[39m b:\n\u001b[1;32m    147\u001b[0m             \u001b[39m# check for equality\u001b[39;00m\n\u001b[0;32m--> 148\u001b[0m             \u001b[39mraise\u001b[39;00m error\n\u001b[1;32m    150\u001b[0m \u001b[39mreturn\u001b[39;00m val\n",
      "\u001b[0;31mValueError\u001b[0m: xyz must be shape (Any, 1480, 3). You supplied  (1, 46813, 3)"
     ]
    }
   ],
   "source": [
    "chains = get_chains(file_path)\n",
    "chains = remove_dimers(chains)\n",
    "remaining_chain_indices = list(chains.keys())\n",
    "\n",
    "top = traj.topology\n",
    "for chain in top.chains:\n",
    "    if \n",
    "    \n",
    "\n",
    "# Remove chains not in the new list indices\n",
    "new_topology = traj.topology.subset([atom.index for atom in traj.topology.atoms if atom.residue.chain.index not in remaining_chain_indices])\n",
    "\n",
    "# Create a new trajectory with the updated topology\n",
    "new_traj = md.Trajectory(xyz=traj.xyz, topology=new_topology)\n",
    "\n",
    "filtered_data_folder = \"./data/processed_pdbs\"\n",
    "# Save the new trajectory\n",
    "new_traj.save_pdb(os.path.join(filtered_data_folder, file_name))\n"
   ]
  },
  {
   "cell_type": "code",
   "execution_count": null,
   "metadata": {},
   "outputs": [],
   "source": []
  },
  {
   "cell_type": "code",
   "execution_count": 18,
   "metadata": {},
   "outputs": [
    {
     "data": {
      "text/plain": [
       "{'residues': [DT16,\n",
       "  DC17,\n",
       "  DG18,\n",
       "  DC19,\n",
       "  DC20,\n",
       "  DA21,\n",
       "  DG22,\n",
       "  DC23,\n",
       "  DC24,\n",
       "  DT25,\n",
       "  DG26,\n",
       "  DA27,\n",
       "  DG28,\n",
       "  DC29,\n",
       "  DA30,\n",
       "  DT31,\n",
       "  DG32,\n",
       "  DG33],\n",
       " 'type': 'ssDNA',\n",
       " 'residue_names': ['DT',\n",
       "  'DC',\n",
       "  'DG',\n",
       "  'DC',\n",
       "  'DC',\n",
       "  'DA',\n",
       "  'DG',\n",
       "  'DC',\n",
       "  'DC',\n",
       "  'DT',\n",
       "  'DG',\n",
       "  'DA',\n",
       "  'DG',\n",
       "  'DC',\n",
       "  'DA',\n",
       "  'DT',\n",
       "  'DG',\n",
       "  'DG']}"
      ]
     },
     "execution_count": 18,
     "metadata": {},
     "output_type": "execute_result"
    }
   ],
   "source": [
    "(list(chains.values()))[11]"
   ]
  },
  {
   "cell_type": "code",
   "execution_count": 35,
   "metadata": {},
   "outputs": [
    {
     "data": {
      "text/plain": [
       "['__class__',\n",
       " '__delattr__',\n",
       " '__dict__',\n",
       " '__dir__',\n",
       " '__doc__',\n",
       " '__eq__',\n",
       " '__format__',\n",
       " '__ge__',\n",
       " '__getattribute__',\n",
       " '__gt__',\n",
       " '__hash__',\n",
       " '__init__',\n",
       " '__init_subclass__',\n",
       " '__le__',\n",
       " '__lt__',\n",
       " '__module__',\n",
       " '__ne__',\n",
       " '__new__',\n",
       " '__reduce__',\n",
       " '__reduce_ex__',\n",
       " '__repr__',\n",
       " '__setattr__',\n",
       " '__sizeof__',\n",
       " '__str__',\n",
       " '__subclasshook__',\n",
       " '__weakref__',\n",
       " 'element',\n",
       " 'index',\n",
       " 'is_backbone',\n",
       " 'is_sidechain',\n",
       " 'n_bonds',\n",
       " 'name',\n",
       " 'residue',\n",
       " 'segment_id',\n",
       " 'serial']"
      ]
     },
     "execution_count": 35,
     "metadata": {},
     "output_type": "execute_result"
    }
   ],
   "source": [
    "chain1 = chains[0]['residues']\n",
    "dir(chain1[0].atom(1))"
   ]
  },
  {
   "cell_type": "code",
   "execution_count": 17,
   "metadata": {},
   "outputs": [
    {
     "name": "stdout",
     "output_type": "stream",
     "text": [
      "P OP1 OP2 O5' C5' C4' O4' C3' O3' C2' C1' N1 C2 O2 N3 C4 O4 C5 C7 C6 H5' H5'' H4' H3' H2' H2'' H1' H3 H71 H72 H73 H6 "
     ]
    }
   ],
   "source": [
    "atoms = [x.name for x in list(chain_temp['residues'][0].atoms)]\n",
    "for atom in atoms:\n",
    "    print(atom, end=\" \")"
   ]
  },
  {
   "cell_type": "code",
   "execution_count": 9,
   "metadata": {},
   "outputs": [
    {
     "data": {
      "text/plain": [
       "<generator object Topology.residues at 0x1589cdd60>"
      ]
     },
     "execution_count": 9,
     "metadata": {},
     "output_type": "execute_result"
    }
   ],
   "source": [
    "top.residues"
   ]
  },
  {
   "cell_type": "code",
   "execution_count": 72,
   "metadata": {},
   "outputs": [
    {
     "name": "stdout",
     "output_type": "stream",
     "text": [
      "The distance between residue 1 and 2 is 0.384 nm\n",
      "The distance between residue 2 and 3 is 0.387 nm\n",
      "The distance between residue 3 and 4 is 0.383 nm\n",
      "The distance between residue 4 and 5 is 0.381 nm\n",
      "The distance between residue 5 and 6 is 0.380 nm\n",
      "The distance between residue 6 and 7 is 0.374 nm\n",
      "The distance between residue 7 and 8 is 0.378 nm\n",
      "The distance between residue 8 and 9 is 0.376 nm\n",
      "The distance between residue 9 and 10 is 0.374 nm\n",
      "The distance between residue 10 and 11 is 0.374 nm\n",
      "The distance between residue 11 and 12 is 0.376 nm\n",
      "The distance between residue 12 and 13 is 0.378 nm\n",
      "The distance between residue 13 and 14 is 0.377 nm\n",
      "The distance between residue 14 and 15 is 0.377 nm\n",
      "The distance between residue 15 and 16 is 0.379 nm\n",
      "The distance between residue 16 and 17 is 0.377 nm\n",
      "The distance between residue 17 and 18 is 0.379 nm\n",
      "The distance between residue 18 and 19 is 0.381 nm\n",
      "The distance between residue 19 and 20 is 0.382 nm\n",
      "The distance between residue 20 and 21 is 0.380 nm\n",
      "The distance between residue 21 and 22 is 0.381 nm\n",
      "The distance between residue 22 and 23 is 0.379 nm\n",
      "The distance between residue 23 and 24 is 0.384 nm\n",
      "The distance between residue 24 and 25 is 0.379 nm\n",
      "The distance between residue 25 and 26 is 0.377 nm\n",
      "The distance between residue 26 and 27 is 0.377 nm\n",
      "The distance between residue 27 and 28 is 0.380 nm\n",
      "The distance between residue 28 and 29 is 0.377 nm\n",
      "The distance between residue 29 and 30 is 0.378 nm\n",
      "The distance between residue 30 and 31 is 0.380 nm\n",
      "The distance between residue 31 and 32 is 0.377 nm\n",
      "The distance between residue 32 and 33 is 0.379 nm\n",
      "The distance between residue 33 and 34 is 0.379 nm\n",
      "The distance between residue 34 and 35 is 0.377 nm\n",
      "The distance between residue 35 and 36 is 0.379 nm\n",
      "The distance between residue 36 and 37 is 0.379 nm\n",
      "The distance between residue 37 and 38 is 0.378 nm\n",
      "The distance between residue 38 and 39 is 0.379 nm\n",
      "The distance between residue 39 and 40 is 0.387 nm\n",
      "The distance between residue 40 and 41 is 0.387 nm\n",
      "The distance between residue 41 and 42 is 0.387 nm\n",
      "The distance between residue 42 and 43 is 0.384 nm\n",
      "The distance between residue 43 and 44 is 0.380 nm\n",
      "The distance between residue 44 and 45 is 0.383 nm\n",
      "The distance between residue 45 and 46 is 0.380 nm\n",
      "The distance between residue 46 and 47 is 0.382 nm\n",
      "The distance between residue 47 and 48 is 0.383 nm\n",
      "The distance between residue 48 and 49 is 0.382 nm\n",
      "The distance between residue 49 and 50 is 0.380 nm\n",
      "The distance between residue 50 and 51 is 0.374 nm\n",
      "The distance between residue 51 and 52 is 0.376 nm\n",
      "The distance between residue 52 and 53 is 0.377 nm\n",
      "The distance between residue 53 and 54 is 0.375 nm\n",
      "The distance between residue 54 and 55 is 0.377 nm\n",
      "The distance between residue 55 and 56 is 0.376 nm\n",
      "The distance between residue 56 and 57 is 0.377 nm\n",
      "The distance between residue 57 and 58 is 0.380 nm\n",
      "The distance between residue 58 and 59 is 0.378 nm\n",
      "The distance between residue 59 and 60 is 0.380 nm\n",
      "The distance between residue 60 and 61 is 0.378 nm\n",
      "The distance between residue 61 and 62 is 0.379 nm\n",
      "The distance between residue 62 and 63 is 0.382 nm\n",
      "The distance between residue 63 and 64 is 0.376 nm\n",
      "The distance between residue 64 and 65 is 0.378 nm\n",
      "The distance between residue 65 and 66 is 0.378 nm\n",
      "The distance between residue 66 and 67 is 0.376 nm\n",
      "The distance between residue 67 and 68 is 0.379 nm\n",
      "The distance between residue 68 and 69 is 0.378 nm\n",
      "The distance between residue 69 and 70 is 0.379 nm\n",
      "The distance between residue 70 and 71 is 0.373 nm\n",
      "The distance between residue 71 and 72 is 0.380 nm\n",
      "The distance between residue 72 and 73 is 0.376 nm\n",
      "The distance between residue 73 and 74 is 0.379 nm\n",
      "The distance between residue 74 and 75 is 0.377 nm\n",
      "The distance between residue 75 and 76 is 0.377 nm\n",
      "The distance between residue 76 and 77 is 0.377 nm\n",
      "The distance between residue 77 and 78 is 0.375 nm\n",
      "The distance between residue 78 and 79 is 0.378 nm\n",
      "The distance between residue 79 and 80 is 0.375 nm\n",
      "The distance between residue 80 and 81 is 0.378 nm\n",
      "The distance between residue 81 and 82 is 0.380 nm\n",
      "The distance between residue 82 and 83 is 0.379 nm\n",
      "The distance between residue 83 and 84 is 0.377 nm\n",
      "The distance between residue 84 and 85 is 0.376 nm\n",
      "The distance between residue 85 and 86 is 0.379 nm\n",
      "The distance between residue 86 and 87 is 0.379 nm\n",
      "The distance between residue 87 and 88 is 0.380 nm\n",
      "The distance between residue 88 and 89 is 0.379 nm\n",
      "The distance between residue 89 and 90 is 0.381 nm\n",
      "The distance between residue 90 and 91 is 0.378 nm\n",
      "The distance between residue 91 and 92 is 0.382 nm\n",
      "The distance between residue 92 and 93 is 0.382 nm\n",
      "The distance between residue 93 and 94 is 0.380 nm\n",
      "The distance between residue 94 and 95 is 0.379 nm\n",
      "The distance between residue 95 and 96 is 0.378 nm\n",
      "The distance between residue 96 and 97 is 0.377 nm\n",
      "The distance between residue 97 and 98 is 0.378 nm\n",
      "The distance between residue 98 and 99 is 0.374 nm\n",
      "The distance between residue 99 and 100 is 0.376 nm\n",
      "The distance between residue 100 and 101 is 0.376 nm\n",
      "The distance between residue 101 and 102 is 0.377 nm\n",
      "The distance between residue 102 and 103 is 0.379 nm\n",
      "The distance between residue 103 and 104 is 0.382 nm\n",
      "The distance between residue 104 and 105 is 0.379 nm\n",
      "The distance between residue 105 and 106 is 0.382 nm\n",
      "The distance between residue 106 and 107 is 0.379 nm\n",
      "The distance between residue 107 and 108 is 0.381 nm\n",
      "The distance between residue 108 and 109 is 0.376 nm\n",
      "The distance between residue 109 and 110 is 0.375 nm\n",
      "The distance between residue 110 and 111 is 0.377 nm\n",
      "The distance between residue 111 and 112 is 0.380 nm\n",
      "The distance between residue 112 and 113 is 0.382 nm\n",
      "The distance between residue 113 and 114 is 0.378 nm\n",
      "The distance between residue 114 and 115 is 1.507 nm\n",
      "The distance between residue 115 and 116 is 0.381 nm\n",
      "The distance between residue 116 and 117 is 0.382 nm\n",
      "The distance between residue 117 and 118 is 0.379 nm\n",
      "The distance between residue 118 and 119 is 0.379 nm\n",
      "The distance between residue 119 and 120 is 0.379 nm\n",
      "The distance between residue 120 and 121 is 0.374 nm\n",
      "The distance between residue 121 and 122 is 0.376 nm\n",
      "The distance between residue 122 and 123 is 0.377 nm\n",
      "The distance between residue 123 and 124 is 0.375 nm\n",
      "The distance between residue 124 and 125 is 0.375 nm\n",
      "The distance between residue 125 and 126 is 0.376 nm\n",
      "The distance between residue 126 and 127 is 0.377 nm\n",
      "The distance between residue 127 and 128 is 0.377 nm\n",
      "The distance between residue 128 and 129 is 0.378 nm\n",
      "The distance between residue 129 and 130 is 0.382 nm\n",
      "The distance between residue 130 and 131 is 0.378 nm\n",
      "The distance between residue 131 and 132 is 0.386 nm\n",
      "The distance between residue 132 and 133 is 0.379 nm\n",
      "The distance between residue 133 and 134 is 0.381 nm\n",
      "The distance between residue 134 and 135 is 0.380 nm\n",
      "The distance between residue 135 and 136 is 0.381 nm\n",
      "The distance between residue 136 and 137 is 0.381 nm\n",
      "The distance between residue 137 and 138 is 0.295 nm\n",
      "The distance between residue 138 and 139 is 0.380 nm\n",
      "The distance between residue 139 and 140 is 0.378 nm\n",
      "The distance between residue 140 and 141 is 0.378 nm\n",
      "The distance between residue 141 and 142 is 0.378 nm\n",
      "The distance between residue 142 and 143 is 0.376 nm\n",
      "The distance between residue 143 and 144 is 0.379 nm\n",
      "The distance between residue 144 and 145 is 0.380 nm\n",
      "The distance between residue 145 and 146 is 0.376 nm\n",
      "The distance between residue 146 and 147 is 0.380 nm\n",
      "The distance between residue 147 and 148 is 0.379 nm\n",
      "The distance between residue 148 and 149 is 0.378 nm\n",
      "The distance between residue 149 and 150 is 0.377 nm\n",
      "The distance between residue 150 and 151 is 0.379 nm\n",
      "The distance between residue 151 and 152 is 0.378 nm\n",
      "The distance between residue 152 and 153 is 0.377 nm\n",
      "The distance between residue 153 and 154 is 0.378 nm\n",
      "The distance between residue 154 and 155 is 0.383 nm\n",
      "The distance between residue 155 and 156 is 0.378 nm\n",
      "The distance between residue 156 and 157 is 0.378 nm\n",
      "The distance between residue 157 and 158 is 0.381 nm\n",
      "The distance between residue 158 and 159 is 0.383 nm\n",
      "The distance between residue 159 and 160 is 0.375 nm\n",
      "The distance between residue 160 and 161 is 0.378 nm\n",
      "The distance between residue 161 and 162 is 0.377 nm\n",
      "The distance between residue 162 and 163 is 0.381 nm\n",
      "The distance between residue 163 and 164 is 0.378 nm\n",
      "The distance between residue 164 and 165 is 0.383 nm\n",
      "The distance between residue 165 and 166 is 0.378 nm\n",
      "The distance between residue 166 and 167 is 0.377 nm\n",
      "The distance between residue 167 and 168 is 0.376 nm\n",
      "The distance between residue 168 and 169 is 0.375 nm\n",
      "The distance between residue 169 and 170 is 0.376 nm\n",
      "The distance between residue 170 and 171 is 0.376 nm\n",
      "The distance between residue 171 and 172 is 0.380 nm\n",
      "The distance between residue 172 and 173 is 0.380 nm\n",
      "The distance between residue 173 and 174 is 0.381 nm\n",
      "The distance between residue 174 and 175 is 0.376 nm\n",
      "The distance between residue 175 and 176 is 0.379 nm\n",
      "The distance between residue 176 and 177 is 0.382 nm\n",
      "The distance between residue 177 and 178 is 0.377 nm\n",
      "The distance between residue 178 and 179 is 0.378 nm\n",
      "The distance between residue 179 and 180 is 0.377 nm\n",
      "The distance between residue 180 and 181 is 0.374 nm\n",
      "The distance between residue 181 and 182 is 0.378 nm\n",
      "The distance between residue 182 and 183 is 0.376 nm\n",
      "The distance between residue 183 and 184 is 0.379 nm\n",
      "The distance between residue 184 and 185 is 0.382 nm\n",
      "The distance between residue 185 and 186 is 0.381 nm\n",
      "The distance between residue 186 and 187 is 0.382 nm\n",
      "The distance between residue 187 and 188 is 0.378 nm\n",
      "The distance between residue 188 and 189 is 0.380 nm\n",
      "The distance between residue 189 and 190 is 0.378 nm\n",
      "The distance between residue 190 and 191 is 0.377 nm\n",
      "The distance between residue 191 and 192 is 0.375 nm\n",
      "The distance between residue 192 and 193 is 0.376 nm\n",
      "The distance between residue 193 and 194 is 0.377 nm\n",
      "The distance between residue 194 and 195 is 0.377 nm\n",
      "The distance between residue 195 and 196 is 0.379 nm\n",
      "The distance between residue 196 and 197 is 0.378 nm\n",
      "The distance between residue 197 and 198 is 0.377 nm\n",
      "The distance between residue 198 and 199 is 0.376 nm\n",
      "The distance between residue 199 and 200 is 0.381 nm\n",
      "The distance between residue 200 and 201 is 0.378 nm\n",
      "The distance between residue 201 and 202 is 0.379 nm\n",
      "The distance between residue 202 and 203 is 0.380 nm\n",
      "The distance between residue 203 and 204 is 0.379 nm\n",
      "The distance between residue 204 and 205 is 0.378 nm\n",
      "The distance between residue 205 and 206 is 0.381 nm\n",
      "The distance between residue 206 and 207 is 0.381 nm\n",
      "The distance between residue 207 and 208 is 0.380 nm\n",
      "The distance between residue 208 and 209 is 0.378 nm\n",
      "The distance between residue 209 and 210 is 0.379 nm\n",
      "The distance between residue 210 and 211 is 0.378 nm\n",
      "The distance between residue 211 and 212 is 0.378 nm\n",
      "The distance between residue 212 and 213 is 0.376 nm\n",
      "The distance between residue 213 and 214 is 0.377 nm\n",
      "The distance between residue 214 and 215 is 0.374 nm\n",
      "The distance between residue 215 and 216 is 0.376 nm\n",
      "The distance between residue 216 and 217 is 0.379 nm\n",
      "The distance between residue 217 and 218 is 0.382 nm\n",
      "The distance between residue 218 and 219 is 0.381 nm\n",
      "The distance between residue 219 and 220 is 0.382 nm\n",
      "The distance between residue 220 and 221 is 0.379 nm\n",
      "The distance between residue 221 and 222 is 0.381 nm\n",
      "The distance between residue 222 and 223 is 0.376 nm\n",
      "The distance between residue 223 and 224 is 0.375 nm\n",
      "The distance between residue 224 and 225 is 0.376 nm\n",
      "The distance between residue 225 and 226 is 0.374 nm\n",
      "The distance between residue 226 and 227 is 0.380 nm\n",
      "The distance between residue 227 and 228 is 0.379 nm\n",
      "The distance between residue 228 and 229 is 0.382 nm\n",
      "The distance between residue 229 and 230 is 0.383 nm\n",
      "The distance between residue 230 and 231 is 0.379 nm\n",
      "The distance between residue 231 and 232 is 0.378 nm\n",
      "The distance between residue 232 and 233 is 0.379 nm\n",
      "The distance between residue 233 and 234 is 0.381 nm\n",
      "The distance between residue 234 and 235 is 5.129 nm\n",
      "The distance between residue 235 and 236 is 0.380 nm\n",
      "The distance between residue 236 and 237 is 0.382 nm\n",
      "The distance between residue 237 and 238 is 0.380 nm\n",
      "The distance between residue 238 and 239 is 0.381 nm\n",
      "The distance between residue 239 and 240 is 0.379 nm\n",
      "The distance between residue 240 and 241 is 0.375 nm\n",
      "The distance between residue 241 and 242 is 0.377 nm\n",
      "The distance between residue 242 and 243 is 0.377 nm\n",
      "The distance between residue 243 and 244 is 0.373 nm\n",
      "The distance between residue 244 and 245 is 0.374 nm\n",
      "The distance between residue 245 and 246 is 0.376 nm\n",
      "The distance between residue 246 and 247 is 0.378 nm\n",
      "The distance between residue 247 and 248 is 0.378 nm\n",
      "The distance between residue 248 and 249 is 0.377 nm\n",
      "The distance between residue 249 and 250 is 0.381 nm\n",
      "The distance between residue 250 and 251 is 0.382 nm\n",
      "The distance between residue 251 and 252 is 0.381 nm\n",
      "The distance between residue 252 and 253 is 0.382 nm\n",
      "The distance between residue 253 and 254 is 0.380 nm\n",
      "The distance between residue 254 and 255 is 0.380 nm\n",
      "The distance between residue 255 and 256 is 0.382 nm\n",
      "The distance between residue 256 and 257 is 0.384 nm\n",
      "The distance between residue 257 and 258 is 0.386 nm\n",
      "The distance between residue 258 and 259 is 0.379 nm\n",
      "The distance between residue 259 and 260 is 0.380 nm\n",
      "The distance between residue 260 and 261 is 0.380 nm\n",
      "The distance between residue 261 and 262 is 0.379 nm\n",
      "The distance between residue 262 and 263 is 0.381 nm\n",
      "The distance between residue 263 and 264 is 0.380 nm\n",
      "The distance between residue 264 and 265 is 0.379 nm\n",
      "The distance between residue 265 and 266 is 0.377 nm\n",
      "The distance between residue 266 and 267 is 0.379 nm\n",
      "The distance between residue 267 and 268 is 0.380 nm\n",
      "The distance between residue 268 and 269 is 0.376 nm\n",
      "The distance between residue 269 and 270 is 0.377 nm\n",
      "The distance between residue 270 and 271 is 0.377 nm\n",
      "The distance between residue 271 and 272 is 0.378 nm\n",
      "The distance between residue 272 and 273 is 0.379 nm\n",
      "The distance between residue 273 and 274 is 0.377 nm\n",
      "The distance between residue 274 and 275 is 0.380 nm\n",
      "The distance between residue 275 and 276 is 0.379 nm\n",
      "The distance between residue 276 and 277 is 0.380 nm\n",
      "The distance between residue 277 and 278 is 0.379 nm\n",
      "The distance between residue 278 and 279 is 0.380 nm\n",
      "The distance between residue 279 and 280 is 0.377 nm\n",
      "The distance between residue 280 and 281 is 0.378 nm\n",
      "The distance between residue 281 and 282 is 0.380 nm\n",
      "The distance between residue 282 and 283 is 0.381 nm\n",
      "The distance between residue 283 and 284 is 0.382 nm\n",
      "The distance between residue 284 and 285 is 0.380 nm\n",
      "The distance between residue 285 and 286 is 0.375 nm\n",
      "The distance between residue 286 and 287 is 0.376 nm\n",
      "The distance between residue 287 and 288 is 0.376 nm\n",
      "The distance between residue 288 and 289 is 0.377 nm\n",
      "The distance between residue 289 and 290 is 0.375 nm\n",
      "The distance between residue 290 and 291 is 0.377 nm\n",
      "The distance between residue 291 and 292 is 0.381 nm\n",
      "The distance between residue 292 and 293 is 0.379 nm\n",
      "The distance between residue 293 and 294 is 0.380 nm\n",
      "The distance between residue 294 and 295 is 0.378 nm\n",
      "The distance between residue 295 and 296 is 0.379 nm\n",
      "The distance between residue 296 and 297 is 0.381 nm\n",
      "The distance between residue 297 and 298 is 0.377 nm\n",
      "The distance between residue 298 and 299 is 0.380 nm\n",
      "The distance between residue 299 and 300 is 0.377 nm\n",
      "The distance between residue 300 and 301 is 0.376 nm\n",
      "The distance between residue 301 and 302 is 0.377 nm\n",
      "The distance between residue 302 and 303 is 0.377 nm\n",
      "The distance between residue 303 and 304 is 0.378 nm\n",
      "The distance between residue 304 and 305 is 0.376 nm\n",
      "The distance between residue 305 and 306 is 0.376 nm\n",
      "The distance between residue 306 and 307 is 0.379 nm\n",
      "The distance between residue 307 and 308 is 0.378 nm\n",
      "The distance between residue 308 and 309 is 0.376 nm\n",
      "The distance between residue 309 and 310 is 0.377 nm\n",
      "The distance between residue 310 and 311 is 0.377 nm\n",
      "The distance between residue 311 and 312 is 0.374 nm\n",
      "The distance between residue 312 and 313 is 0.377 nm\n",
      "The distance between residue 313 and 314 is 0.376 nm\n",
      "The distance between residue 314 and 315 is 0.377 nm\n",
      "The distance between residue 315 and 316 is 0.379 nm\n",
      "The distance between residue 316 and 317 is 0.379 nm\n",
      "The distance between residue 317 and 318 is 0.377 nm\n",
      "The distance between residue 318 and 319 is 0.375 nm\n",
      "The distance between residue 319 and 320 is 0.379 nm\n",
      "The distance between residue 320 and 321 is 0.381 nm\n",
      "The distance between residue 321 and 322 is 0.379 nm\n",
      "The distance between residue 322 and 323 is 0.379 nm\n",
      "The distance between residue 323 and 324 is 0.380 nm\n",
      "The distance between residue 324 and 325 is 0.378 nm\n",
      "The distance between residue 325 and 326 is 0.383 nm\n",
      "The distance between residue 326 and 327 is 0.382 nm\n",
      "The distance between residue 327 and 328 is 0.380 nm\n",
      "The distance between residue 328 and 329 is 0.378 nm\n",
      "The distance between residue 329 and 330 is 0.379 nm\n",
      "The distance between residue 330 and 331 is 0.377 nm\n",
      "The distance between residue 331 and 332 is 0.378 nm\n",
      "The distance between residue 332 and 333 is 0.375 nm\n",
      "The distance between residue 333 and 334 is 0.376 nm\n",
      "The distance between residue 334 and 335 is 0.376 nm\n",
      "The distance between residue 335 and 336 is 0.376 nm\n",
      "The distance between residue 336 and 337 is 0.380 nm\n",
      "The distance between residue 337 and 338 is 0.381 nm\n",
      "The distance between residue 338 and 339 is 0.380 nm\n",
      "The distance between residue 339 and 340 is 0.381 nm\n",
      "The distance between residue 340 and 341 is 0.379 nm\n",
      "The distance between residue 341 and 342 is 0.382 nm\n",
      "The distance between residue 342 and 343 is 0.376 nm\n",
      "The distance between residue 343 and 344 is 0.375 nm\n",
      "The distance between residue 344 and 345 is 0.376 nm\n",
      "The distance between residue 345 and 346 is 0.379 nm\n",
      "The distance between residue 346 and 347 is 0.378 nm\n",
      "The distance between residue 347 and 348 is 0.378 nm\n",
      "The distance between residue 348 and 349 is 1.317 nm\n",
      "The distance between residue 349 and 350 is 0.381 nm\n",
      "The distance between residue 350 and 351 is 0.383 nm\n",
      "The distance between residue 351 and 352 is 0.380 nm\n",
      "The distance between residue 352 and 353 is 0.381 nm\n",
      "The distance between residue 353 and 354 is 0.380 nm\n",
      "The distance between residue 354 and 355 is 0.374 nm\n",
      "The distance between residue 355 and 356 is 0.376 nm\n",
      "The distance between residue 356 and 357 is 0.376 nm\n",
      "The distance between residue 357 and 358 is 0.374 nm\n",
      "The distance between residue 358 and 359 is 0.375 nm\n",
      "The distance between residue 359 and 360 is 0.377 nm\n",
      "The distance between residue 360 and 361 is 0.377 nm\n",
      "The distance between residue 361 and 362 is 0.376 nm\n",
      "The distance between residue 362 and 363 is 0.378 nm\n",
      "The distance between residue 363 and 364 is 0.378 nm\n",
      "The distance between residue 364 and 365 is 0.377 nm\n",
      "The distance between residue 365 and 366 is 0.383 nm\n",
      "The distance between residue 366 and 367 is 0.377 nm\n",
      "The distance between residue 367 and 368 is 0.377 nm\n",
      "The distance between residue 368 and 369 is 0.376 nm\n",
      "The distance between residue 369 and 370 is 0.376 nm\n",
      "The distance between residue 370 and 371 is 0.377 nm\n",
      "The distance between residue 371 and 372 is 0.384 nm\n",
      "The distance between residue 372 and 373 is 0.380 nm\n",
      "The distance between residue 373 and 374 is 0.378 nm\n",
      "The distance between residue 374 and 375 is 0.376 nm\n",
      "The distance between residue 375 and 376 is 0.378 nm\n",
      "The distance between residue 376 and 377 is 0.378 nm\n",
      "The distance between residue 377 and 378 is 0.380 nm\n",
      "The distance between residue 378 and 379 is 0.380 nm\n",
      "The distance between residue 379 and 380 is 0.377 nm\n",
      "The distance between residue 380 and 381 is 0.380 nm\n",
      "The distance between residue 381 and 382 is 0.380 nm\n",
      "The distance between residue 382 and 383 is 0.378 nm\n",
      "The distance between residue 383 and 384 is 0.378 nm\n",
      "The distance between residue 384 and 385 is 0.379 nm\n",
      "The distance between residue 385 and 386 is 0.379 nm\n",
      "The distance between residue 386 and 387 is 0.379 nm\n",
      "The distance between residue 387 and 388 is 0.379 nm\n",
      "The distance between residue 388 and 389 is 0.378 nm\n",
      "The distance between residue 389 and 390 is 0.379 nm\n",
      "The distance between residue 390 and 391 is 0.380 nm\n",
      "The distance between residue 391 and 392 is 0.382 nm\n",
      "The distance between residue 392 and 393 is 0.383 nm\n",
      "The distance between residue 393 and 394 is 0.381 nm\n",
      "The distance between residue 394 and 395 is 0.380 nm\n",
      "The distance between residue 395 and 396 is 0.380 nm\n",
      "The distance between residue 396 and 397 is 0.377 nm\n",
      "The distance between residue 397 and 398 is 0.379 nm\n",
      "The distance between residue 398 and 399 is 0.380 nm\n",
      "The distance between residue 399 and 400 is 0.378 nm\n",
      "The distance between residue 400 and 401 is 0.377 nm\n",
      "The distance between residue 401 and 402 is 0.374 nm\n",
      "The distance between residue 402 and 403 is 0.376 nm\n",
      "The distance between residue 403 and 404 is 0.376 nm\n",
      "The distance between residue 404 and 405 is 0.377 nm\n",
      "The distance between residue 405 and 406 is 0.380 nm\n",
      "The distance between residue 406 and 407 is 0.379 nm\n",
      "The distance between residue 407 and 408 is 0.381 nm\n",
      "The distance between residue 408 and 409 is 0.378 nm\n",
      "The distance between residue 409 and 410 is 0.380 nm\n",
      "The distance between residue 410 and 411 is 0.382 nm\n",
      "The distance between residue 411 and 412 is 0.377 nm\n",
      "The distance between residue 412 and 413 is 0.381 nm\n",
      "The distance between residue 413 and 414 is 0.376 nm\n",
      "The distance between residue 414 and 415 is 0.377 nm\n",
      "The distance between residue 415 and 416 is 0.378 nm\n",
      "The distance between residue 416 and 417 is 0.378 nm\n",
      "The distance between residue 417 and 418 is 0.377 nm\n",
      "The distance between residue 418 and 419 is 0.379 nm\n",
      "The distance between residue 419 and 420 is 0.379 nm\n",
      "The distance between residue 420 and 421 is 0.380 nm\n",
      "The distance between residue 421 and 422 is 0.379 nm\n",
      "The distance between residue 422 and 423 is 0.381 nm\n",
      "The distance between residue 423 and 424 is 0.378 nm\n",
      "The distance between residue 424 and 425 is 0.376 nm\n",
      "The distance between residue 425 and 426 is 0.374 nm\n",
      "The distance between residue 426 and 427 is 0.377 nm\n",
      "The distance between residue 427 and 428 is 0.377 nm\n",
      "The distance between residue 428 and 429 is 0.377 nm\n",
      "The distance between residue 429 and 430 is 0.380 nm\n",
      "The distance between residue 430 and 431 is 0.379 nm\n",
      "The distance between residue 431 and 432 is 0.377 nm\n",
      "The distance between residue 432 and 433 is 0.374 nm\n",
      "The distance between residue 433 and 434 is 0.381 nm\n",
      "The distance between residue 434 and 435 is 0.378 nm\n",
      "The distance between residue 435 and 436 is 0.379 nm\n",
      "The distance between residue 436 and 437 is 0.379 nm\n",
      "The distance between residue 437 and 438 is 0.381 nm\n",
      "The distance between residue 438 and 439 is 0.377 nm\n",
      "The distance between residue 439 and 440 is 0.381 nm\n",
      "The distance between residue 440 and 441 is 0.381 nm\n",
      "The distance between residue 441 and 442 is 0.379 nm\n",
      "The distance between residue 442 and 443 is 0.379 nm\n",
      "The distance between residue 443 and 444 is 0.378 nm\n",
      "The distance between residue 444 and 445 is 0.378 nm\n",
      "The distance between residue 445 and 446 is 0.379 nm\n",
      "The distance between residue 446 and 447 is 0.375 nm\n",
      "The distance between residue 447 and 448 is 0.376 nm\n",
      "The distance between residue 448 and 449 is 0.376 nm\n",
      "The distance between residue 449 and 450 is 0.377 nm\n",
      "The distance between residue 450 and 451 is 0.379 nm\n",
      "The distance between residue 451 and 452 is 0.382 nm\n",
      "The distance between residue 452 and 453 is 0.379 nm\n",
      "The distance between residue 453 and 454 is 0.380 nm\n",
      "The distance between residue 454 and 455 is 0.379 nm\n",
      "The distance between residue 455 and 456 is 0.381 nm\n",
      "The distance between residue 456 and 457 is 0.376 nm\n",
      "The distance between residue 457 and 458 is 0.374 nm\n",
      "The distance between residue 458 and 459 is 0.376 nm\n",
      "The distance between residue 459 and 460 is 0.381 nm\n",
      "The distance between residue 460 and 461 is 0.378 nm\n",
      "The distance between residue 461 and 462 is 0.379 nm\n",
      "The distance between residue 462 and 463 is 0.381 nm\n",
      "The distance between residue 463 and 464 is 0.382 nm\n"
     ]
    },
    {
     "ename": "ValueError",
     "evalue": "atom_pairs must be between 0 and 464",
     "output_type": "error",
     "traceback": [
      "\u001b[0;31m---------------------------------------------------------------------------\u001b[0m",
      "\u001b[0;31mValueError\u001b[0m                                Traceback (most recent call last)",
      "\u001b[1;32m/Users/marvinprakash/Codes/Dissertation/one.ipynb Cell 9\u001b[0m in \u001b[0;36m2\n\u001b[1;32m      <a href='vscode-notebook-cell:/Users/marvinprakash/Codes/Dissertation/one.ipynb#W4sZmlsZQ%3D%3D?line=0'>1</a>\u001b[0m \u001b[39mfor\u001b[39;00m i \u001b[39min\u001b[39;00m \u001b[39mrange\u001b[39m(n_atoms \u001b[39m-\u001b[39m \u001b[39m1\u001b[39m):\n\u001b[0;32m----> <a href='vscode-notebook-cell:/Users/marvinprakash/Codes/Dissertation/one.ipynb#W4sZmlsZQ%3D%3D?line=1'>2</a>\u001b[0m     bond_length \u001b[39m=\u001b[39m mdtraj\u001b[39m.\u001b[39;49mcompute_distances(traj_ca, atom_pairs\u001b[39m=\u001b[39;49m[[i,i\u001b[39m+\u001b[39;49m\u001b[39m1\u001b[39;49m]])\n\u001b[1;32m      <a href='vscode-notebook-cell:/Users/marvinprakash/Codes/Dissertation/one.ipynb#W4sZmlsZQ%3D%3D?line=2'>3</a>\u001b[0m     \u001b[39m# Get the average distances\u001b[39;00m\n\u001b[1;32m      <a href='vscode-notebook-cell:/Users/marvinprakash/Codes/Dissertation/one.ipynb#W4sZmlsZQ%3D%3D?line=3'>4</a>\u001b[0m     bond_length \u001b[39m=\u001b[39m np\u001b[39m.\u001b[39mmean(bond_length)\n",
      "File \u001b[0;32m~/anaconda3/envs/bio/lib/python3.8/site-packages/mdtraj/geometry/distance.py:63\u001b[0m, in \u001b[0;36mcompute_distances\u001b[0;34m(traj, atom_pairs, periodic, opt)\u001b[0m\n\u001b[1;32m     61\u001b[0m pairs \u001b[39m=\u001b[39m ensure_type(atom_pairs, dtype\u001b[39m=\u001b[39mnp\u001b[39m.\u001b[39mint32, ndim\u001b[39m=\u001b[39m\u001b[39m2\u001b[39m, name\u001b[39m=\u001b[39m\u001b[39m'\u001b[39m\u001b[39matom_pairs\u001b[39m\u001b[39m'\u001b[39m, shape\u001b[39m=\u001b[39m(\u001b[39mNone\u001b[39;00m, \u001b[39m2\u001b[39m), warn_on_cast\u001b[39m=\u001b[39m\u001b[39mFalse\u001b[39;00m)\n\u001b[1;32m     62\u001b[0m \u001b[39mif\u001b[39;00m \u001b[39mnot\u001b[39;00m np\u001b[39m.\u001b[39mall(np\u001b[39m.\u001b[39mlogical_and(pairs \u001b[39m<\u001b[39m traj\u001b[39m.\u001b[39mn_atoms, pairs \u001b[39m>\u001b[39m\u001b[39m=\u001b[39m \u001b[39m0\u001b[39m)):\n\u001b[0;32m---> 63\u001b[0m     \u001b[39mraise\u001b[39;00m \u001b[39mValueError\u001b[39;00m(\u001b[39m'\u001b[39m\u001b[39matom_pairs must be between 0 and \u001b[39m\u001b[39m%d\u001b[39;00m\u001b[39m'\u001b[39m \u001b[39m%\u001b[39m traj\u001b[39m.\u001b[39mn_atoms)\n\u001b[1;32m     65\u001b[0m \u001b[39mif\u001b[39;00m \u001b[39mlen\u001b[39m(pairs) \u001b[39m==\u001b[39m \u001b[39m0\u001b[39m:\n\u001b[1;32m     66\u001b[0m     \u001b[39mreturn\u001b[39;00m np\u001b[39m.\u001b[39mzeros((\u001b[39mlen\u001b[39m(xyz), \u001b[39m0\u001b[39m), dtype\u001b[39m=\u001b[39mnp\u001b[39m.\u001b[39mfloat32)\n",
      "\u001b[0;31mValueError\u001b[0m: atom_pairs must be between 0 and 464"
     ]
    }
   ],
   "source": [
    "for i in range(n_atoms - 1):\n",
    "    bond_length = md.compute_distances(traj_ca, atom_pairs=[[i,i+1]])\n",
    "    # Get the average distances\n",
    "    bond_length = np.mean(bond_length)\n",
    "    print(f'The distance between residue {i+1} and {i+2} is {bond_length:.3f} nm')"
   ]
  },
  {
   "cell_type": "code",
   "execution_count": 57,
   "metadata": {},
   "outputs": [
    {
     "name": "stdout",
     "output_type": "stream",
     "text": [
      "GLY1\n"
     ]
    },
    {
     "ename": "AttributeError",
     "evalue": "'Residue' object has no attribute 'select'",
     "output_type": "error",
     "traceback": [
      "\u001b[0;31m---------------------------------------------------------------------------\u001b[0m",
      "\u001b[0;31mAttributeError\u001b[0m                            Traceback (most recent call last)",
      "\u001b[1;32m/Users/marvinprakash/Codes/Dissertation/one.ipynb Cell 9\u001b[0m in \u001b[0;36m3\n\u001b[1;32m      <a href='vscode-notebook-cell:/Users/marvinprakash/Codes/Dissertation/one.ipynb#X12sZmlsZQ%3D%3D?line=0'>1</a>\u001b[0m \u001b[39mfor\u001b[39;00m residue \u001b[39min\u001b[39;00m top\u001b[39m.\u001b[39mresidues:\n\u001b[1;32m      <a href='vscode-notebook-cell:/Users/marvinprakash/Codes/Dissertation/one.ipynb#X12sZmlsZQ%3D%3D?line=1'>2</a>\u001b[0m     \u001b[39mprint\u001b[39m(residue)\n\u001b[0;32m----> <a href='vscode-notebook-cell:/Users/marvinprakash/Codes/Dissertation/one.ipynb#X12sZmlsZQ%3D%3D?line=2'>3</a>\u001b[0m     sidechain_indices \u001b[39m=\u001b[39m residue\u001b[39m.\u001b[39;49mselect(\u001b[39m'\u001b[39m\u001b[39msidechain\u001b[39m\u001b[39m'\u001b[39m)\n\u001b[1;32m      <a href='vscode-notebook-cell:/Users/marvinprakash/Codes/Dissertation/one.ipynb#X12sZmlsZQ%3D%3D?line=3'>4</a>\u001b[0m     \u001b[39mfor\u001b[39;00m atom \u001b[39min\u001b[39;00m residue\u001b[39m.\u001b[39matoms:\n\u001b[1;32m      <a href='vscode-notebook-cell:/Users/marvinprakash/Codes/Dissertation/one.ipynb#X12sZmlsZQ%3D%3D?line=4'>5</a>\u001b[0m         \u001b[39mprint\u001b[39m(atom\u001b[39m.\u001b[39mis_sidechain)\n",
      "\u001b[0;31mAttributeError\u001b[0m: 'Residue' object has no attribute 'select'"
     ]
    }
   ],
   "source": [
    "for residue in top.residues:\n",
    "    print(residue)\n",
    "    sidechain_indices = residue.select('sidechain')\n",
    "    for atom in residue.atoms:\n",
    "        print(atom.is_sidechain)\n",
    "        # Get indices of all sidechain atoms\n",
    "        sidechain_indices = top.select('sidechain')"
   ]
  },
  {
   "cell_type": "code",
   "execution_count": 48,
   "metadata": {},
   "outputs": [
    {
     "name": "stdout",
     "output_type": "stream",
     "text": [
      "[<mdtraj.core.topology.Chain object at 0x15aeccac0>, <mdtraj.core.topology.Chain object at 0x15aecccd0>, <mdtraj.core.topology.Chain object at 0x15aee1520>]\n",
      "[<mdtraj.core.topology.Chain object at 0x15aeccac0>, <mdtraj.core.topology.Chain object at 0x15aecccd0>, <mdtraj.core.topology.Chain object at 0x15aee1520>]\n",
      "[<mdtraj.core.topology.Chain object at 0x15aeccac0>, <mdtraj.core.topology.Chain object at 0x15aecccd0>, <mdtraj.core.topology.Chain object at 0x15aee1520>]\n"
     ]
    }
   ],
   "source": [
    "for chain in top.chains:\n",
    "    \n",
    "    \n",
    "\n"
   ]
  },
  {
   "cell_type": "code",
   "execution_count": 38,
   "metadata": {},
   "outputs": [
    {
     "name": "stdout",
     "output_type": "stream",
     "text": [
      "Residue 1 is a GLY\n",
      "The center of mass of the sidechain is [3.53926015 0.93662286 2.01074283]\n",
      "Residue 2 is a ALA\n",
      "The center of mass of the sidechain is [3.44168052 1.25799412 2.06188182]\n",
      "Residue 3 is a MET\n",
      "The center of mass of the sidechain is [3.70873265 1.58557987 1.86859955]\n",
      "Residue 4 is a GLY\n",
      "The center of mass of the sidechain is [3.61928235 1.74221859 2.33701852]\n",
      "Residue 5 is a THR\n",
      "The center of mass of the sidechain is [3.46632533 1.48255537 2.52989899]\n",
      "Residue 6 is a ASN\n",
      "The center of mass of the sidechain is [3.79875747 1.37877504 2.74564533]\n",
      "Residue 7 is a LEU\n",
      "The center of mass of the sidechain is [3.79944788 1.62632238 3.15084283]\n",
      "Residue 8 is a TYR\n",
      "The center of mass of the sidechain is [4.42487586 1.62588955 3.37713205]\n",
      "Residue 9 is a ILE\n",
      "The center of mass of the sidechain is [4.06511791 1.5792651  3.691659  ]\n",
      "Residue 10 is a ARG\n",
      "The center of mass of the sidechain is [4.56653639 1.86175189 3.86585649]\n",
      "Residue 11 is a GLY\n",
      "The center of mass of the sidechain is [4.37994006 1.63701328 4.31332105]\n",
      "Residue 12 is a LEU\n",
      "The center of mass of the sidechain is [4.24707564 1.31762152 4.27506536]\n",
      "Residue 13 is a PRO\n",
      "The center of mass of the sidechain is [4.19780312 1.17535526 4.650512  ]\n",
      "Residue 14 is a PRO\n",
      "The center of mass of the sidechain is [4.39524471 0.83081117 4.7526852 ]\n",
      "Residue 15 is a HIS\n",
      "The center of mass of the sidechain is [3.95280464 0.8297171  4.83681038]\n",
      "Residue 16 is a THR\n",
      "The center of mass of the sidechain is [3.95744265 0.85348024 4.38662696]\n",
      "Residue 17 is a THR\n",
      "The center of mass of the sidechain is [3.65942961 0.59635062 4.2474578 ]\n",
      "Residue 18 is a ASP\n",
      "The center of mass of the sidechain is [3.61982524 0.52437375 3.81945482]\n",
      "Residue 19 is a GLN\n",
      "The center of mass of the sidechain is [3.10199356 0.62609031 4.04469889]\n",
      "Residue 20 is a ASP\n",
      "The center of mass of the sidechain is [3.41031394 0.90687322 4.31560537]\n",
      "Residue 21 is a LEU\n",
      "The center of mass of the sidechain is [3.5247458  1.10327581 3.87670745]\n",
      "Residue 22 is a VAL\n",
      "The center of mass of the sidechain is [3.05821421 0.99340592 3.77422206]\n",
      "Residue 23 is a LYS\n",
      "The center of mass of the sidechain is [2.8776718  1.07556268 4.17863329]\n",
      "Residue 24 is a LEU\n",
      "The center of mass of the sidechain is [3.26347403 1.54765798 4.03682057]\n",
      "Residue 25 is a CYS\n",
      "The center of mass of the sidechain is [3.15248267 1.53733771 3.64154385]\n",
      "Residue 26 is a GLN\n",
      "The center of mass of the sidechain is [2.64679252 1.31206119 3.71951737]\n",
      "Residue 27 is a PRO\n",
      "The center of mass of the sidechain is [2.61566867 1.75366933 3.72159488]\n",
      "Residue 28 is a TYR\n",
      "The center of mass of the sidechain is [2.86110298 1.97426709 3.54050383]\n",
      "Residue 29 is a GLY\n",
      "The center of mass of the sidechain is [2.65517875 1.56311578 3.19228567]\n",
      "Residue 30 is a LYS\n",
      "The center of mass of the sidechain is [2.58358413 1.16759774 2.87627235]\n",
      "Residue 31 is a ILE\n",
      "The center of mass of the sidechain is [2.92229741 1.06717159 3.17596909]\n",
      "Residue 32 is a VAL\n",
      "The center of mass of the sidechain is [3.065547   0.77459792 2.84260883]\n",
      "Residue 33 is a SER\n",
      "The center of mass of the sidechain is [3.37361302 0.73960959 3.08410032]\n",
      "Residue 34 is a THR\n",
      "The center of mass of the sidechain is [3.52547311 0.74442571 3.43932106]\n",
      "Residue 35 is a LYS\n",
      "The center of mass of the sidechain is [4.05795151 0.58396541 3.39215603]\n",
      "Residue 36 is a ALA\n",
      "The center of mass of the sidechain is [4.10297243 0.64681376 3.79377292]\n",
      "Residue 37 is a ILE\n",
      "The center of mass of the sidechain is [4.49221121 0.68701221 3.72181187]\n",
      "Residue 38 is a LEU\n",
      "The center of mass of the sidechain is [4.49093701 0.33132594 3.98878119]\n",
      "Residue 39 is a ASP\n",
      "The center of mass of the sidechain is [4.95461522 0.23393272 4.21970514]\n",
      "Residue 40 is a LYS\n",
      "The center of mass of the sidechain is [ 4.95792137 -0.11162521  3.84638683]\n",
      "Residue 41 is a THR\n",
      "The center of mass of the sidechain is [ 5.11916538 -0.15884224  4.40194504]\n",
      "Residue 42 is a THR\n",
      "The center of mass of the sidechain is [4.80357238 0.03611394 4.59506109]\n",
      "Residue 43 is a ASN\n",
      "The center of mass of the sidechain is [ 4.4347774  -0.07598769  4.36384379]\n",
      "Residue 44 is a LYS\n",
      "The center of mass of the sidechain is [4.58703213 0.35332633 4.66998162]\n",
      "Residue 45 is a CYS\n",
      "The center of mass of the sidechain is [4.43744337 0.76478086 4.2955491 ]\n",
      "Residue 46 is a LYS\n",
      "The center of mass of the sidechain is [4.89764693 0.79363292 4.08051729]\n",
      "Residue 47 is a GLY\n",
      "The center of mass of the sidechain is [4.57837978 1.20112454 4.14656334]\n",
      "Residue 48 is a TYR\n",
      "The center of mass of the sidechain is [4.65501394 1.09352507 3.73157523]\n",
      "Residue 49 is a GLY\n",
      "The center of mass of the sidechain is [4.20200309 1.17957081 3.58618653]\n",
      "Residue 50 is a PHE\n",
      "The center of mass of the sidechain is [4.14399447 1.10254808 3.26751894]\n",
      "Residue 51 is a VAL\n",
      "The center of mass of the sidechain is [3.59182355 1.26131965 3.25244589]\n",
      "Residue 52 is a ASP\n",
      "The center of mass of the sidechain is [3.42433191 1.05888019 2.82124257]\n",
      "Residue 53 is a PHE\n",
      "The center of mass of the sidechain is [3.17753801 1.47017765 2.94773791]\n",
      "Residue 54 is a ASP\n",
      "The center of mass of the sidechain is [2.83114166 1.24461857 2.4854696 ]\n",
      "Residue 55 is a SER\n",
      "The center of mass of the sidechain is [2.8937175  1.69365547 2.5037783 ]\n",
      "Residue 56 is a PRO\n",
      "The center of mass of the sidechain is [3.15483782 1.87337273 2.36141973]\n",
      "Residue 57 is a ALA\n",
      "The center of mass of the sidechain is [2.95938947 2.14994972 2.58043912]\n",
      "Residue 58 is a ALA\n",
      "The center of mass of the sidechain is [2.96454311 1.96497014 2.87517274]\n",
      "Residue 59 is a ALA\n",
      "The center of mass of the sidechain is [3.30923438 1.95908229 2.89504273]\n",
      "Residue 60 is a GLN\n",
      "The center of mass of the sidechain is [3.46547774 2.31500947 2.74814383]\n",
      "Residue 61 is a LYS\n",
      "The center of mass of the sidechain is [2.93434956 2.33782053 3.14031849]\n",
      "Residue 62 is a ALA\n",
      "The center of mass of the sidechain is [3.28951511 2.13988154 3.35831007]\n",
      "Residue 63 is a VAL\n",
      "The center of mass of the sidechain is [3.63394887 2.29405982 3.2961588 ]\n",
      "Residue 64 is a SER\n",
      "The center of mass of the sidechain is [3.42990641 2.62585557 3.3766146 ]\n",
      "Residue 65 is a ALA\n",
      "The center of mass of the sidechain is [3.27504283 2.4685453  3.71430846]\n",
      "Residue 66 is a LEU\n",
      "The center of mass of the sidechain is [3.52312612 2.18634954 3.82288685]\n",
      "Residue 67 is a LYS\n",
      "The center of mass of the sidechain is [3.85569864 2.58535091 3.66723454]\n",
      "Residue 68 is a ALA\n",
      "The center of mass of the sidechain is [3.51062907 2.77596502 4.02689838]\n",
      "Residue 69 is a SER\n",
      "The center of mass of the sidechain is [3.47533621 2.49067401 4.26394009]\n",
      "Residue 70 is a GLY\n",
      "The center of mass of the sidechain is [3.88065915 2.41566611 4.29679756]\n",
      "Residue 71 is a VAL\n",
      "The center of mass of the sidechain is [3.85314454 2.14440776 4.07187287]\n",
      "Residue 72 is a GLN\n",
      "The center of mass of the sidechain is [4.31665772 2.09210607 4.01973678]\n",
      "Residue 73 is a ALA\n",
      "The center of mass of the sidechain is [4.02116813 2.11125637 3.55775321]\n",
      "Residue 74 is a GLN\n",
      "The center of mass of the sidechain is [4.29297472 2.05671973 3.22758236]\n",
      "Residue 75 is a MET\n",
      "The center of mass of the sidechain is [3.96984675 1.98990217 2.81858324]\n",
      "Residue 76 is a ALA\n",
      "The center of mass of the sidechain is [4.25518844 1.65124611 2.77280601]\n",
      "Residue 77 is a LYS\n",
      "The center of mass of the sidechain is [4.72479374 1.60380888 2.67949165]\n",
      "Residue 78 is a GLN\n",
      "The center of mass of the sidechain is [4.33369102 1.55647597 2.19075432]\n",
      "Residue 79 is a GLN\n",
      "The center of mass of the sidechain is [4.96273645 1.44347674 2.14340069]\n",
      "Residue 80 is a GLU\n",
      "The center of mass of the sidechain is [4.90112755 0.89618428 2.26415789]\n",
      "Residue 81 is a GLN\n",
      "The center of mass of the sidechain is [5.23177788 1.01343912 2.50725055]\n",
      "Residue 82 is a ASP\n",
      "The center of mass of the sidechain is [5.5954692  0.89452419 2.07072849]\n",
      "Residue 83 is a PRO\n",
      "The center of mass of the sidechain is [5.85512979 0.68244533 2.30696246]\n",
      "Residue 84 is a THR\n",
      "The center of mass of the sidechain is [6.05580995 0.70891082 1.94482553]\n",
      "Residue 85 is a ASN\n",
      "The center of mass of the sidechain is [5.87973964 1.13456094 1.79621042]\n",
      "Residue 86 is a LEU\n",
      "The center of mass of the sidechain is [6.22412616 1.38226616 1.84609186]\n",
      "Residue 87 is a TYR\n",
      "The center of mass of the sidechain is [5.88321269 1.97380321 1.86422896]\n",
      "Residue 88 is a ILE\n",
      "The center of mass of the sidechain is [6.28101692 1.96906915 1.64082656]\n",
      "Residue 89 is a SER\n",
      "The center of mass of the sidechain is [6.22689133 2.39815049 1.76405114]\n",
      "Residue 90 is a ASN\n",
      "The center of mass of the sidechain is [6.41254129 2.7078472  1.69110885]\n",
      "Residue 91 is a LEU\n",
      "The center of mass of the sidechain is [6.51549188 2.41223075 1.27561554]\n",
      "Residue 92 is a PRO\n",
      "The center of mass of the sidechain is [6.75297692 2.62468244 1.05636502]\n",
      "Residue 93 is a LEU\n",
      "The center of mass of the sidechain is [6.41913824 2.8318591  0.78557759]\n",
      "Residue 94 is a SER\n",
      "The center of mass of the sidechain is [6.79778468 2.61945061 0.54455387]\n",
      "Residue 95 is a MET\n",
      "The center of mass of the sidechain is [6.77285947 2.22541998 0.82148226]\n",
      "Residue 96 is a ASP\n",
      "The center of mass of the sidechain is [6.66089172 1.95883802 0.42795348]\n",
      "Residue 97 is a GLU\n",
      "The center of mass of the sidechain is [6.32384167 1.62922152 0.54234748]\n",
      "Residue 98 is a GLN\n",
      "The center of mass of the sidechain is [6.85842388 1.43348119 0.36241355]\n",
      "Residue 99 is a GLU\n",
      "The center of mass of the sidechain is [7.03452714 1.9051013  0.57241372]\n",
      "Residue 100 is a LEU\n",
      "The center of mass of the sidechain is [6.7440712  1.67499863 1.03821367]\n",
      "Residue 101 is a GLU\n",
      "The center of mass of the sidechain is [6.85604807 1.18243607 0.80139416]\n",
      "Residue 102 is a ASN\n",
      "The center of mass of the sidechain is [7.26728352 1.37609649 0.76068712]\n",
      "Residue 103 is a MET\n",
      "The center of mass of the sidechain is [7.19940033 1.7192005  1.26752201]\n",
      "Residue 104 is a LEU\n",
      "The center of mass of the sidechain is [7.03799424 1.31606575 1.39201549]\n",
      "Residue 105 is a LYS\n",
      "The center of mass of the sidechain is [7.32467424 0.98692997 1.01986333]\n",
      "Residue 106 is a PRO\n",
      "The center of mass of the sidechain is [7.5991781  1.08296418 1.44087412]\n",
      "Residue 107 is a PHE\n",
      "The center of mass of the sidechain is [7.40544113 1.14178469 1.80082366]\n",
      "Residue 108 is a GLY\n",
      "The center of mass of the sidechain is [7.21979173 0.68950457 1.52636023]\n",
      "Residue 109 is a GLN\n",
      "The center of mass of the sidechain is [6.85385953 0.39791613 1.32800609]\n",
      "Residue 110 is a VAL\n",
      "The center of mass of the sidechain is [6.75723478 0.79260923 1.14857827]\n",
      "Residue 111 is a ILE\n",
      "The center of mass of the sidechain is [6.34540946 0.57326755 1.12057541]\n",
      "Residue 112 is a SER\n",
      "The center of mass of the sidechain is [6.21019585 0.95429114 1.0301703 ]\n",
      "Residue 113 is a THR\n",
      "The center of mass of the sidechain is [6.31226003 1.32145433 0.8867244 ]\n",
      "Residue 114 is a ARG\n",
      "The center of mass of the sidechain is [5.7845142  1.48205992 0.90216129]\n",
      "Residue 115 is a ILE\n",
      "The center of mass of the sidechain is [6.06741826 1.96736871 0.77683802]\n",
      "Residue 116 is a LEU\n",
      "The center of mass of the sidechain is [5.66652016 2.1331139  0.93107951]\n",
      "Residue 117 is a ARG\n",
      "The center of mass of the sidechain is [5.80027147 2.30326137 0.45385985]\n",
      "Residue 118 is a ASP\n",
      "The center of mass of the sidechain is [5.42647193 2.73213942 0.43975497]\n",
      "Residue 119 is a SER\n",
      "The center of mass of the sidechain is [5.17191196 2.75904601 0.16421942]\n",
      "Residue 120 is a SER\n",
      "The center of mass of the sidechain is [5.48862641 2.89088218 0.0363481 ]\n",
      "Residue 121 is a GLY\n",
      "The center of mass of the sidechain is [5.75417351 2.6138123  0.17428933]\n",
      "Residue 122 is a THR\n",
      "The center of mass of the sidechain is [5.86878165 2.84727093 0.39659138]\n",
      "Residue 123 is a SER\n",
      "The center of mass of the sidechain is [6.05367696 2.63222924 0.71358104]\n",
      "Residue 124 is a ARG\n",
      "The center of mass of the sidechain is [5.59624709 2.63475017 0.96724352]\n",
      "Residue 125 is a GLY\n",
      "The center of mass of the sidechain is [6.13702797 2.53265715 1.22035336]\n",
      "Residue 126 is a VAL\n",
      "The center of mass of the sidechain is [5.91084461 2.27566818 1.29929132]\n",
      "Residue 127 is a GLY\n",
      "The center of mass of the sidechain is [6.03929604 1.91242654 1.35385065]\n",
      "Residue 128 is a PHE\n",
      "The center of mass of the sidechain is [5.84693662 1.61342591 1.39806256]\n",
      "Residue 129 is a ALA\n",
      "The center of mass of the sidechain is [6.24767496 1.27943706 1.46944459]\n",
      "Residue 130 is a ARG\n",
      "The center of mass of the sidechain is [6.03905024 0.81446555 1.50127752]\n",
      "Residue 131 is a MET\n",
      "The center of mass of the sidechain is [6.57845143 0.82517813 1.6590487 ]\n",
      "Residue 132 is a GLU\n",
      "The center of mass of the sidechain is [6.66284267 0.20259031 1.69055728]\n",
      "Residue 133 is a SER\n",
      "The center of mass of the sidechain is [6.58947923 0.42645696 2.08821149]\n",
      "Residue 134 is a THR\n",
      "The center of mass of the sidechain is [6.38871635 0.5967568  2.39922861]\n",
      "Residue 135 is a GLU\n",
      "The center of mass of the sidechain is [6.74233411 0.4772644  2.52233498]\n",
      "Residue 136 is a LYS\n",
      "The center of mass of the sidechain is [6.96715902 0.64297268 2.16453565]\n",
      "Residue 137 is a CYS\n",
      "The center of mass of the sidechain is [6.56895841 0.99385735 2.13764335]\n",
      "Residue 138 is a GLU\n",
      "The center of mass of the sidechain is [6.7296468  1.03138484 2.63647277]\n",
      "Residue 139 is a ALA\n",
      "The center of mass of the sidechain is [7.10483723 1.18074678 2.3286333 ]\n",
      "Residue 140 is a VAL\n",
      "The center of mass of the sidechain is [6.94821427 1.38826608 2.04766631]\n",
      "Residue 141 is a ILE\n",
      "The center of mass of the sidechain is [6.73373203 1.56600101 2.38715811]\n",
      "Residue 142 is a GLY\n",
      "The center of mass of the sidechain is [7.11746893 1.68135376 2.51988613]\n",
      "Residue 143 is a HIS\n",
      "The center of mass of the sidechain is [7.419976   1.7528107  2.14232826]\n",
      "Residue 144 is a PHE\n",
      "The center of mass of the sidechain is [7.13570741 1.87809095 1.91865588]\n",
      "Residue 145 is a ASN\n",
      "The center of mass of the sidechain is [6.80291526 2.11746658 2.40920565]\n",
      "Residue 146 is a GLY\n",
      "The center of mass of the sidechain is [6.99334625 2.48070525 2.35538688]\n",
      "Residue 147 is a LYS\n",
      "The center of mass of the sidechain is [7.27729605 2.39714486 2.21502303]\n",
      "Residue 148 is a PHE\n",
      "The center of mass of the sidechain is [7.23553727 2.8356418  1.87517376]\n",
      "Residue 149 is a ILE\n",
      "The center of mass of the sidechain is [7.25520068 2.48017831 1.43282762]\n",
      "Residue 150 is a LYS\n",
      "The center of mass of the sidechain is [7.76934888 2.53454103 1.16624794]\n",
      "Residue 151 is a THR\n",
      "The center of mass of the sidechain is [7.47427083 2.83780802 0.98476554]\n",
      "Residue 152 is a PRO\n",
      "The center of mass of the sidechain is [7.55216207 2.84498098 0.62358201]\n",
      "Residue 153 is a PRO\n",
      "The center of mass of the sidechain is [7.76246521 3.13592449 0.47408446]\n",
      "Residue 154 is a GLY\n",
      "The center of mass of the sidechain is [7.42010972 3.43023845 0.54030443]\n",
      "Residue 155 is a VAL\n",
      "The center of mass of the sidechain is [7.21628455 3.17871897 0.60885031]\n",
      "Residue 156 is a SER\n",
      "The center of mass of the sidechain is [6.88472938 3.33495801 0.8221463 ]\n",
      "Residue 157 is a ALA\n",
      "The center of mass of the sidechain is [6.96151495 3.2577918  1.17915727]\n",
      "Residue 158 is a PRO\n",
      "The center of mass of the sidechain is [6.83515157 3.07750393 1.43472969]\n",
      "Residue 159 is a THR\n",
      "The center of mass of the sidechain is [6.70757479 3.41908667 1.73127729]\n",
      "Residue 160 is a GLU\n",
      "The center of mass of the sidechain is [6.57770878 3.1707792  2.02490183]\n",
      "Residue 161 is a PRO\n",
      "The center of mass of the sidechain is [6.78601577 2.82040956 2.10407756]\n",
      "Residue 162 is a LEU\n",
      "The center of mass of the sidechain is [6.75617793 2.36353148 1.91329268]\n",
      "Residue 163 is a LEU\n",
      "The center of mass of the sidechain is [6.31371383 2.29195108 2.14378199]\n",
      "Residue 164 is a CYS\n",
      "The center of mass of the sidechain is [6.53073374 1.85483645 2.12919287]\n",
      "Residue 165 is a LYS\n",
      "The center of mass of the sidechain is [6.04484327 1.7925854  2.31846228]\n",
      "Residue 166 is a PHE\n",
      "The center of mass of the sidechain is [6.0851926  1.28849177 2.389299  ]\n",
      "Residue 167 is a SER\n",
      "The center of mass of the sidechain is [5.65880945 1.44029201 2.11359438]\n",
      "Residue 168 is a DC\n",
      "The center of mass of the sidechain is [5.69045795 2.66876373 4.53441129]\n",
      "Residue 169 is a DT\n",
      "The center of mass of the sidechain is [5.33270246 2.07979265 4.57732672]\n",
      "Residue 170 is a DT\n",
      "The center of mass of the sidechain is [5.18405203 1.72186379 4.09871889]\n",
      "Residue 171 is a DA\n",
      "The center of mass of the sidechain is [5.07398862 1.47019427 3.75131486]\n",
      "Residue 172 is a DT\n",
      "The center of mass of the sidechain is [4.92439101 1.36549841 3.12431854]\n",
      "Residue 173 is a DT\n",
      "The center of mass of the sidechain is [4.46838103 0.82843836 2.90897048]\n",
      "Residue 174 is a SO4\n",
      "The center of mass of the sidechain is [5.5869     0.88183339 3.92908336]\n",
      "Residue 175 is a SO4\n",
      "The center of mass of the sidechain is [4.94318343 2.37654992 3.4613334 ]\n",
      "Residue 176 is a SO4\n",
      "The center of mass of the sidechain is [5.03470027 2.95315003 0.63440008]\n",
      "Residue 177 is a SO4\n",
      "The center of mass of the sidechain is [4.19035    2.40108332 2.94301668]\n",
      "Residue 178 is a SO4\n",
      "The center of mass of the sidechain is [ 4.45485006 -0.02036662  3.24393323]\n",
      "Residue 179 is a SO4\n",
      "The center of mass of the sidechain is [4.70223359 1.80553338 2.26751671]\n",
      "Residue 180 is a SO4\n",
      "The center of mass of the sidechain is [2.42199998 1.64956669 2.76863334]\n",
      "Residue 181 is a SO4\n",
      "The center of mass of the sidechain is [5.22795005 0.24010007 3.81521665]\n",
      "Residue 182 is a SO4\n",
      "The center of mass of the sidechain is [3.93828341 1.41538344 2.34760019]\n",
      "Residue 183 is a SO4\n",
      "The center of mass of the sidechain is [2.76916676 1.94520014 2.1089497 ]\n"
     ]
    }
   ],
   "source": [
    "for i in range(top.n_residues):\n",
    "    for \n",
    "    print(f'Residue {i+1} is a {top.residue(i).name}')\n",
    "    sidechain_residues = top.select(f'resid {i} sidechain')\n",
    "    # Get COM of sidechain\n",
    "    sidechain_com = md.compute_center_of_mass(traj.atom_slice(sidechain_residues))\n",
    "    sidechain_com = np.mean(sidechain_com, axis=0)\n",
    "    print(f'The center of mass of the sidechain is {sidechain_com}')\n",
    "    # Get the distance between COM and alpha carbon\n",
    "    alpha_carbon_index = top.select(f'resid {i} and name CA')"
   ]
  },
  {
   "cell_type": "code",
   "execution_count": 41,
   "metadata": {},
   "outputs": [
    {
     "name": "stdout",
     "output_type": "stream",
     "text": [
      "GLY1-N\n",
      "GLY1-CA\n",
      "GLY1-C\n",
      "GLY1-O\n",
      "GLY1-H\n",
      "GLY1-H2\n",
      "GLY1-H3\n",
      "GLY1-HA2\n",
      "GLY1-HA3\n",
      "TYR2-N\n",
      "TYR2-CA\n",
      "TYR2-C\n",
      "TYR2-O\n",
      "TYR2-CB\n",
      "TYR2-CG\n",
      "TYR2-CD1\n",
      "TYR2-CD2\n",
      "TYR2-CE1\n",
      "TYR2-CE2\n",
      "TYR2-CZ\n",
      "TYR2-OH\n",
      "TYR2-H\n",
      "TYR2-HA\n",
      "TYR2-HB2\n",
      "TYR2-HB3\n",
      "TYR2-HD1\n",
      "TYR2-HD2\n",
      "TYR2-HE1\n",
      "TYR2-HE2\n",
      "TYR2-HH\n",
      "ASP3-N\n",
      "ASP3-CA\n",
      "ASP3-C\n",
      "ASP3-O\n",
      "ASP3-CB\n",
      "ASP3-CG\n",
      "ASP3-OD1\n",
      "ASP3-OD2\n",
      "ASP3-H\n",
      "ASP3-HA\n",
      "ASP3-HB2\n",
      "ASP3-HB3\n",
      "PRO4-N\n",
      "PRO4-CA\n",
      "PRO4-C\n",
      "PRO4-O\n",
      "PRO4-CB\n",
      "PRO4-CG\n",
      "PRO4-CD\n",
      "PRO4-HA\n",
      "PRO4-HB2\n",
      "PRO4-HB3\n",
      "PRO4-HG2\n",
      "PRO4-HG3\n",
      "PRO4-HD2\n",
      "PRO4-HD3\n",
      "GLU5-N\n",
      "GLU5-CA\n",
      "GLU5-C\n",
      "GLU5-O\n",
      "GLU5-CB\n",
      "GLU5-CG\n",
      "GLU5-CD\n",
      "GLU5-OE1\n",
      "GLU5-OE2\n",
      "GLU5-H\n",
      "GLU5-HA\n",
      "GLU5-HB2\n",
      "GLU5-HB3\n",
      "GLU5-HG2\n",
      "GLU5-HG3\n",
      "THR6-N\n",
      "THR6-CA\n",
      "THR6-C\n",
      "THR6-O\n",
      "THR6-CB\n",
      "THR6-OG1\n",
      "THR6-CG2\n",
      "THR6-H\n",
      "THR6-HA\n",
      "THR6-HB\n",
      "THR6-HG1\n",
      "THR6-HG21\n",
      "THR6-HG22\n",
      "THR6-HG23\n",
      "GLY7-N\n",
      "GLY7-CA\n",
      "GLY7-C\n",
      "GLY7-O\n",
      "GLY7-H\n",
      "GLY7-HA2\n",
      "GLY7-HA3\n",
      "THR8-N\n",
      "THR8-CA\n",
      "THR8-C\n",
      "THR8-O\n",
      "THR8-CB\n",
      "THR8-OG1\n",
      "THR8-CG2\n",
      "THR8-H\n",
      "THR8-HA\n",
      "THR8-HB\n",
      "THR8-HG1\n",
      "THR8-HG21\n",
      "THR8-HG22\n",
      "THR8-HG23\n",
      "TRP9-N\n",
      "TRP9-CA\n",
      "TRP9-C\n",
      "TRP9-O\n",
      "TRP9-CB\n",
      "TRP9-CG\n",
      "TRP9-CD1\n",
      "TRP9-CD2\n",
      "TRP9-NE1\n",
      "TRP9-CE2\n",
      "TRP9-CE3\n",
      "TRP9-CZ2\n",
      "TRP9-CZ3\n",
      "TRP9-CH2\n",
      "TRP9-H\n",
      "TRP9-HA\n",
      "TRP9-HB2\n",
      "TRP9-HB3\n",
      "TRP9-HD1\n",
      "TRP9-HE1\n",
      "TRP9-HE3\n",
      "TRP9-HZ2\n",
      "TRP9-HZ3\n",
      "TRP9-HH2\n",
      "GLY10-N\n",
      "GLY10-CA\n",
      "GLY10-C\n",
      "GLY10-O\n",
      "GLY10-OXT\n",
      "GLY10-H\n",
      "GLY10-HA2\n",
      "GLY10-HA3\n"
     ]
    }
   ],
   "source": [
    "for atom in top.atoms:\n",
    "    print(atom)"
   ]
  },
  {
   "cell_type": "code",
   "execution_count": 26,
   "metadata": {},
   "outputs": [
    {
     "data": {
      "text/html": [
       "<pre style=\"white-space:pre;overflow-x:auto;line-height:normal;font-family:Menlo,'DejaVu Sans Mono',consolas,'Courier New',monospace\">G2-O5'\n",
       "</pre>\n"
      ],
      "text/plain": [
       "G2-O5'\n"
      ]
     },
     "metadata": {},
     "output_type": "display_data"
    },
    {
     "data": {
      "text/html": [
       "<pre style=\"white-space:pre;overflow-x:auto;line-height:normal;font-family:Menlo,'DejaVu Sans Mono',consolas,'Courier New',monospace\">G2-C5'\n",
       "</pre>\n"
      ],
      "text/plain": [
       "G2-C5'\n"
      ]
     },
     "metadata": {},
     "output_type": "display_data"
    },
    {
     "data": {
      "text/html": [
       "<pre style=\"white-space:pre;overflow-x:auto;line-height:normal;font-family:Menlo,'DejaVu Sans Mono',consolas,'Courier New',monospace\">G2-C4'\n",
       "</pre>\n"
      ],
      "text/plain": [
       "G2-C4'\n"
      ]
     },
     "metadata": {},
     "output_type": "display_data"
    },
    {
     "data": {
      "text/html": [
       "<pre style=\"white-space:pre;overflow-x:auto;line-height:normal;font-family:Menlo,'DejaVu Sans Mono',consolas,'Courier New',monospace\">G2-O4'\n",
       "</pre>\n"
      ],
      "text/plain": [
       "G2-O4'\n"
      ]
     },
     "metadata": {},
     "output_type": "display_data"
    },
    {
     "data": {
      "text/html": [
       "<pre style=\"white-space:pre;overflow-x:auto;line-height:normal;font-family:Menlo,'DejaVu Sans Mono',consolas,'Courier New',monospace\">G2-C3'\n",
       "</pre>\n"
      ],
      "text/plain": [
       "G2-C3'\n"
      ]
     },
     "metadata": {},
     "output_type": "display_data"
    },
    {
     "data": {
      "text/html": [
       "<pre style=\"white-space:pre;overflow-x:auto;line-height:normal;font-family:Menlo,'DejaVu Sans Mono',consolas,'Courier New',monospace\">G2-O3'\n",
       "</pre>\n"
      ],
      "text/plain": [
       "G2-O3'\n"
      ]
     },
     "metadata": {},
     "output_type": "display_data"
    },
    {
     "data": {
      "text/html": [
       "<pre style=\"white-space:pre;overflow-x:auto;line-height:normal;font-family:Menlo,'DejaVu Sans Mono',consolas,'Courier New',monospace\">G2-C2'\n",
       "</pre>\n"
      ],
      "text/plain": [
       "G2-C2'\n"
      ]
     },
     "metadata": {},
     "output_type": "display_data"
    },
    {
     "data": {
      "text/html": [
       "<pre style=\"white-space:pre;overflow-x:auto;line-height:normal;font-family:Menlo,'DejaVu Sans Mono',consolas,'Courier New',monospace\">G2-O2'\n",
       "</pre>\n"
      ],
      "text/plain": [
       "G2-O2'\n"
      ]
     },
     "metadata": {},
     "output_type": "display_data"
    },
    {
     "data": {
      "text/html": [
       "<pre style=\"white-space:pre;overflow-x:auto;line-height:normal;font-family:Menlo,'DejaVu Sans Mono',consolas,'Courier New',monospace\">G2-C1'\n",
       "</pre>\n"
      ],
      "text/plain": [
       "G2-C1'\n"
      ]
     },
     "metadata": {},
     "output_type": "display_data"
    },
    {
     "data": {
      "text/html": [
       "<pre style=\"white-space:pre;overflow-x:auto;line-height:normal;font-family:Menlo,'DejaVu Sans Mono',consolas,'Courier New',monospace\">G2-N9\n",
       "</pre>\n"
      ],
      "text/plain": [
       "G2-N9\n"
      ]
     },
     "metadata": {},
     "output_type": "display_data"
    },
    {
     "data": {
      "text/html": [
       "<pre style=\"white-space:pre;overflow-x:auto;line-height:normal;font-family:Menlo,'DejaVu Sans Mono',consolas,'Courier New',monospace\">G2-C8\n",
       "</pre>\n"
      ],
      "text/plain": [
       "G2-C8\n"
      ]
     },
     "metadata": {},
     "output_type": "display_data"
    },
    {
     "data": {
      "text/html": [
       "<pre style=\"white-space:pre;overflow-x:auto;line-height:normal;font-family:Menlo,'DejaVu Sans Mono',consolas,'Courier New',monospace\">G2-N7\n",
       "</pre>\n"
      ],
      "text/plain": [
       "G2-N7\n"
      ]
     },
     "metadata": {},
     "output_type": "display_data"
    },
    {
     "data": {
      "text/html": [
       "<pre style=\"white-space:pre;overflow-x:auto;line-height:normal;font-family:Menlo,'DejaVu Sans Mono',consolas,'Courier New',monospace\">G2-C5\n",
       "</pre>\n"
      ],
      "text/plain": [
       "G2-C5\n"
      ]
     },
     "metadata": {},
     "output_type": "display_data"
    },
    {
     "data": {
      "text/html": [
       "<pre style=\"white-space:pre;overflow-x:auto;line-height:normal;font-family:Menlo,'DejaVu Sans Mono',consolas,'Courier New',monospace\">G2-C6\n",
       "</pre>\n"
      ],
      "text/plain": [
       "G2-C6\n"
      ]
     },
     "metadata": {},
     "output_type": "display_data"
    },
    {
     "data": {
      "text/html": [
       "<pre style=\"white-space:pre;overflow-x:auto;line-height:normal;font-family:Menlo,'DejaVu Sans Mono',consolas,'Courier New',monospace\">G2-O6\n",
       "</pre>\n"
      ],
      "text/plain": [
       "G2-O6\n"
      ]
     },
     "metadata": {},
     "output_type": "display_data"
    },
    {
     "data": {
      "text/html": [
       "<pre style=\"white-space:pre;overflow-x:auto;line-height:normal;font-family:Menlo,'DejaVu Sans Mono',consolas,'Courier New',monospace\">G2-N1\n",
       "</pre>\n"
      ],
      "text/plain": [
       "G2-N1\n"
      ]
     },
     "metadata": {},
     "output_type": "display_data"
    },
    {
     "data": {
      "text/html": [
       "<pre style=\"white-space:pre;overflow-x:auto;line-height:normal;font-family:Menlo,'DejaVu Sans Mono',consolas,'Courier New',monospace\">G2-C2\n",
       "</pre>\n"
      ],
      "text/plain": [
       "G2-C2\n"
      ]
     },
     "metadata": {},
     "output_type": "display_data"
    },
    {
     "data": {
      "text/html": [
       "<pre style=\"white-space:pre;overflow-x:auto;line-height:normal;font-family:Menlo,'DejaVu Sans Mono',consolas,'Courier New',monospace\">G2-N2\n",
       "</pre>\n"
      ],
      "text/plain": [
       "G2-N2\n"
      ]
     },
     "metadata": {},
     "output_type": "display_data"
    },
    {
     "data": {
      "text/html": [
       "<pre style=\"white-space:pre;overflow-x:auto;line-height:normal;font-family:Menlo,'DejaVu Sans Mono',consolas,'Courier New',monospace\">G2-N3\n",
       "</pre>\n"
      ],
      "text/plain": [
       "G2-N3\n"
      ]
     },
     "metadata": {},
     "output_type": "display_data"
    },
    {
     "data": {
      "text/html": [
       "<pre style=\"white-space:pre;overflow-x:auto;line-height:normal;font-family:Menlo,'DejaVu Sans Mono',consolas,'Courier New',monospace\">G2-C4\n",
       "</pre>\n"
      ],
      "text/plain": [
       "G2-C4\n"
      ]
     },
     "metadata": {},
     "output_type": "display_data"
    },
    {
     "data": {
      "text/html": [
       "<pre style=\"white-space:pre;overflow-x:auto;line-height:normal;font-family:Menlo,'DejaVu Sans Mono',consolas,'Courier New',monospace\">G2-H5'\n",
       "</pre>\n"
      ],
      "text/plain": [
       "G2-H5'\n"
      ]
     },
     "metadata": {},
     "output_type": "display_data"
    },
    {
     "data": {
      "text/html": [
       "<pre style=\"white-space:pre;overflow-x:auto;line-height:normal;font-family:Menlo,'DejaVu Sans Mono',consolas,'Courier New',monospace\">G2-H5''\n",
       "</pre>\n"
      ],
      "text/plain": [
       "G2-H5''\n"
      ]
     },
     "metadata": {},
     "output_type": "display_data"
    },
    {
     "data": {
      "text/html": [
       "<pre style=\"white-space:pre;overflow-x:auto;line-height:normal;font-family:Menlo,'DejaVu Sans Mono',consolas,'Courier New',monospace\">G2-H4'\n",
       "</pre>\n"
      ],
      "text/plain": [
       "G2-H4'\n"
      ]
     },
     "metadata": {},
     "output_type": "display_data"
    },
    {
     "data": {
      "text/html": [
       "<pre style=\"white-space:pre;overflow-x:auto;line-height:normal;font-family:Menlo,'DejaVu Sans Mono',consolas,'Courier New',monospace\">G2-H3'\n",
       "</pre>\n"
      ],
      "text/plain": [
       "G2-H3'\n"
      ]
     },
     "metadata": {},
     "output_type": "display_data"
    },
    {
     "data": {
      "text/html": [
       "<pre style=\"white-space:pre;overflow-x:auto;line-height:normal;font-family:Menlo,'DejaVu Sans Mono',consolas,'Courier New',monospace\">G2-H2'\n",
       "</pre>\n"
      ],
      "text/plain": [
       "G2-H2'\n"
      ]
     },
     "metadata": {},
     "output_type": "display_data"
    },
    {
     "data": {
      "text/html": [
       "<pre style=\"white-space:pre;overflow-x:auto;line-height:normal;font-family:Menlo,'DejaVu Sans Mono',consolas,'Courier New',monospace\">G2-HO2'\n",
       "</pre>\n"
      ],
      "text/plain": [
       "G2-HO2'\n"
      ]
     },
     "metadata": {},
     "output_type": "display_data"
    },
    {
     "data": {
      "text/html": [
       "<pre style=\"white-space:pre;overflow-x:auto;line-height:normal;font-family:Menlo,'DejaVu Sans Mono',consolas,'Courier New',monospace\">G2-H1'\n",
       "</pre>\n"
      ],
      "text/plain": [
       "G2-H1'\n"
      ]
     },
     "metadata": {},
     "output_type": "display_data"
    },
    {
     "data": {
      "text/html": [
       "<pre style=\"white-space:pre;overflow-x:auto;line-height:normal;font-family:Menlo,'DejaVu Sans Mono',consolas,'Courier New',monospace\">G2-H8\n",
       "</pre>\n"
      ],
      "text/plain": [
       "G2-H8\n"
      ]
     },
     "metadata": {},
     "output_type": "display_data"
    },
    {
     "data": {
      "text/html": [
       "<pre style=\"white-space:pre;overflow-x:auto;line-height:normal;font-family:Menlo,'DejaVu Sans Mono',consolas,'Courier New',monospace\">G2-H1\n",
       "</pre>\n"
      ],
      "text/plain": [
       "G2-H1\n"
      ]
     },
     "metadata": {},
     "output_type": "display_data"
    },
    {
     "data": {
      "text/html": [
       "<pre style=\"white-space:pre;overflow-x:auto;line-height:normal;font-family:Menlo,'DejaVu Sans Mono',consolas,'Courier New',monospace\">G2-H21\n",
       "</pre>\n"
      ],
      "text/plain": [
       "G2-H21\n"
      ]
     },
     "metadata": {},
     "output_type": "display_data"
    },
    {
     "data": {
      "text/html": [
       "<pre style=\"white-space:pre;overflow-x:auto;line-height:normal;font-family:Menlo,'DejaVu Sans Mono',consolas,'Courier New',monospace\">G2-H22\n",
       "</pre>\n"
      ],
      "text/plain": [
       "G2-H22\n"
      ]
     },
     "metadata": {},
     "output_type": "display_data"
    },
    {
     "data": {
      "text/html": [
       "<pre style=\"white-space:pre;overflow-x:auto;line-height:normal;font-family:Menlo,'DejaVu Sans Mono',consolas,'Courier New',monospace\">G2-HO5'\n",
       "</pre>\n"
      ],
      "text/plain": [
       "G2-HO5'\n"
      ]
     },
     "metadata": {},
     "output_type": "display_data"
    }
   ],
   "source": [
    "chain_index = 11\n",
    "for residue in traj.topology.chain(chain_index).residues:\n",
    "    for atom in residue.atoms:\n",
    "        print(atom)\n",
    "\n",
    "    break"
   ]
  },
  {
   "cell_type": "code",
   "execution_count": null,
   "metadata": {},
   "outputs": [],
   "source": [
    "def get_com_ssdna(traj: md.Trajectory, chain_index: int):\n",
    "    \"\"\"\n",
    "    Gets the center of mass of the sugar, phosphate, base part from the traj and store them in dictionary.\n",
    "    \"\"\"\n",
    "\n",
    "    for residue in traj.topology.chain(chain_index):\n",
    "        print"
   ]
  },
  {
   "cell_type": "code",
   "execution_count": 22,
   "metadata": {},
   "outputs": [
    {
     "data": {
      "text/plain": [
       "False"
      ]
     },
     "execution_count": 22,
     "metadata": {},
     "output_type": "execute_result"
    }
   ],
   "source": [
    "[1,2,3] in [1,2,3,4]"
   ]
  },
  {
   "cell_type": "code",
   "execution_count": 23,
   "metadata": {},
   "outputs": [],
   "source": [
    "def remove_hyrdogen(trajj: md.Trajectory) -> md.Trajectory:\n",
    "    \"\"\"\n",
    "    Removes hydrogen atoms from a mdtraj.Trajectory object.\n",
    "    \n",
    "    Parameters\n",
    "    ----------\n",
    "    traj : mdtraj.Trajectory\n",
    "        The input trajectory.\n",
    "    \n",
    "    Returns\n",
    "    -------\n",
    "    mdtraj.Trajectory\n",
    "        The output trajectory containing only non-hydrogen atoms.\n",
    "    \"\"\"\n",
    "    # Select all non-hydrogen atoms\n",
    "    non_hydrogen_atoms = traj.topology.select(\"not element H\")\n",
    "\n",
    "    # Create a new trajectory containing only the non-hydrogen atoms\n",
    "    traj_no_hydrogen = traj.atom_slice(non_hydrogen_atoms)\n",
    "\n",
    "    return traj_no_hydrogen"
   ]
  },
  {
   "cell_type": "code",
   "execution_count": 24,
   "metadata": {},
   "outputs": [],
   "source": [
    "traj = remove_hyrdogen(traj)"
   ]
  },
  {
   "cell_type": "code",
   "execution_count": 32,
   "metadata": {},
   "outputs": [
    {
     "ename": "ValueError",
     "evalue": "Cannot use a single literal as a boolean.",
     "output_type": "error",
     "traceback": [
      "\u001b[0;31m---------------------------------------------------------------------------\u001b[0m",
      "\u001b[0;31mValueError\u001b[0m                                Traceback (most recent call last)",
      "\u001b[1;32m/Users/marvinprakash/Codes/Dissertation/one.ipynb Cell 29\u001b[0m in \u001b[0;36m1\n\u001b[0;32m----> <a href='vscode-notebook-cell:/Users/marvinprakash/Codes/Dissertation/one.ipynb#X44sZmlsZQ%3D%3D?line=0'>1</a>\u001b[0m traj\u001b[39m.\u001b[39;49mtop\u001b[39m.\u001b[39;49mselect(\u001b[39m\"\u001b[39;49m\u001b[39mchain\u001b[39;49m\u001b[39m\"\u001b[39;49m)\n",
      "File \u001b[0;32m~/anaconda3/envs/bio/lib/python3.8/site-packages/mdtraj/core/topology.py:1073\u001b[0m, in \u001b[0;36mTopology.select\u001b[0;34m(self, selection_string)\u001b[0m\n\u001b[1;32m   1050\u001b[0m \u001b[39mdef\u001b[39;00m \u001b[39mselect\u001b[39m(\u001b[39mself\u001b[39m, selection_string):\n\u001b[1;32m   1051\u001b[0m     \u001b[39m\"\"\"Execute a selection against the topology\u001b[39;00m\n\u001b[1;32m   1052\u001b[0m \n\u001b[1;32m   1053\u001b[0m \u001b[39m    Parameters\u001b[39;00m\n\u001b[0;32m   (...)\u001b[0m\n\u001b[1;32m   1070\u001b[0m \u001b[39m    select_expression, mdtraj.core.selection.parse_selection\u001b[39;00m\n\u001b[1;32m   1071\u001b[0m \u001b[39m    \"\"\"\u001b[39;00m\n\u001b[0;32m-> 1073\u001b[0m     filter_func \u001b[39m=\u001b[39m parse_selection(selection_string)\u001b[39m.\u001b[39mexpr\n\u001b[1;32m   1074\u001b[0m     indices \u001b[39m=\u001b[39m np\u001b[39m.\u001b[39marray([a\u001b[39m.\u001b[39mindex \u001b[39mfor\u001b[39;00m a \u001b[39min\u001b[39;00m \u001b[39mself\u001b[39m\u001b[39m.\u001b[39matoms \u001b[39mif\u001b[39;00m filter_func(a)])\n\u001b[1;32m   1075\u001b[0m     \u001b[39mreturn\u001b[39;00m indices\n",
      "File \u001b[0;32m~/anaconda3/envs/bio/lib/python3.8/site-packages/mdtraj/core/selection.py:386\u001b[0m, in \u001b[0;36mparse_selection.__call__\u001b[0;34m(self, selection)\u001b[0m\n\u001b[1;32m    384\u001b[0m \u001b[39m# Special check for a single literal\u001b[39;00m\n\u001b[1;32m    385\u001b[0m \u001b[39mif\u001b[39;00m \u001b[39misinstance\u001b[39m(astnode, ast\u001b[39m.\u001b[39mNum) \u001b[39mor\u001b[39;00m \u001b[39misinstance\u001b[39m(astnode, ast\u001b[39m.\u001b[39mStr):\n\u001b[0;32m--> 386\u001b[0m     \u001b[39mraise\u001b[39;00m \u001b[39mValueError\u001b[39;00m(\u001b[39m\"\u001b[39m\u001b[39mCannot use a single literal as a boolean.\u001b[39m\u001b[39m\"\u001b[39m)\n\u001b[1;32m    388\u001b[0m \u001b[39mif\u001b[39;00m PY2:\n\u001b[1;32m    389\u001b[0m     args \u001b[39m=\u001b[39m [ast\u001b[39m.\u001b[39mName(\u001b[39mid\u001b[39m\u001b[39m=\u001b[39m\u001b[39m'\u001b[39m\u001b[39matom\u001b[39m\u001b[39m'\u001b[39m, ctx\u001b[39m=\u001b[39mast\u001b[39m.\u001b[39mParam())]\n",
      "\u001b[0;31mValueError\u001b[0m: Cannot use a single literal as a boolean."
     ]
    }
   ],
   "source": [
    "traj.top.select(\"chain\")"
   ]
  },
  {
   "cell_type": "code",
   "execution_count": null,
   "metadata": {},
   "outputs": [],
   "source": [
    "[x.]"
   ]
  }
 ],
 "metadata": {
  "kernelspec": {
   "display_name": "bio",
   "language": "python",
   "name": "python3"
  },
  "language_info": {
   "codemirror_mode": {
    "name": "ipython",
    "version": 3
   },
   "file_extension": ".py",
   "mimetype": "text/x-python",
   "name": "python",
   "nbconvert_exporter": "python",
   "pygments_lexer": "ipython3",
   "version": "3.11.3"
  },
  "orig_nbformat": 4
 },
 "nbformat": 4,
 "nbformat_minor": 2
}
