{
 "cells": [
  {
   "attachments": {},
   "cell_type": "markdown",
   "metadata": {},
   "source": [
    "## 0. Imports"
   ]
  },
  {
   "cell_type": "code",
   "execution_count": 2,
   "metadata": {},
   "outputs": [],
   "source": [
    "from src.Structure import Structure\n",
    "from src.utils import combine_dicts\n",
    "import os\n",
    "import pandas as pd\n",
    "import matplotlib.pyplot as plt\n",
    "import seaborn as sns\n",
    "import numpy as np\n",
    "from Bio.PDB.PDBParser import PDBParser\n",
    "import pickle\n",
    "\n",
    "sns.set_theme(style=\"whitegrid\")"
   ]
  },
  {
   "cell_type": "code",
   "execution_count": 3,
   "metadata": {},
   "outputs": [
    {
     "name": "stdout",
     "output_type": "stream",
     "text": [
      "['5D8F.pdb', '6YJB.pdb', '1YHB.pdb', '8DFA.pdb', '7ZES.pdb', '4HJ9.pdb', '4HJ8.pdb', '1YHA.pdb', '7LAS.pdb', '7UXD.pdb', '3H15.pdb', '3A5U.pdb', '7LAR.pdb', '5ZG9.pdb', '6I52.pdb', '4TYN.pdb', '4HID.pdb', '4HQB.pdb', '4J1J.pdb', '5XRZ.pdb', '4GNX.pdb', '4PSO.pdb', '4KDP.pdb', '1XI1.pdb', '4HCC.pdb', '4HCB.pdb', '1EQQ.pdb', '1MJE.pdb', '5V9X.pdb', '2CCZ.pdb', '5FHE.pdb', '2QFJ.pdb', '6IFZ.pdb', '1QZH.pdb', '7U02.pdb', '7ypo.pdb', '1QZG.pdb', '6FWS.pdb', '2VW9.pdb', '3G3Y.pdb', '3KHC.pdb', '6LMR.pdb', '2VYE.pdb', '1XHZ.pdb', '6QEM.pdb', '3B39.pdb', '4OU7.pdb', '6PCM.pdb', '4OU6.pdb', '6S3I.pdb', '4GOP.pdb', '4GZ2.pdb', '4HIK.pdb', '5XS0.pdb', '3UDG.pdb', '6S3N.pdb', '6KBX.pdb', '5N9F.pdb', '5IP3.pdb', '4HJ5.pdb', '4HIO.pdb', '6S3O.pdb', '7LWA.pdb', '6m75.pdb', '6S3M.pdb', '4Z8F.pdb', '7T21.pdb', '4HIM.pdb', '4HJ7.pdb', '7T20.pdb', '4HJA.pdb', '4Z95.pdb']\n"
     ]
    }
   ],
   "source": [
    "data_folder = \"data/processed_pdbs\"\n",
    "pdb_files = [f for f in os.listdir(data_folder) if f.endswith(\".pdb\")]\n",
    "print(pdb_files)"
   ]
  },
  {
   "cell_type": "code",
   "execution_count": 4,
   "metadata": {},
   "outputs": [
    {
     "name": "stdout",
     "output_type": "stream",
     "text": [
      "Unit is not a protein or ssdna residue.\n",
      "Chain B could not be generated.\n"
     ]
    },
    {
     "name": "stderr",
     "output_type": "stream",
     "text": [
      "/Users/marvinprakash/mambaforge/envs/bio/lib/python3.11/site-packages/Bio/PDB/PDBParser.py:395: PDBConstructionWarning: Ignoring unrecognized record 'END' at line 1754\n",
      "  warnings.warn(\n",
      "/Users/marvinprakash/mambaforge/envs/bio/lib/python3.11/site-packages/Bio/PDB/PDBParser.py:395: PDBConstructionWarning: Ignoring unrecognized record 'END' at line 687\n",
      "  warnings.warn(\n",
      "/Users/marvinprakash/mambaforge/envs/bio/lib/python3.11/site-packages/Bio/PDB/PDBParser.py:395: PDBConstructionWarning: Ignoring unrecognized record 'END' at line 22825\n",
      "  warnings.warn(\n",
      "/Users/marvinprakash/mambaforge/envs/bio/lib/python3.11/site-packages/Bio/PDB/PDBParser.py:395: PDBConstructionWarning: Ignoring unrecognized record 'END' at line 13541\n",
      "  warnings.warn(\n",
      "/Users/marvinprakash/mambaforge/envs/bio/lib/python3.11/site-packages/Bio/PDB/PDBParser.py:395: PDBConstructionWarning: Ignoring unrecognized record 'END' at line 1385\n",
      "  warnings.warn(\n",
      "/Users/marvinprakash/mambaforge/envs/bio/lib/python3.11/site-packages/Bio/PDB/PDBParser.py:395: PDBConstructionWarning: Ignoring unrecognized record 'END' at line 1358\n",
      "  warnings.warn(\n",
      "/Users/marvinprakash/mambaforge/envs/bio/lib/python3.11/site-packages/Bio/PDB/PDBParser.py:395: PDBConstructionWarning: Ignoring unrecognized record 'END' at line 1367\n",
      "  warnings.warn(\n",
      "/Users/marvinprakash/mambaforge/envs/bio/lib/python3.11/site-packages/Bio/PDB/PDBParser.py:395: PDBConstructionWarning: Ignoring unrecognized record 'END' at line 9286\n",
      "  warnings.warn(\n"
     ]
    },
    {
     "name": "stdout",
     "output_type": "stream",
     "text": [
      "'NoneType' object has no attribute 'fidelity'\n",
      "Chain B could not be generated.\n",
      "'NoneType' object has no attribute 'fidelity'\n",
      "Chain B could not be generated.\n",
      "Unit is not a protein or ssdna residue.\n",
      "Chain B could not be generated.\n",
      "'NoneType' object has no attribute 'fidelity'\n",
      "Chain B could not be generated.\n",
      "'NoneType' object has no attribute 'fidelity'\n",
      "Chain C could not be generated.\n"
     ]
    },
    {
     "name": "stderr",
     "output_type": "stream",
     "text": [
      "/Users/marvinprakash/mambaforge/envs/bio/lib/python3.11/site-packages/Bio/PDB/PDBParser.py:395: PDBConstructionWarning: Ignoring unrecognized record 'END' at line 1441\n",
      "  warnings.warn(\n",
      "/Users/marvinprakash/mambaforge/envs/bio/lib/python3.11/site-packages/Bio/PDB/PDBParser.py:395: PDBConstructionWarning: Ignoring unrecognized record 'END' at line 2171\n",
      "  warnings.warn(\n",
      "/Users/marvinprakash/mambaforge/envs/bio/lib/python3.11/site-packages/Bio/PDB/PDBParser.py:395: PDBConstructionWarning: Ignoring unrecognized record 'END' at line 8915\n",
      "  warnings.warn(\n",
      "/Users/marvinprakash/mambaforge/envs/bio/lib/python3.11/site-packages/Bio/PDB/PDBParser.py:395: PDBConstructionWarning: Ignoring unrecognized record 'END' at line 1532\n",
      "  warnings.warn(\n",
      "/Users/marvinprakash/mambaforge/envs/bio/lib/python3.11/site-packages/Bio/PDB/PDBParser.py:395: PDBConstructionWarning: Ignoring unrecognized record 'END' at line 3863\n",
      "  warnings.warn(\n",
      "/Users/marvinprakash/mambaforge/envs/bio/lib/python3.11/site-packages/Bio/PDB/PDBParser.py:395: PDBConstructionWarning: Ignoring unrecognized record 'END' at line 4064\n",
      "  warnings.warn(\n",
      "/Users/marvinprakash/mambaforge/envs/bio/lib/python3.11/site-packages/Bio/PDB/PDBParser.py:395: PDBConstructionWarning: Ignoring unrecognized record 'END' at line 1358\n",
      "  warnings.warn(\n"
     ]
    },
    {
     "name": "stdout",
     "output_type": "stream",
     "text": [
      "'NoneType' object has no attribute 'fidelity'\n",
      "Chain A could not be generated.\n",
      "'NoneType' object has no attribute 'fidelity'\n",
      "Chain C could not be generated.\n",
      "'NoneType' object has no attribute 'fidelity'\n",
      "Chain B could not be generated.\n"
     ]
    },
    {
     "name": "stderr",
     "output_type": "stream",
     "text": [
      "/Users/marvinprakash/mambaforge/envs/bio/lib/python3.11/site-packages/Bio/PDB/PDBParser.py:395: PDBConstructionWarning: Ignoring unrecognized record 'END' at line 4875\n",
      "  warnings.warn(\n",
      "/Users/marvinprakash/mambaforge/envs/bio/lib/python3.11/site-packages/Bio/PDB/PDBParser.py:395: PDBConstructionWarning: Ignoring unrecognized record 'END' at line 8018\n",
      "  warnings.warn(\n"
     ]
    },
    {
     "name": "stdout",
     "output_type": "stream",
     "text": [
      "'NoneType' object has no attribute 'fidelity'\n",
      "Chain F could not be generated.\n",
      "'NoneType' object has no attribute 'fidelity'\n",
      "Chain G could not be generated.\n"
     ]
    },
    {
     "name": "stderr",
     "output_type": "stream",
     "text": [
      "/Users/marvinprakash/mambaforge/envs/bio/lib/python3.11/site-packages/Bio/PDB/PDBParser.py:395: PDBConstructionWarning: Ignoring unrecognized record 'END' at line 16673\n",
      "  warnings.warn(\n"
     ]
    },
    {
     "name": "stdout",
     "output_type": "stream",
     "text": [
      "'NoneType' object has no attribute 'fidelity'\n",
      "Chain L could not be generated.\n"
     ]
    },
    {
     "name": "stderr",
     "output_type": "stream",
     "text": [
      "/Users/marvinprakash/mambaforge/envs/bio/lib/python3.11/site-packages/Bio/PDB/PDBParser.py:395: PDBConstructionWarning: Ignoring unrecognized record 'END' at line 14450\n",
      "  warnings.warn(\n",
      "/Users/marvinprakash/mambaforge/envs/bio/lib/python3.11/site-packages/Bio/PDB/PDBParser.py:395: PDBConstructionWarning: Ignoring unrecognized record 'END' at line 8943\n",
      "  warnings.warn(\n"
     ]
    },
    {
     "name": "stdout",
     "output_type": "stream",
     "text": [
      "'NoneType' object has no attribute 'fidelity'\n",
      "Chain H could not be generated.\n",
      "'NoneType' object has no attribute 'fidelity'\n",
      "Chain I could not be generated.\n"
     ]
    },
    {
     "name": "stderr",
     "output_type": "stream",
     "text": [
      "/Users/marvinprakash/mambaforge/envs/bio/lib/python3.11/site-packages/Bio/PDB/PDBParser.py:395: PDBConstructionWarning: Ignoring unrecognized record 'END' at line 9465\n",
      "  warnings.warn(\n",
      "/Users/marvinprakash/mambaforge/envs/bio/lib/python3.11/site-packages/Bio/PDB/PDBParser.py:395: PDBConstructionWarning: Ignoring unrecognized record 'END' at line 7961\n",
      "  warnings.warn(\n"
     ]
    },
    {
     "name": "stdout",
     "output_type": "stream",
     "text": [
      "'NoneType' object has no attribute 'fidelity'\n",
      "Chain C could not be generated.\n",
      "'NoneType' object has no attribute 'fidelity'\n",
      "Chain D could not be generated.\n",
      "'NoneType' object has no attribute 'fidelity'\n",
      "Chain C could not be generated.\n",
      "'NoneType' object has no attribute 'fidelity'\n",
      "Chain D could not be generated.\n"
     ]
    },
    {
     "name": "stderr",
     "output_type": "stream",
     "text": [
      "/Users/marvinprakash/mambaforge/envs/bio/lib/python3.11/site-packages/Bio/PDB/PDBParser.py:395: PDBConstructionWarning: Ignoring unrecognized record 'END' at line 7985\n",
      "  warnings.warn(\n",
      "/Users/marvinprakash/mambaforge/envs/bio/lib/python3.11/site-packages/Bio/PDB/PDBParser.py:395: PDBConstructionWarning: Ignoring unrecognized record 'END' at line 3602\n",
      "  warnings.warn(\n",
      "/Users/marvinprakash/mambaforge/envs/bio/lib/python3.11/site-packages/Bio/PDB/PDBParser.py:395: PDBConstructionWarning: Ignoring unrecognized record 'END' at line 5206\n",
      "  warnings.warn(\n",
      "/Users/marvinprakash/mambaforge/envs/bio/lib/python3.11/site-packages/Bio/PDB/PDBParser.py:395: PDBConstructionWarning: Ignoring unrecognized record 'END' at line 6175\n",
      "  warnings.warn(\n"
     ]
    },
    {
     "name": "stdout",
     "output_type": "stream",
     "text": [
      "'NoneType' object has no attribute 'fidelity'\n",
      "Chain B could not be generated.\n",
      "'NoneType' object has no attribute 'fidelity'\n",
      "Chain A could not be generated.\n",
      "'NoneType' object has no attribute 'fidelity'\n",
      "Chain B could not be generated.\n",
      "'NoneType' object has no attribute 'fidelity'\n",
      "Chain C could not be generated.\n",
      "'NoneType' object has no attribute 'fidelity'\n",
      "Chain A could not be generated.\n"
     ]
    },
    {
     "name": "stderr",
     "output_type": "stream",
     "text": [
      "/Users/marvinprakash/mambaforge/envs/bio/lib/python3.11/site-packages/Bio/PDB/PDBParser.py:395: PDBConstructionWarning: Ignoring unrecognized record 'END' at line 3447\n",
      "  warnings.warn(\n",
      "/Users/marvinprakash/mambaforge/envs/bio/lib/python3.11/site-packages/Bio/PDB/PDBParser.py:395: PDBConstructionWarning: Ignoring unrecognized record 'END' at line 2996\n",
      "  warnings.warn(\n",
      "/Users/marvinprakash/mambaforge/envs/bio/lib/python3.11/site-packages/Bio/PDB/PDBParser.py:395: PDBConstructionWarning: Ignoring unrecognized record 'END' at line 17874\n",
      "  warnings.warn(\n",
      "/Users/marvinprakash/mambaforge/envs/bio/lib/python3.11/site-packages/Bio/PDB/PDBParser.py:395: PDBConstructionWarning: Ignoring unrecognized record 'END' at line 8877\n",
      "  warnings.warn(\n",
      "/Users/marvinprakash/mambaforge/envs/bio/lib/python3.11/site-packages/Bio/PDB/PDBParser.py:395: PDBConstructionWarning: Ignoring unrecognized record 'END' at line 3024\n",
      "  warnings.warn(\n"
     ]
    },
    {
     "name": "stdout",
     "output_type": "stream",
     "text": [
      "'NoneType' object has no attribute 'fidelity'\n",
      "Chain A could not be generated.\n",
      "'NoneType' object has no attribute 'fidelity'\n",
      "Chain B could not be generated.\n",
      "'NoneType' object has no attribute 'fidelity'\n",
      "Chain C could not be generated.\n",
      "'NoneType' object has no attribute 'fidelity'\n",
      "Chain D could not be generated.\n",
      "'NoneType' object has no attribute 'fidelity'\n",
      "Chain E could not be generated.\n",
      "'NoneType' object has no attribute 'fidelity'\n",
      "Chain F could not be generated.\n"
     ]
    },
    {
     "name": "stderr",
     "output_type": "stream",
     "text": [
      "/Users/marvinprakash/mambaforge/envs/bio/lib/python3.11/site-packages/Bio/PDB/PDBParser.py:395: PDBConstructionWarning: Ignoring unrecognized record 'END' at line 11332\n",
      "  warnings.warn(\n",
      "/Users/marvinprakash/mambaforge/envs/bio/lib/python3.11/site-packages/Bio/PDB/PDBParser.py:395: PDBConstructionWarning: Ignoring unrecognized record 'END' at line 2906\n",
      "  warnings.warn(\n"
     ]
    },
    {
     "name": "stdout",
     "output_type": "stream",
     "text": [
      "'NoneType' object has no attribute 'fidelity'\n",
      "Chain A could not be generated.\n",
      "'NoneType' object has no attribute 'fidelity'\n",
      "Chain B could not be generated.\n",
      "'NoneType' object has no attribute 'fidelity'\n",
      "Chain B could not be generated.\n"
     ]
    },
    {
     "name": "stderr",
     "output_type": "stream",
     "text": [
      "/Users/marvinprakash/mambaforge/envs/bio/lib/python3.11/site-packages/Bio/PDB/PDBParser.py:395: PDBConstructionWarning: Ignoring unrecognized record 'END' at line 11315\n",
      "  warnings.warn(\n",
      "/Users/marvinprakash/mambaforge/envs/bio/lib/python3.11/site-packages/Bio/PDB/PDBParser.py:395: PDBConstructionWarning: Ignoring unrecognized record 'END' at line 2120\n",
      "  warnings.warn(\n"
     ]
    },
    {
     "name": "stdout",
     "output_type": "stream",
     "text": [
      "'NoneType' object has no attribute 'fidelity'\n",
      "Chain D could not be generated.\n",
      "'NoneType' object has no attribute 'fidelity'\n",
      "Chain A could not be generated.\n",
      "'NoneType' object has no attribute 'fidelity'\n",
      "Chain B could not be generated.\n",
      "'NoneType' object has no attribute 'fidelity'\n",
      "Chain C could not be generated.\n",
      "Unit is not a protein or ssdna residue.\n",
      "Chain C could not be generated.\n",
      "Unit is not a protein or ssdna residue.\n",
      "Chain C could not be generated.\n"
     ]
    },
    {
     "name": "stderr",
     "output_type": "stream",
     "text": [
      "/Users/marvinprakash/mambaforge/envs/bio/lib/python3.11/site-packages/Bio/PDB/PDBParser.py:395: PDBConstructionWarning: Ignoring unrecognized record 'END' at line 16721\n",
      "  warnings.warn(\n",
      "/Users/marvinprakash/mambaforge/envs/bio/lib/python3.11/site-packages/Bio/PDB/PDBParser.py:395: PDBConstructionWarning: Ignoring unrecognized record 'END' at line 6447\n",
      "  warnings.warn(\n"
     ]
    },
    {
     "name": "stdout",
     "output_type": "stream",
     "text": [
      "'NoneType' object has no attribute 'fidelity'\n",
      "Chain A could not be generated.\n",
      "'NoneType' object has no attribute 'fidelity'\n",
      "Chain B could not be generated.\n",
      "'NoneType' object has no attribute 'fidelity'\n",
      "Chain C could not be generated.\n"
     ]
    },
    {
     "name": "stderr",
     "output_type": "stream",
     "text": [
      "/Users/marvinprakash/mambaforge/envs/bio/lib/python3.11/site-packages/Bio/PDB/PDBParser.py:395: PDBConstructionWarning: Ignoring unrecognized record 'END' at line 19013\n",
      "  warnings.warn(\n"
     ]
    },
    {
     "name": "stdout",
     "output_type": "stream",
     "text": [
      "'NoneType' object has no attribute 'fidelity'\n",
      "Chain A could not be generated.\n",
      "'NoneType' object has no attribute 'fidelity'\n",
      "Chain B could not be generated.\n",
      "'NoneType' object has no attribute 'fidelity'\n",
      "Chain C could not be generated.\n",
      "'NoneType' object has no attribute 'fidelity'\n",
      "Chain D could not be generated.\n"
     ]
    },
    {
     "name": "stderr",
     "output_type": "stream",
     "text": [
      "/Users/marvinprakash/mambaforge/envs/bio/lib/python3.11/site-packages/Bio/PDB/PDBParser.py:395: PDBConstructionWarning: Ignoring unrecognized record 'END' at line 32792\n",
      "  warnings.warn(\n",
      "/Users/marvinprakash/mambaforge/envs/bio/lib/python3.11/site-packages/Bio/PDB/PDBParser.py:395: PDBConstructionWarning: Ignoring unrecognized record 'END' at line 5217\n",
      "  warnings.warn(\n",
      "/Users/marvinprakash/mambaforge/envs/bio/lib/python3.11/site-packages/Bio/PDB/PDBParser.py:395: PDBConstructionWarning: Ignoring unrecognized record 'END' at line 3095\n",
      "  warnings.warn(\n",
      "/Users/marvinprakash/mambaforge/envs/bio/lib/python3.11/site-packages/Bio/PDB/PDBParser.py:395: PDBConstructionWarning: Ignoring unrecognized record 'END' at line 12344\n",
      "  warnings.warn(\n"
     ]
    },
    {
     "name": "stdout",
     "output_type": "stream",
     "text": [
      "'NoneType' object has no attribute 'fidelity'\n",
      "Chain A could not be generated.\n",
      "'NoneType' object has no attribute 'fidelity'\n",
      "Chain B could not be generated.\n"
     ]
    },
    {
     "name": "stderr",
     "output_type": "stream",
     "text": [
      "/Users/marvinprakash/mambaforge/envs/bio/lib/python3.11/site-packages/Bio/PDB/PDBParser.py:395: PDBConstructionWarning: Ignoring unrecognized record 'END' at line 3126\n",
      "  warnings.warn(\n",
      "/Users/marvinprakash/mambaforge/envs/bio/lib/python3.11/site-packages/Bio/PDB/PDBParser.py:395: PDBConstructionWarning: Ignoring unrecognized record 'END' at line 3593\n",
      "  warnings.warn(\n",
      "/Users/marvinprakash/mambaforge/envs/bio/lib/python3.11/site-packages/Bio/PDB/PDBParser.py:395: PDBConstructionWarning: Ignoring unrecognized record 'END' at line 4409\n",
      "  warnings.warn(\n"
     ]
    },
    {
     "name": "stdout",
     "output_type": "stream",
     "text": [
      "'NoneType' object has no attribute 'fidelity'\n",
      "Chain B could not be generated.\n",
      "'NoneType' object has no attribute 'fidelity'\n",
      "Chain D could not be generated.\n",
      "Unit is not a protein or ssdna residue.\n",
      "Chain A could not be generated.\n",
      "'NoneType' object has no attribute 'fidelity'\n",
      "Chain B could not be generated.\n"
     ]
    },
    {
     "name": "stderr",
     "output_type": "stream",
     "text": [
      "/Users/marvinprakash/mambaforge/envs/bio/lib/python3.11/site-packages/Bio/PDB/PDBParser.py:395: PDBConstructionWarning: Ignoring unrecognized record 'END' at line 32476\n",
      "  warnings.warn(\n"
     ]
    },
    {
     "name": "stdout",
     "output_type": "stream",
     "text": [
      "'NoneType' object has no attribute 'fidelity'\n",
      "Chain W could not be generated.\n",
      "'NoneType' object has no attribute 'fidelity'\n",
      "Chain X could not be generated.\n",
      "'NoneType' object has no attribute 'fidelity'\n",
      "Chain Y could not be generated.\n",
      "'NoneType' object has no attribute 'fidelity'\n",
      "Chain Z could not be generated.\n"
     ]
    },
    {
     "name": "stderr",
     "output_type": "stream",
     "text": [
      "/Users/marvinprakash/mambaforge/envs/bio/lib/python3.11/site-packages/Bio/PDB/PDBParser.py:395: PDBConstructionWarning: Ignoring unrecognized record 'END' at line 5502\n",
      "  warnings.warn(\n",
      "/Users/marvinprakash/mambaforge/envs/bio/lib/python3.11/site-packages/Bio/PDB/PDBParser.py:395: PDBConstructionWarning: Ignoring unrecognized record 'END' at line 7225\n",
      "  warnings.warn(\n"
     ]
    },
    {
     "name": "stdout",
     "output_type": "stream",
     "text": [
      "'NoneType' object has no attribute 'fidelity'\n",
      "Chain C could not be generated.\n",
      "'NoneType' object has no attribute 'fidelity'\n",
      "Chain D could not be generated.\n",
      "Unit is not a protein or ssdna residue.\n",
      "Chain B could not be generated.\n"
     ]
    },
    {
     "name": "stderr",
     "output_type": "stream",
     "text": [
      "/Users/marvinprakash/mambaforge/envs/bio/lib/python3.11/site-packages/Bio/PDB/PDBParser.py:395: PDBConstructionWarning: Ignoring unrecognized record 'END' at line 14140\n",
      "  warnings.warn(\n"
     ]
    },
    {
     "name": "stdout",
     "output_type": "stream",
     "text": [
      "'NoneType' object has no attribute 'fidelity'\n",
      "Chain C could not be generated.\n",
      "'NoneType' object has no attribute 'fidelity'\n",
      "Chain D could not be generated.\n",
      "'NoneType' object has no attribute 'fidelity'\n",
      "Chain D could not be generated.\n",
      "'NoneType' object has no attribute 'fidelity'\n",
      "Chain F could not be generated.\n",
      "'NoneType' object has no attribute 'fidelity'\n",
      "Chain B could not be generated.\n",
      "'NoneType' object has no attribute 'fidelity'\n",
      "Chain B could not be generated.\n"
     ]
    },
    {
     "name": "stderr",
     "output_type": "stream",
     "text": [
      "/Users/marvinprakash/mambaforge/envs/bio/lib/python3.11/site-packages/Bio/PDB/PDBParser.py:395: PDBConstructionWarning: Ignoring unrecognized record 'END' at line 6005\n",
      "  warnings.warn(\n",
      "/Users/marvinprakash/mambaforge/envs/bio/lib/python3.11/site-packages/Bio/PDB/PDBParser.py:395: PDBConstructionWarning: Ignoring unrecognized record 'END' at line 1355\n",
      "  warnings.warn(\n",
      "/Users/marvinprakash/mambaforge/envs/bio/lib/python3.11/site-packages/Bio/PDB/PDBParser.py:395: PDBConstructionWarning: Ignoring unrecognized record 'END' at line 1370\n",
      "  warnings.warn(\n",
      "/Users/marvinprakash/mambaforge/envs/bio/lib/python3.11/site-packages/Bio/PDB/PDBParser.py:395: PDBConstructionWarning: Ignoring unrecognized record 'END' at line 3652\n",
      "  warnings.warn(\n"
     ]
    },
    {
     "name": "stdout",
     "output_type": "stream",
     "text": [
      "'NoneType' object has no attribute 'fidelity'\n",
      "Chain B could not be generated.\n"
     ]
    },
    {
     "name": "stderr",
     "output_type": "stream",
     "text": [
      "/Users/marvinprakash/mambaforge/envs/bio/lib/python3.11/site-packages/Bio/PDB/PDBParser.py:395: PDBConstructionWarning: Ignoring unrecognized record 'END' at line 2143\n",
      "  warnings.warn(\n",
      "/Users/marvinprakash/mambaforge/envs/bio/lib/python3.11/site-packages/Bio/PDB/PDBParser.py:395: PDBConstructionWarning: Ignoring unrecognized record 'END' at line 1391\n",
      "  warnings.warn(\n",
      "/Users/marvinprakash/mambaforge/envs/bio/lib/python3.11/site-packages/Bio/PDB/PDBParser.py:395: PDBConstructionWarning: Ignoring unrecognized record 'END' at line 7225\n",
      "  warnings.warn(\n"
     ]
    },
    {
     "name": "stdout",
     "output_type": "stream",
     "text": [
      "'NoneType' object has no attribute 'fidelity'\n",
      "Chain C could not be generated.\n",
      "'NoneType' object has no attribute 'fidelity'\n",
      "Chain D could not be generated.\n",
      "'NoneType' object has no attribute 'fidelity'\n",
      "Chain C could not be generated.\n",
      "Unit is not a protein or ssdna residue.\n",
      "Chain D could not be generated.\n"
     ]
    },
    {
     "name": "stderr",
     "output_type": "stream",
     "text": [
      "/Users/marvinprakash/mambaforge/envs/bio/lib/python3.11/site-packages/Bio/PDB/StructureBuilder.py:127: PDBConstructionWarning: WARNING: Residue (' ', 52, ' ') redefined at line 398.\n",
      "  warnings.warn(\n",
      "/Users/marvinprakash/mambaforge/envs/bio/lib/python3.11/site-packages/Bio/PDB/PDBParser.py:416: PDBConstructionWarning: PDBConstructionException: Blank altlocs in duplicate residue SER (' ', 52, ' ') at line 398.\n",
      "Exception ignored.\n",
      "Some atoms or residues may be missing in the data structure.\n",
      "  warnings.warn(\n",
      "/Users/marvinprakash/mambaforge/envs/bio/lib/python3.11/site-packages/Bio/PDB/StructureBuilder.py:127: PDBConstructionWarning: WARNING: Residue (' ', 52, ' ') redefined at line 404.\n",
      "  warnings.warn(\n",
      "/Users/marvinprakash/mambaforge/envs/bio/lib/python3.11/site-packages/Bio/PDB/PDBParser.py:416: PDBConstructionWarning: PDBConstructionException: Blank altlocs in duplicate residue LYS (' ', 52, ' ') at line 404.\n",
      "Exception ignored.\n",
      "Some atoms or residues may be missing in the data structure.\n",
      "  warnings.warn(\n",
      "/Users/marvinprakash/mambaforge/envs/bio/lib/python3.11/site-packages/Bio/PDB/StructureBuilder.py:127: PDBConstructionWarning: WARNING: Residue (' ', 52, ' ') redefined at line 413.\n",
      "  warnings.warn(\n",
      "/Users/marvinprakash/mambaforge/envs/bio/lib/python3.11/site-packages/Bio/PDB/PDBParser.py:416: PDBConstructionWarning: PDBConstructionException: Blank altlocs in duplicate residue SER (' ', 52, ' ') at line 413.\n",
      "Exception ignored.\n",
      "Some atoms or residues may be missing in the data structure.\n",
      "  warnings.warn(\n",
      "/Users/marvinprakash/mambaforge/envs/bio/lib/python3.11/site-packages/Bio/PDB/StructureBuilder.py:127: PDBConstructionWarning: WARNING: Residue (' ', 82, ' ') redefined at line 670.\n",
      "  warnings.warn(\n",
      "/Users/marvinprakash/mambaforge/envs/bio/lib/python3.11/site-packages/Bio/PDB/PDBParser.py:416: PDBConstructionWarning: PDBConstructionException: Blank altlocs in duplicate residue ASN (' ', 82, ' ') at line 670.\n",
      "Exception ignored.\n",
      "Some atoms or residues may be missing in the data structure.\n",
      "  warnings.warn(\n",
      "/Users/marvinprakash/mambaforge/envs/bio/lib/python3.11/site-packages/Bio/PDB/StructureBuilder.py:127: PDBConstructionWarning: WARNING: Residue (' ', 82, ' ') redefined at line 686.\n",
      "  warnings.warn(\n",
      "/Users/marvinprakash/mambaforge/envs/bio/lib/python3.11/site-packages/Bio/PDB/PDBParser.py:416: PDBConstructionWarning: PDBConstructionException: Blank altlocs in duplicate residue LEU (' ', 82, ' ') at line 686.\n",
      "Exception ignored.\n",
      "Some atoms or residues may be missing in the data structure.\n",
      "  warnings.warn(\n",
      "/Users/marvinprakash/mambaforge/envs/bio/lib/python3.11/site-packages/Bio/PDB/StructureBuilder.py:127: PDBConstructionWarning: WARNING: Residue (' ', 100, ' ') redefined at line 840.\n",
      "  warnings.warn(\n",
      "/Users/marvinprakash/mambaforge/envs/bio/lib/python3.11/site-packages/Bio/PDB/PDBParser.py:416: PDBConstructionWarning: PDBConstructionException: Blank altlocs in duplicate residue TYR (' ', 100, ' ') at line 840.\n",
      "Exception ignored.\n",
      "Some atoms or residues may be missing in the data structure.\n",
      "  warnings.warn(\n",
      "/Users/marvinprakash/mambaforge/envs/bio/lib/python3.11/site-packages/Bio/PDB/StructureBuilder.py:127: PDBConstructionWarning: WARNING: Residue (' ', 100, ' ') redefined at line 864.\n",
      "  warnings.warn(\n",
      "/Users/marvinprakash/mambaforge/envs/bio/lib/python3.11/site-packages/Bio/PDB/PDBParser.py:416: PDBConstructionWarning: PDBConstructionException: Blank altlocs in duplicate residue GLY (' ', 100, ' ') at line 864.\n",
      "Exception ignored.\n",
      "Some atoms or residues may be missing in the data structure.\n",
      "  warnings.warn(\n",
      "/Users/marvinprakash/mambaforge/envs/bio/lib/python3.11/site-packages/Bio/PDB/StructureBuilder.py:127: PDBConstructionWarning: WARNING: Residue (' ', 100, ' ') redefined at line 868.\n",
      "  warnings.warn(\n",
      "/Users/marvinprakash/mambaforge/envs/bio/lib/python3.11/site-packages/Bio/PDB/PDBParser.py:416: PDBConstructionWarning: PDBConstructionException: Blank altlocs in duplicate residue ASN (' ', 100, ' ') at line 868.\n",
      "Exception ignored.\n",
      "Some atoms or residues may be missing in the data structure.\n",
      "  warnings.warn(\n",
      "/Users/marvinprakash/mambaforge/envs/bio/lib/python3.11/site-packages/Bio/PDB/StructureBuilder.py:127: PDBConstructionWarning: WARNING: Residue (' ', 100, ' ') redefined at line 876.\n",
      "  warnings.warn(\n",
      "/Users/marvinprakash/mambaforge/envs/bio/lib/python3.11/site-packages/Bio/PDB/PDBParser.py:416: PDBConstructionWarning: PDBConstructionException: Blank altlocs in duplicate residue GLY (' ', 100, ' ') at line 876.\n",
      "Exception ignored.\n",
      "Some atoms or residues may be missing in the data structure.\n",
      "  warnings.warn(\n",
      "/Users/marvinprakash/mambaforge/envs/bio/lib/python3.11/site-packages/Bio/PDB/StructureBuilder.py:127: PDBConstructionWarning: WARNING: Residue (' ', 100, ' ') redefined at line 880.\n",
      "  warnings.warn(\n",
      "/Users/marvinprakash/mambaforge/envs/bio/lib/python3.11/site-packages/Bio/PDB/PDBParser.py:416: PDBConstructionWarning: PDBConstructionException: Blank altlocs in duplicate residue ALA (' ', 100, ' ') at line 880.\n",
      "Exception ignored.\n",
      "Some atoms or residues may be missing in the data structure.\n",
      "  warnings.warn(\n",
      "/Users/marvinprakash/mambaforge/envs/bio/lib/python3.11/site-packages/Bio/PDB/StructureBuilder.py:127: PDBConstructionWarning: WARNING: Residue (' ', 100, ' ') redefined at line 885.\n",
      "  warnings.warn(\n",
      "/Users/marvinprakash/mambaforge/envs/bio/lib/python3.11/site-packages/Bio/PDB/PDBParser.py:416: PDBConstructionWarning: PDBConstructionException: Blank altlocs in duplicate residue TRP (' ', 100, ' ') at line 885.\n",
      "Exception ignored.\n",
      "Some atoms or residues may be missing in the data structure.\n",
      "  warnings.warn(\n",
      "/Users/marvinprakash/mambaforge/envs/bio/lib/python3.11/site-packages/Bio/PDB/StructureBuilder.py:127: PDBConstructionWarning: WARNING: Residue (' ', 100, ' ') redefined at line 899.\n",
      "  warnings.warn(\n",
      "/Users/marvinprakash/mambaforge/envs/bio/lib/python3.11/site-packages/Bio/PDB/PDBParser.py:416: PDBConstructionWarning: PDBConstructionException: Blank altlocs in duplicate residue PHE (' ', 100, ' ') at line 899.\n",
      "Exception ignored.\n",
      "Some atoms or residues may be missing in the data structure.\n",
      "  warnings.warn(\n",
      "/Users/marvinprakash/mambaforge/envs/bio/lib/python3.11/site-packages/Bio/PDB/PDBParser.py:395: PDBConstructionWarning: Ignoring unrecognized record 'END' at line 21270\n",
      "  warnings.warn(\n",
      "/Users/marvinprakash/mambaforge/envs/bio/lib/python3.11/site-packages/Bio/PDB/PDBParser.py:395: PDBConstructionWarning: Ignoring unrecognized record 'END' at line 1362\n",
      "  warnings.warn(\n",
      "/Users/marvinprakash/mambaforge/envs/bio/lib/python3.11/site-packages/Bio/PDB/PDBParser.py:395: PDBConstructionWarning: Ignoring unrecognized record 'END' at line 1364\n",
      "  warnings.warn(\n"
     ]
    },
    {
     "name": "stdout",
     "output_type": "stream",
     "text": [
      "'NoneType' object has no attribute 'fidelity'\n",
      "Chain B could not be generated.\n",
      "'NoneType' object has no attribute 'fidelity'\n",
      "Chain B could not be generated.\n"
     ]
    },
    {
     "name": "stderr",
     "output_type": "stream",
     "text": [
      "/Users/marvinprakash/mambaforge/envs/bio/lib/python3.11/site-packages/Bio/PDB/PDBParser.py:395: PDBConstructionWarning: Ignoring unrecognized record 'END' at line 20988\n",
      "  warnings.warn(\n"
     ]
    },
    {
     "name": "stdout",
     "output_type": "stream",
     "text": [
      "'NoneType' object has no attribute 'fidelity'\n",
      "Chain B could not be generated.\n"
     ]
    },
    {
     "name": "stderr",
     "output_type": "stream",
     "text": [
      "/Users/marvinprakash/mambaforge/envs/bio/lib/python3.11/site-packages/Bio/PDB/PDBParser.py:395: PDBConstructionWarning: Ignoring unrecognized record 'END' at line 1409\n",
      "  warnings.warn(\n",
      "/Users/marvinprakash/mambaforge/envs/bio/lib/python3.11/site-packages/Bio/PDB/StructureBuilder.py:127: PDBConstructionWarning: WARNING: Residue (' ', 52, ' ') redefined at line 398.\n",
      "  warnings.warn(\n",
      "/Users/marvinprakash/mambaforge/envs/bio/lib/python3.11/site-packages/Bio/PDB/PDBParser.py:416: PDBConstructionWarning: PDBConstructionException: Blank altlocs in duplicate residue SER (' ', 52, ' ') at line 398.\n",
      "Exception ignored.\n",
      "Some atoms or residues may be missing in the data structure.\n",
      "  warnings.warn(\n",
      "/Users/marvinprakash/mambaforge/envs/bio/lib/python3.11/site-packages/Bio/PDB/StructureBuilder.py:127: PDBConstructionWarning: WARNING: Residue (' ', 52, ' ') redefined at line 404.\n",
      "  warnings.warn(\n",
      "/Users/marvinprakash/mambaforge/envs/bio/lib/python3.11/site-packages/Bio/PDB/PDBParser.py:416: PDBConstructionWarning: PDBConstructionException: Blank altlocs in duplicate residue LYS (' ', 52, ' ') at line 404.\n",
      "Exception ignored.\n",
      "Some atoms or residues may be missing in the data structure.\n",
      "  warnings.warn(\n",
      "/Users/marvinprakash/mambaforge/envs/bio/lib/python3.11/site-packages/Bio/PDB/StructureBuilder.py:127: PDBConstructionWarning: WARNING: Residue (' ', 52, ' ') redefined at line 413.\n",
      "  warnings.warn(\n",
      "/Users/marvinprakash/mambaforge/envs/bio/lib/python3.11/site-packages/Bio/PDB/PDBParser.py:416: PDBConstructionWarning: PDBConstructionException: Blank altlocs in duplicate residue SER (' ', 52, ' ') at line 413.\n",
      "Exception ignored.\n",
      "Some atoms or residues may be missing in the data structure.\n",
      "  warnings.warn(\n",
      "/Users/marvinprakash/mambaforge/envs/bio/lib/python3.11/site-packages/Bio/PDB/StructureBuilder.py:127: PDBConstructionWarning: WARNING: Residue (' ', 82, ' ') redefined at line 670.\n",
      "  warnings.warn(\n",
      "/Users/marvinprakash/mambaforge/envs/bio/lib/python3.11/site-packages/Bio/PDB/PDBParser.py:416: PDBConstructionWarning: PDBConstructionException: Blank altlocs in duplicate residue ASN (' ', 82, ' ') at line 670.\n",
      "Exception ignored.\n",
      "Some atoms or residues may be missing in the data structure.\n",
      "  warnings.warn(\n",
      "/Users/marvinprakash/mambaforge/envs/bio/lib/python3.11/site-packages/Bio/PDB/StructureBuilder.py:127: PDBConstructionWarning: WARNING: Residue (' ', 82, ' ') redefined at line 686.\n",
      "  warnings.warn(\n",
      "/Users/marvinprakash/mambaforge/envs/bio/lib/python3.11/site-packages/Bio/PDB/PDBParser.py:416: PDBConstructionWarning: PDBConstructionException: Blank altlocs in duplicate residue LEU (' ', 82, ' ') at line 686.\n",
      "Exception ignored.\n",
      "Some atoms or residues may be missing in the data structure.\n",
      "  warnings.warn(\n",
      "/Users/marvinprakash/mambaforge/envs/bio/lib/python3.11/site-packages/Bio/PDB/StructureBuilder.py:127: PDBConstructionWarning: WARNING: Residue (' ', 100, ' ') redefined at line 840.\n",
      "  warnings.warn(\n",
      "/Users/marvinprakash/mambaforge/envs/bio/lib/python3.11/site-packages/Bio/PDB/PDBParser.py:416: PDBConstructionWarning: PDBConstructionException: Blank altlocs in duplicate residue TYR (' ', 100, ' ') at line 840.\n",
      "Exception ignored.\n",
      "Some atoms or residues may be missing in the data structure.\n",
      "  warnings.warn(\n",
      "/Users/marvinprakash/mambaforge/envs/bio/lib/python3.11/site-packages/Bio/PDB/StructureBuilder.py:127: PDBConstructionWarning: WARNING: Residue (' ', 100, ' ') redefined at line 864.\n",
      "  warnings.warn(\n",
      "/Users/marvinprakash/mambaforge/envs/bio/lib/python3.11/site-packages/Bio/PDB/PDBParser.py:416: PDBConstructionWarning: PDBConstructionException: Blank altlocs in duplicate residue GLY (' ', 100, ' ') at line 864.\n",
      "Exception ignored.\n",
      "Some atoms or residues may be missing in the data structure.\n",
      "  warnings.warn(\n",
      "/Users/marvinprakash/mambaforge/envs/bio/lib/python3.11/site-packages/Bio/PDB/StructureBuilder.py:127: PDBConstructionWarning: WARNING: Residue (' ', 100, ' ') redefined at line 868.\n",
      "  warnings.warn(\n",
      "/Users/marvinprakash/mambaforge/envs/bio/lib/python3.11/site-packages/Bio/PDB/PDBParser.py:416: PDBConstructionWarning: PDBConstructionException: Blank altlocs in duplicate residue ASN (' ', 100, ' ') at line 868.\n",
      "Exception ignored.\n",
      "Some atoms or residues may be missing in the data structure.\n",
      "  warnings.warn(\n",
      "/Users/marvinprakash/mambaforge/envs/bio/lib/python3.11/site-packages/Bio/PDB/StructureBuilder.py:127: PDBConstructionWarning: WARNING: Residue (' ', 100, ' ') redefined at line 876.\n",
      "  warnings.warn(\n",
      "/Users/marvinprakash/mambaforge/envs/bio/lib/python3.11/site-packages/Bio/PDB/PDBParser.py:416: PDBConstructionWarning: PDBConstructionException: Blank altlocs in duplicate residue GLY (' ', 100, ' ') at line 876.\n",
      "Exception ignored.\n",
      "Some atoms or residues may be missing in the data structure.\n",
      "  warnings.warn(\n",
      "/Users/marvinprakash/mambaforge/envs/bio/lib/python3.11/site-packages/Bio/PDB/StructureBuilder.py:127: PDBConstructionWarning: WARNING: Residue (' ', 100, ' ') redefined at line 880.\n",
      "  warnings.warn(\n",
      "/Users/marvinprakash/mambaforge/envs/bio/lib/python3.11/site-packages/Bio/PDB/PDBParser.py:416: PDBConstructionWarning: PDBConstructionException: Blank altlocs in duplicate residue ALA (' ', 100, ' ') at line 880.\n",
      "Exception ignored.\n",
      "Some atoms or residues may be missing in the data structure.\n",
      "  warnings.warn(\n",
      "/Users/marvinprakash/mambaforge/envs/bio/lib/python3.11/site-packages/Bio/PDB/StructureBuilder.py:127: PDBConstructionWarning: WARNING: Residue (' ', 100, ' ') redefined at line 885.\n",
      "  warnings.warn(\n",
      "/Users/marvinprakash/mambaforge/envs/bio/lib/python3.11/site-packages/Bio/PDB/PDBParser.py:416: PDBConstructionWarning: PDBConstructionException: Blank altlocs in duplicate residue TRP (' ', 100, ' ') at line 885.\n",
      "Exception ignored.\n",
      "Some atoms or residues may be missing in the data structure.\n",
      "  warnings.warn(\n",
      "/Users/marvinprakash/mambaforge/envs/bio/lib/python3.11/site-packages/Bio/PDB/StructureBuilder.py:127: PDBConstructionWarning: WARNING: Residue (' ', 100, ' ') redefined at line 899.\n",
      "  warnings.warn(\n",
      "/Users/marvinprakash/mambaforge/envs/bio/lib/python3.11/site-packages/Bio/PDB/PDBParser.py:416: PDBConstructionWarning: PDBConstructionException: Blank altlocs in duplicate residue PHE (' ', 100, ' ') at line 899.\n",
      "Exception ignored.\n",
      "Some atoms or residues may be missing in the data structure.\n",
      "  warnings.warn(\n"
     ]
    }
   ],
   "source": [
    "parser = PDBParser()\n",
    "\n",
    "structures = []\n",
    "for pdb_file in pdb_files:\n",
    "    pdb_id = pdb_file.split(\".\")[0]\n",
    "    structure = Structure(pdb_id, parser.get_structure(pdb_id, f\"{data_folder}/{pdb_file}\"))\n",
    "    structures.append(structure)"
   ]
  },
  {
   "cell_type": "code",
   "execution_count": 5,
   "metadata": {},
   "outputs": [
    {
     "data": {
      "text/plain": [
       "72"
      ]
     },
     "execution_count": 5,
     "metadata": {},
     "output_type": "execute_result"
    }
   ],
   "source": [
    "structures = sorted(structures, key=lambda x: x.pdb_id)\n",
    "len(structures)"
   ]
  },
  {
   "cell_type": "code",
   "execution_count": 6,
   "metadata": {},
   "outputs": [
    {
     "data": {
      "text/html": [
       "<div>\n",
       "<style scoped>\n",
       "    .dataframe tbody tr th:only-of-type {\n",
       "        vertical-align: middle;\n",
       "    }\n",
       "\n",
       "    .dataframe tbody tr th {\n",
       "        vertical-align: top;\n",
       "    }\n",
       "\n",
       "    .dataframe thead th {\n",
       "        text-align: right;\n",
       "    }\n",
       "</style>\n",
       "<table border=\"1\" class=\"dataframe\">\n",
       "  <thead>\n",
       "    <tr style=\"text-align: right;\">\n",
       "      <th></th>\n",
       "      <th>bb</th>\n",
       "      <th>bs</th>\n",
       "      <th>bbb</th>\n",
       "      <th>sbb</th>\n",
       "      <th>bbs</th>\n",
       "      <th>bbbb</th>\n",
       "      <th>sbbs</th>\n",
       "      <th>sbbb</th>\n",
       "      <th>bbbs</th>\n",
       "    </tr>\n",
       "  </thead>\n",
       "  <tbody>\n",
       "    <tr>\n",
       "      <th>0</th>\n",
       "      <td>(460,)</td>\n",
       "      <td>(188, 2)</td>\n",
       "      <td>(456,)</td>\n",
       "      <td>(187, 2)</td>\n",
       "      <td>(188, 2)</td>\n",
       "      <td>(452,)</td>\n",
       "      <td>(78,)</td>\n",
       "      <td>(186, 2)</td>\n",
       "      <td>(188, 2)</td>\n",
       "    </tr>\n",
       "    <tr>\n",
       "      <th>1</th>\n",
       "      <td>(640,)</td>\n",
       "      <td>(263, 2)</td>\n",
       "      <td>(638,)</td>\n",
       "      <td>(261, 2)</td>\n",
       "      <td>(262, 2)</td>\n",
       "      <td>(636,)</td>\n",
       "      <td>(124,)</td>\n",
       "      <td>(259, 2)</td>\n",
       "      <td>(262, 2)</td>\n",
       "    </tr>\n",
       "    <tr>\n",
       "      <th>2</th>\n",
       "      <td>(338,)</td>\n",
       "      <td>(142, 2)</td>\n",
       "      <td>(336,)</td>\n",
       "      <td>(142, 2)</td>\n",
       "      <td>(142, 2)</td>\n",
       "      <td>(334,)</td>\n",
       "      <td>(56,)</td>\n",
       "      <td>(142, 2)</td>\n",
       "      <td>(140, 2)</td>\n",
       "    </tr>\n",
       "    <tr>\n",
       "      <th>3</th>\n",
       "      <td>(1014,)</td>\n",
       "      <td>(426, 2)</td>\n",
       "      <td>(1008,)</td>\n",
       "      <td>(426, 2)</td>\n",
       "      <td>(426, 2)</td>\n",
       "      <td>(1002,)</td>\n",
       "      <td>(168,)</td>\n",
       "      <td>(426, 2)</td>\n",
       "      <td>(420, 2)</td>\n",
       "    </tr>\n",
       "    <tr>\n",
       "      <th>4</th>\n",
       "      <td>(2280,)</td>\n",
       "      <td>(1120, 2)</td>\n",
       "      <td>(2276,)</td>\n",
       "      <td>(1116, 2)</td>\n",
       "      <td>(1120, 2)</td>\n",
       "      <td>(2272,)</td>\n",
       "      <td>(576,)</td>\n",
       "      <td>(1112, 2)</td>\n",
       "      <td>(1116, 2)</td>\n",
       "    </tr>\n",
       "    <tr>\n",
       "      <th>...</th>\n",
       "      <td>...</td>\n",
       "      <td>...</td>\n",
       "      <td>...</td>\n",
       "      <td>...</td>\n",
       "      <td>...</td>\n",
       "      <td>...</td>\n",
       "      <td>...</td>\n",
       "      <td>...</td>\n",
       "      <td>...</td>\n",
       "    </tr>\n",
       "    <tr>\n",
       "      <th>67</th>\n",
       "      <td>(383,)</td>\n",
       "      <td>(158, 2)</td>\n",
       "      <td>(381,)</td>\n",
       "      <td>(156, 2)</td>\n",
       "      <td>(157, 2)</td>\n",
       "      <td>(379,)</td>\n",
       "      <td>(58,)</td>\n",
       "      <td>(156, 2)</td>\n",
       "      <td>(156, 2)</td>\n",
       "    </tr>\n",
       "    <tr>\n",
       "      <th>68</th>\n",
       "      <td>(189,)</td>\n",
       "      <td>(90, 2)</td>\n",
       "      <td>(188,)</td>\n",
       "      <td>(89, 2)</td>\n",
       "      <td>(89, 2)</td>\n",
       "      <td>(187,)</td>\n",
       "      <td>(33,)</td>\n",
       "      <td>(88, 2)</td>\n",
       "      <td>(88, 2)</td>\n",
       "    </tr>\n",
       "    <tr>\n",
       "      <th>69</th>\n",
       "      <td>(1652,)</td>\n",
       "      <td>(748, 2)</td>\n",
       "      <td>(1650,)</td>\n",
       "      <td>(748, 2)</td>\n",
       "      <td>(748, 2)</td>\n",
       "      <td>(1648,)</td>\n",
       "      <td>(340,)</td>\n",
       "      <td>(746, 2)</td>\n",
       "      <td>(748, 2)</td>\n",
       "    </tr>\n",
       "    <tr>\n",
       "      <th>70</th>\n",
       "      <td>(1304,)</td>\n",
       "      <td>(584, 2)</td>\n",
       "      <td>(1300,)</td>\n",
       "      <td>(584, 2)</td>\n",
       "      <td>(584, 2)</td>\n",
       "      <td>(1296,)</td>\n",
       "      <td>(272,)</td>\n",
       "      <td>(584, 2)</td>\n",
       "      <td>(580, 2)</td>\n",
       "    </tr>\n",
       "    <tr>\n",
       "      <th>71</th>\n",
       "      <td>(2844,)</td>\n",
       "      <td>(1176, 2)</td>\n",
       "      <td>(2833,)</td>\n",
       "      <td>(1173, 2)</td>\n",
       "      <td>(1169, 2)</td>\n",
       "      <td>(2822,)</td>\n",
       "      <td>(473,)</td>\n",
       "      <td>(1164, 2)</td>\n",
       "      <td>(1167, 2)</td>\n",
       "    </tr>\n",
       "  </tbody>\n",
       "</table>\n",
       "<p>72 rows × 9 columns</p>\n",
       "</div>"
      ],
      "text/plain": [
       "         bb         bs      bbb        sbb        bbs     bbbb    sbbs  \\\n",
       "0    (460,)   (188, 2)   (456,)   (187, 2)   (188, 2)   (452,)   (78,)   \n",
       "1    (640,)   (263, 2)   (638,)   (261, 2)   (262, 2)   (636,)  (124,)   \n",
       "2    (338,)   (142, 2)   (336,)   (142, 2)   (142, 2)   (334,)   (56,)   \n",
       "3   (1014,)   (426, 2)  (1008,)   (426, 2)   (426, 2)  (1002,)  (168,)   \n",
       "4   (2280,)  (1120, 2)  (2276,)  (1116, 2)  (1120, 2)  (2272,)  (576,)   \n",
       "..      ...        ...      ...        ...        ...      ...     ...   \n",
       "67   (383,)   (158, 2)   (381,)   (156, 2)   (157, 2)   (379,)   (58,)   \n",
       "68   (189,)    (90, 2)   (188,)    (89, 2)    (89, 2)   (187,)   (33,)   \n",
       "69  (1652,)   (748, 2)  (1650,)   (748, 2)   (748, 2)  (1648,)  (340,)   \n",
       "70  (1304,)   (584, 2)  (1300,)   (584, 2)   (584, 2)  (1296,)  (272,)   \n",
       "71  (2844,)  (1176, 2)  (2833,)  (1173, 2)  (1169, 2)  (2822,)  (473,)   \n",
       "\n",
       "         sbbb       bbbs  \n",
       "0    (186, 2)   (188, 2)  \n",
       "1    (259, 2)   (262, 2)  \n",
       "2    (142, 2)   (140, 2)  \n",
       "3    (426, 2)   (420, 2)  \n",
       "4   (1112, 2)  (1116, 2)  \n",
       "..        ...        ...  \n",
       "67   (156, 2)   (156, 2)  \n",
       "68    (88, 2)    (88, 2)  \n",
       "69   (746, 2)   (748, 2)  \n",
       "70   (584, 2)   (580, 2)  \n",
       "71  (1164, 2)  (1167, 2)  \n",
       "\n",
       "[72 rows x 9 columns]"
      ]
     },
     "execution_count": 6,
     "metadata": {},
     "output_type": "execute_result"
    }
   ],
   "source": [
    "protein_stats_list = []\n",
    "ssdna_stats_list = []\n",
    "for structure in structures:\n",
    "    stats = structure.get_stats()\n",
    "    protein_stats_list.append(stats[\"Protein chains\"])\n",
    "    ssdna_stats_list.append(stats[\"ssDNA chains\"])\n",
    "\n",
    "    \n",
    "\n",
    "protein_stats_df = pd.DataFrame(protein_stats_list)\n",
    "\n",
    "protein_stats_df"
   ]
  },
  {
   "cell_type": "code",
   "execution_count": 7,
   "metadata": {},
   "outputs": [
    {
     "name": "stdout",
     "output_type": "stream",
     "text": [
      "distances 2\n",
      "angles 3\n",
      "dihedrals 4\n"
     ]
    }
   ],
   "source": [
    "s1 = structures[0]\n",
    "for key, value in s1.protein_calculations.items():\n",
    "    print(key, len(value))"
   ]
  },
  {
   "cell_type": "code",
   "execution_count": 8,
   "metadata": {},
   "outputs": [],
   "source": [
    "protein_calc_lists = {\n",
    "    \"distances\": [],\n",
    "    \"angles\": [],\n",
    "    \"dihedrals\": [],\n",
    "}\n",
    "ssdna_calc_lists = {\n",
    "    \"distances\": [],\n",
    "    \"angles\": [],\n",
    "    \"dihedrals\": [],\n",
    "}\n",
    "\n",
    "for structure in structures:\n",
    "    protein_calc_lists[\"distances\"].append(structure.protein_calculations[\"distances\"])\n",
    "    protein_calc_lists[\"angles\"].append(structure.protein_calculations[\"angles\"])\n",
    "    protein_calc_lists[\"dihedrals\"].append(structure.protein_calculations[\"dihedrals\"])\n",
    "    \n",
    "    ssdna_calc_lists[\"distances\"].append(structure.ssdna_calculations[\"distances\"])\n",
    "    ssdna_calc_lists[\"angles\"].append(structure.ssdna_calculations[\"angles\"])\n",
    "    ssdna_calc_lists[\"dihedrals\"].append(structure.ssdna_calculations[\"dihedrals\"])\n",
    "\n",
    "\n",
    "\n",
    "protein_calc_lists[\"distances\"] = combine_dicts(protein_calc_lists[\"distances\"])\n",
    "protein_calc_lists[\"angles\"] = combine_dicts(protein_calc_lists[\"angles\"])\n",
    "protein_calc_lists[\"dihedrals\"] = combine_dicts(protein_calc_lists[\"dihedrals\"])\n",
    "\n",
    "ssdna_calc_lists[\"distances\"] = combine_dicts(ssdna_calc_lists[\"distances\"])\n",
    "ssdna_calc_lists[\"angles\"] = combine_dicts(ssdna_calc_lists[\"angles\"])\n",
    "ssdna_calc_lists[\"dihedrals\"] = combine_dicts(ssdna_calc_lists[\"dihedrals\"])\n"
   ]
  },
  {
   "cell_type": "code",
   "execution_count": 9,
   "metadata": {},
   "outputs": [
    {
     "name": "stdout",
     "output_type": "stream",
     "text": [
      "distances\n",
      "bb (60269,)\n",
      "bs (25639, 2)\n",
      "angles\n",
      "bbb (60024,)\n",
      "sbb (25558, 2)\n",
      "bbs (25570, 2)\n",
      "dihedrals\n",
      "bbbb (59779,)\n",
      "sbbs (10779,)\n",
      "sbbb (25477, 2)\n",
      "bbbs (25437, 2)\n"
     ]
    }
   ],
   "source": [
    "for key, value in protein_calc_lists.items():\n",
    "    print(key)\n",
    "    for k, v in value.items():\n",
    "        print(k, v.shape)"
   ]
  },
  {
   "cell_type": "code",
   "execution_count": 10,
   "metadata": {},
   "outputs": [],
   "source": [
    "import pickle\n",
    "\n",
    "with open(\"data/protein_calculations.pkl\", \"wb\") as f:\n",
    "    pickle.dump(protein_calc_lists, f)\n",
    "\n",
    "with open(\"data/ssdna_calculations.pkl\", \"wb\") as f:\n",
    "    pickle.dump(ssdna_calc_lists, f)\n",
    "\n",
    "del protein_calc_lists\n",
    "del ssdna_calc_lists"
   ]
  },
  {
   "cell_type": "code",
   "execution_count": 11,
   "metadata": {},
   "outputs": [],
   "source": [
    "# Load the data\n",
    "with open(\"data/protein_calculations.pkl\", \"rb\") as f:\n",
    "    protein_calc_lists = pickle.load(f)\n",
    "\n",
    "with open(\"data/ssdna_calculations.pkl\", \"rb\") as f:\n",
    "    ssdna_calc_lists = pickle.load(f)\n"
   ]
  },
  {
   "attachments": {},
   "cell_type": "markdown",
   "metadata": {},
   "source": [
    "Protein calculations"
   ]
  },
  {
   "attachments": {},
   "cell_type": "markdown",
   "metadata": {},
   "source": [
    "BB Distances"
   ]
  },
  {
   "cell_type": "code",
   "execution_count": 15,
   "metadata": {},
   "outputs": [],
   "source": [
    "bb_dist = protein_calc_lists[\"distances\"][\"bb\"]\n",
    "bb_df = pd.DataFrame(bb_dist)"
   ]
  },
  {
   "cell_type": "code",
   "execution_count": 16,
   "metadata": {},
   "outputs": [
    {
     "data": {
      "text/plain": [
       "<Axes: ylabel='Count'>"
      ]
     },
     "execution_count": 16,
     "metadata": {},
     "output_type": "execute_result"
    },
    {
     "data": {
      "image/png": "[encoded data removed]",
      "text/plain": [
       "<Figure size 640x480 with 1 Axes>"
      ]
     },
     "metadata": {},
     "output_type": "display_data"
    }
   ],
   "source": [
    "sns.histplot(bb_df, bins=100)"
   ]
  },
  {
   "cell_type": "code",
   "execution_count": null,
   "metadata": {},
   "outputs": [],
   "source": []
  }
 ],
 "metadata": {
  "kernelspec": {
   "display_name": "bio",
   "language": "python",
   "name": "python3"
  },
  "language_info": {
   "codemirror_mode": {
    "name": "ipython",
    "version": 3
   },
   "file_extension": ".py",
   "mimetype": "text/x-python",
   "name": "python",
   "nbconvert_exporter": "python",
   "pygments_lexer": "ipython3",
   "version": "3.11.3"
  },
  "orig_nbformat": 4
 },
 "nbformat": 4,
 "nbformat_minor": 2
}
