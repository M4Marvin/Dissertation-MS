{
 "cells": [
  {
   "attachments": {},
   "cell_type": "markdown",
   "metadata": {},
   "source": [
    "# Preprocessing the PDBs\n",
    "\n",
    "In this notebook i am preprocessing the pdb structures to prepare them for further processing.\n",
    "I will be using the preprocess.py module to perform the steps."
   ]
  },
  {
   "attachments": {},
   "cell_type": "markdown",
   "metadata": {},
   "source": [
    "## 0. Imports"
   ]
  },
  {
   "cell_type": "code",
   "execution_count": 1,
   "metadata": {},
   "outputs": [],
   "source": [
    "import os\n",
    "from src.preprocess import clean_pdb\n",
    "from rich.progress import track\n",
    "\n",
    "import warnings\n",
    "warnings.filterwarnings(\"ignore\")"
   ]
  },
  {
   "attachments": {},
   "cell_type": "markdown",
   "metadata": {},
   "source": [
    "## 1. Preprocessing\n",
    "\n",
    "Open all the pdb files and save them after preprocessing."
   ]
  },
  {
   "cell_type": "code",
   "execution_count": 2,
   "metadata": {},
   "outputs": [
    {
     "data": {
      "application/vnd.jupyter.widget-view+json": {
       "model_id": "bee5fab7ba5b4af680d80e4eaa45e367",
       "version_major": 2,
       "version_minor": 0
      },
      "text/plain": [
       "Output()"
      ]
     },
     "metadata": {},
     "output_type": "display_data"
    },
    {
     "name": "stdout",
     "output_type": "stream",
     "text": [
      "Done !!!\n"
     ]
    }
   ],
   "source": [
    "data_path = \"data/raw_pdbs\"\n",
    "out_folder = \"data/processed_pdbs/\"\n",
    "\n",
    "for pdb in track(os.listdir(data_path)):\n",
    "    if not pdb.endswith(\".pdb\"):\n",
    "        continue\n",
    "\n",
    "    pdb_path = os.path.join(data_path, pdb)\n",
    "    out_path = os.path.join(out_folder, pdb)\n",
    "\n",
    "    clean_pdb(pdb_path, out_path)\n",
    "    \n",
    "print(\"Done !!!\")\n"
   ]
  },
  {
   "attachments": {},
   "cell_type": "markdown",
   "metadata": {},
   "source": [
    "### Testing new preprocessing function using biopython functions"
   ]
  },
  {
   "cell_type": "code",
   "execution_count": 11,
   "metadata": {},
   "outputs": [],
   "source": [
    "from Bio.PDB.Residue import Residue\n",
    "from Bio.PDB.Polypeptide import is_aa, is_nucleic\n",
    "from Bio.PDB.PDBIO import Select, PDBIO\n",
    "from Bio.PDB import PDBParser"
   ]
  },
  {
   "cell_type": "code",
   "execution_count": 15,
   "metadata": {},
   "outputs": [],
   "source": [
    "class ResSelect(Select):\n",
    "    def accept_residue(self, residue):\n",
    "        if is_aa(residue):\n",
    "            return 1\n",
    "        else:\n",
    "            return 0\n",
    "\n",
    "class NuSelect(Select):\n",
    "    def accept_residue(self, residue):\n",
    "        if is_nucleic(residue):\n",
    "            return 1\n",
    "        else:\n",
    "            return 0\n",
    "\n",
    "class ComplexSelect(Select):\n",
    "    def accept_residue(self, residue):\n",
    "        if is_aa(residue) or is_nucleic(residue):\n",
    "            return 1\n",
    "        else:\n",
    "            return 0\n",
    "\n",
    "# Select residues with positive index\n",
    "class PositiveSelect(Select):\n",
    "    def accept_residue(self, residue):\n",
    "        if residue.id[1] > 0:\n",
    "            return 1\n",
    "        else:\n",
    "            return 0\n",
    "\n",
    "# Combine Complex and Positive Select also remove hydrogen atoms\n",
    "class ComplexPositiveSelect(Select):\n",
    "    def accept_residue(self, residue):\n",
    "        if (is_aa(residue) or is_nucleic(residue)) and residue.id[1] > 0:\n",
    "            return 1\n",
    "        else:\n",
    "            return 0\n",
    "\n",
    "    def accept_atom(self, atom):\n",
    "        if atom.element == \"H\":\n",
    "            return 0\n",
    "        else:\n",
    "            return 1"
   ]
  },
  {
   "cell_type": "code",
   "execution_count": 16,
   "metadata": {},
   "outputs": [],
   "source": [
    "def preprocess_pdb(pdb_path, out_path, select):\n",
    "    pdb_id = pdb_path.split(\"/\")[-1].split(\".\")[0]\n",
    "    pdb_parser = PDBParser()\n",
    "    structure = pdb_parser.get_structure(pdb_id, pdb_path)\n",
    "    io = PDBIO()\n",
    "    io.set_structure(structure)\n",
    "    io.save(out_path, select)"
   ]
  },
  {
   "cell_type": "code",
   "execution_count": 17,
   "metadata": {},
   "outputs": [
    {
     "name": "stderr",
     "output_type": "stream",
     "text": [
      "/Users/marvinprakash/mambaforge/envs/bio/lib/python3.11/site-packages/Bio/PDB/StructureBuilder.py:89: PDBConstructionWarning: WARNING: Chain A is discontinuous at line 2537.\n",
      "  warnings.warn(\n",
      "/Users/marvinprakash/mambaforge/envs/bio/lib/python3.11/site-packages/Bio/PDB/StructureBuilder.py:89: PDBConstructionWarning: WARNING: Chain B is discontinuous at line 2594.\n",
      "  warnings.warn(\n",
      "/Users/marvinprakash/mambaforge/envs/bio/lib/python3.11/site-packages/Bio/PDB/StructureBuilder.py:89: PDBConstructionWarning: WARNING: Chain C is discontinuous at line 2636.\n",
      "  warnings.warn(\n"
     ]
    }
   ],
   "source": [
    "pdb_path = \"data/raw_pdbs/2CCZ.pdb\"\n",
    "out_path = \"data/2CCZ_pro.pdb\"\n",
    "preprocess_pdb(pdb_path, out_path, ComplexPositiveSelect())"
   ]
  },
  {
   "cell_type": "code",
   "execution_count": null,
   "metadata": {},
   "outputs": [],
   "source": [
    "io = PDBIO()\n",
    "io.set_structure(structure)\n",
    "io.save(\"data/processed_pdbs/1a1e.pdb\", ComplexSelect())"
   ]
  }
 ],
 "metadata": {
  "kernelspec": {
   "display_name": "bio",
   "language": "python",
   "name": "python3"
  },
  "language_info": {
   "codemirror_mode": {
    "name": "ipython",
    "version": 3
   },
   "file_extension": ".py",
   "mimetype": "text/x-python",
   "name": "python",
   "nbconvert_exporter": "python",
   "pygments_lexer": "ipython3",
   "version": "3.11.3"
  },
  "orig_nbformat": 4
 },
 "nbformat": 4,
 "nbformat_minor": 2
}
