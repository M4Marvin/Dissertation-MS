{
 "cells": [
  {
   "attachments": {},
   "cell_type": "markdown",
   "metadata": {},
   "source": [
    "# Preprocessing the PDBs\n",
    "\n",
    "In this notebook i am preprocessing the pdb structures to prepare them for further processing.\n",
    "I will be using the preprocess.py module to perform the steps."
   ]
  },
  {
   "attachments": {},
   "cell_type": "markdown",
   "metadata": {},
   "source": [
    "## 0. Imports"
   ]
  },
  {
   "cell_type": "code",
   "execution_count": 6,
   "metadata": {},
   "outputs": [],
   "source": [
    "import os\n",
    "from src.preprocess import clean_pdb\n",
    "from rich.progress import track"
   ]
  },
  {
   "attachments": {},
   "cell_type": "markdown",
   "metadata": {},
   "source": [
    "## 1. Preprocessing\n",
    "\n",
    "Open all the pdb files and save them after preprocessing."
   ]
  },
  {
   "cell_type": "code",
   "execution_count": 10,
   "metadata": {},
   "outputs": [
    {
     "data": {
      "application/vnd.jupyter.widget-view+json": {
       "model_id": "729e62c428af47bf9842a64939a73bd7",
       "version_major": 2,
       "version_minor": 0
      },
      "text/plain": [
       "Output()"
      ]
     },
     "metadata": {},
     "output_type": "display_data"
    },
    {
     "ename": "AttributeError",
     "evalue": "'generator' object has no attribute 'set_description'",
     "output_type": "error",
     "traceback": [
      "\u001b[0;31m---------------------------------------------------------------------------\u001b[0m",
      "\u001b[0;31mAttributeError\u001b[0m                            Traceback (most recent call last)",
      "Cell \u001b[0;32mIn[10], line 8\u001b[0m\n\u001b[1;32m      4\u001b[0m pbar \u001b[39m=\u001b[39m track(os\u001b[39m.\u001b[39mlistdir(data_path), description\u001b[39m=\u001b[39m\u001b[39m\"\u001b[39m\u001b[39mProcessing PDBs\u001b[39m\u001b[39m\"\u001b[39m)\n\u001b[1;32m      6\u001b[0m \u001b[39mfor\u001b[39;00m pdb \u001b[39min\u001b[39;00m pbar:\n\u001b[1;32m      7\u001b[0m     \u001b[39m# Update the description\u001b[39;00m\n\u001b[0;32m----> 8\u001b[0m     pbar\u001b[39m.\u001b[39;49mset_description(\u001b[39mf\u001b[39m\u001b[39m\"\u001b[39m\u001b[39mProcessing \u001b[39m\u001b[39m{\u001b[39;00mpdb\u001b[39m}\u001b[39;00m\u001b[39m\"\u001b[39m)\n\u001b[1;32m     10\u001b[0m     pdb_path \u001b[39m=\u001b[39m os\u001b[39m.\u001b[39mpath\u001b[39m.\u001b[39mjoin(data_path, pdb)\n\u001b[1;32m     11\u001b[0m     out_path \u001b[39m=\u001b[39m os\u001b[39m.\u001b[39mpath\u001b[39m.\u001b[39mjoin(out_folder, pdb)\n",
      "\u001b[0;31mAttributeError\u001b[0m: 'generator' object has no attribute 'set_description'"
     ]
    }
   ],
   "source": [
    "data_path = \"data/Raw_pdbs\"\n",
    "out_folder = \"data/processed_pdbs/\"\n",
    "\n",
    "for pdb in track(os.listdir(data_path), description=f\"Processing {pdb}\"):\n",
    "    if not pdb.endswith(\".pdb\"):\n",
    "        continue\n",
    "\n",
    "    pbar.set_description(f\"Processing {pdb}\")\n",
    "    # print(pdb)\n",
    "\n",
    "    pdb_path = os.path.join(data_path, pdb)\n",
    "    out_path = os.path.join(out_folder, pdb)\n",
    "\n",
    "    clean_pdb(pdb_path, out_path)\n",
    "\n",
    "    # Update the description\n",
    "    \n",
    "print(\"Done !!!\")\n"
   ]
  },
  {
   "cell_type": "code",
   "execution_count": null,
   "metadata": {},
   "outputs": [],
   "source": []
  }
 ],
 "metadata": {
  "kernelspec": {
   "display_name": "bio",
   "language": "python",
   "name": "python3"
  },
  "language_info": {
   "codemirror_mode": {
    "name": "ipython",
    "version": 3
   },
   "file_extension": ".py",
   "mimetype": "text/x-python",
   "name": "python",
   "nbconvert_exporter": "python",
   "pygments_lexer": "ipython3",
   "version": "3.11.3"
  },
  "orig_nbformat": 4
 },
 "nbformat": 4,
 "nbformat_minor": 2
}
