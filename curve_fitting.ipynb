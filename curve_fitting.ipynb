{
 "cells": [
  {
   "cell_type": "code",
   "execution_count": 7,
   "metadata": {},
   "outputs": [],
   "source": [
    "import plotly.graph_objects as go\n",
    "import plotly.express as px\n",
    "\n",
    "import os\n",
    "import pandas as pd\n",
    "import numpy as np\n",
    "\n",
    "from src.curve_fitting import (\n",
    "    OutlierRemover,\n",
    "    DataBinner,\n",
    "    Fitter,\n",
    "    ModelSelector,\n",
    "    )\n",
    "\n",
    "np.set_printoptions(\n",
    "            formatter={\"float\": lambda x: \"{0:0.3f}\".format(x)},\n",
    "            linewidth=100,\n",
    "            suppress=True,\n",
    "        )\n",
    "np.set_printoptions(threshold=5)"
   ]
  },
  {
   "cell_type": "code",
   "execution_count": 2,
   "metadata": {},
   "outputs": [],
   "source": [
    "import pickle\n",
    "\n",
    "with open(\"data/protein_calculations.pkl\", \"rb\") as f:\n",
    "    protein_calculations = pickle.load(f)\n",
    "\n",
    "with open(\"data/ssdna_calculations.pkl\", \"rb\") as f:\n",
    "    ssdna_calculations = pickle.load(f)"
   ]
  },
  {
   "cell_type": "code",
   "execution_count": 8,
   "metadata": {},
   "outputs": [],
   "source": [
    "# Create the OutlierRemover, DataBinner, and Fitter objects\n",
    "outlier_remover = OutlierRemover()\n",
    "data_binner = DataBinner()\n",
    "fitter = Fitter()\n",
    "model_select = ModelSelector()\n",
    "\n",
    "maxfev = 1000000"
   ]
  },
  {
   "cell_type": "code",
   "execution_count": 9,
   "metadata": {},
   "outputs": [],
   "source": [
    "# df = pd.read_csv(data_file)\n",
    "# outlier_remover = OutlierRemover()\n",
    "# df = outlier_remover.remove_outliers(df, angle_col)\n",
    "\n",
    "# data_binner = DataBinner()\n",
    "# x, y = data_binner.get_bins_U_norm(df, angle_col)\n",
    "\n",
    "# fitter = Fitter()\n",
    "\n",
    "# fits = {}\n",
    "# for num_gaussians in range(1, 6):\n",
    "#     fits[num_gaussians] = fitter.fit_func(x, y, num_gaussians)\n",
    "\n",
    "# model_selector = ModelSelector()\n",
    "# (\n",
    "#     best_fit,\n",
    "#     best_func,\n",
    "#     best_score,\n",
    "#     best_num_gaussians,\n",
    "# ) = model_selector.select_best_model(x, y, fits)\n",
    "\n",
    "# print(f\"Best model has {best_num_gaussians} Gaussians with a score of {best_score}\")\n",
    "\n",
    "# plt.plot(x, y, label=\"Data\")\n",
    "# plt.plot(x, best_func, label=f\"Best fit ({best_num_gaussians} Gaussians)\")\n",
    "# plt.legend()\n",
    "# plt.show()"
   ]
  },
  {
   "cell_type": "code",
   "execution_count": 17,
   "metadata": {},
   "outputs": [
    {
     "name": "stderr",
     "output_type": "stream",
     "text": [
      "/Users/marvinprakash/Codes/Dissertation/src/curve_fitting.py:28: RuntimeWarning:\n",
      "\n",
      "divide by zero encountered in log\n",
      "\n",
      "/Users/marvinprakash/mambaforge/envs/bio/lib/python3.11/site-packages/scipy/optimize/_minpack_py.py:906: OptimizeWarning:\n",
      "\n",
      "Covariance of the parameters could not be estimated\n",
      "\n"
     ]
    },
    {
     "name": "stdout",
     "output_type": "stream",
     "text": [
      "Best model has 6 Gaussians with a score of 0.4282832287308752\n"
     ]
    },
    {
     "data": {
      "application/vnd.plotly.v1+json": {
       "config": {
        "plotlyServerURL": "https://plot.ly"
       },
       "data": [
        {
         "mode": "markers",
         "name": "Data",
         "type": "scatter",
         "x": [
          -52.163723557900866,
          -50.09616242193553,
          -49.06238185395287,
          -46.99482071798754,
          -45.96104015000488,
          -44.9272595820222,
          -43.89347901403954,
          -42.85969844605688,
          -41.82591787807421,
          -40.79213731009153,
          -39.75835674210887,
          -38.72457617412621,
          -37.69079560614355,
          -36.65701503816088,
          -35.623234470178204,
          -34.589453902195544,
          -33.555673334212884,
          -32.52189276623022,
          -31.48811219824755,
          -30.454331630264875,
          -29.420551062282215,
          -28.386770494299554,
          -27.352989926316894,
          -26.319209358334206,
          -25.285428790351546,
          -24.251648222368885,
          -23.217867654386225,
          -22.18408708640355,
          -21.150306518420877,
          -20.116525950438216,
          -19.082745382455556,
          -18.048964814472896,
          -17.015184246490207,
          -15.981403678507547,
          -14.947623110524887,
          -13.913842542542227,
          -12.880061974559567,
          -11.846281406576878,
          -10.812500838594218,
          -9.778720270611558,
          -8.744939702628898,
          -7.711159134646238,
          -6.677378566663549,
          -5.643597998680889,
          -4.609817430698229,
          -3.5760368627155685,
          -2.5422562947329084,
          -1.5084757267502198,
          -0.47469515876755963,
          0.5590854092151005,
          1.5928659771977607,
          2.6266465451804493,
          3.6604271131631094,
          4.69420768114577,
          5.72798824912843,
          6.76176881711109,
          7.7955493850937785,
          8.829329953076439,
          9.863110521059099,
          10.896891089041759,
          11.930671657024433,
          12.964452225007108,
          13.998232792989768,
          15.032013360972428,
          16.065793928955088,
          17.099574496937763,
          18.133355064920437,
          19.167135632903097,
          20.200916200885757,
          21.234696768868417,
          22.268477336851106,
          23.302257904833766,
          24.336038472816426,
          25.369819040799086,
          26.403599608781747,
          27.437380176764407,
          28.471160744747095,
          29.504941312729756,
          30.538721880712416,
          31.572502448695104,
          32.606283016677764,
          33.640063584660425,
          34.673844152643085,
          35.707624720625745,
          36.741405288608405,
          37.775185856591094,
          38.808966424573754,
          39.842746992556414,
          40.876527560539074,
          41.91030812852176,
          42.94408869650442,
          43.97786926448708,
          45.01164983246974,
          46.0454304004524,
          47.07921096843506,
          48.11299153641775,
          49.14677210440041,
          50.18055267238307
         ],
         "y": [
          18.607180210911103,
          20.335889279227608,
          20.335889279227608,
          18.607180210911103,
          16.321951125616962,
          18.607180210911103,
          18.607180210911103,
          18.607180210911103,
          20.335889279227608,
          20.335889279227608,
          18.607180210911103,
          16.8784711425946,
          17.595950231289343,
          16.8784711425946,
          20.335889279227608,
          17.595950231289343,
          17.595950231289343,
          16.321951125616962,
          15.482789367483656,
          13.582012077678696,
          12.409823026339831,
          11.615599420930204,
          11.014141251228887,
          10.209144410924837,
          8.294074818395668,
          7.289504388792267,
          5.965333130573846,
          4.612593965987186,
          3.0930283266823526,
          2.044071879578068,
          1.0069299785565615,
          0.15766174131411592,
          0,
          0.06246220476626263,
          0.675514317071058,
          1.173480498679364,
          1.681108136102031,
          2.3650351492601587,
          2.9626249565849605,
          3.3762651288819203,
          3.469641888939499,
          4.159404271601048,
          4.488090397479015,
          4.457911982585401,
          4.640101597784481,
          4.710228054659758,
          4.562938027048618,
          4.2801366647850205,
          4.340722640052217,
          4.483756773452054,
          4.095596427093655,
          3.7858385693451098,
          3.862276264382791,
          3.753321811465815,
          3.7084990389091654,
          3.5968087339574932,
          3.2889389213762357,
          3.5015608819189126,
          3.1942186767015848,
          3.4840999004442086,
          3.4986422156993253,
          3.6334858655473923,
          3.4928151102447433,
          3.602884254623408,
          3.7662776847573127,
          3.522087746765383,
          4.103019051620231,
          3.979743959013808,
          4.163209001553289,
          4.440829724022537,
          4.312265933607568,
          4.594422665200238,
          4.45363043646948,
          4.562938027048618,
          4.762937028972248,
          4.902358556259628,
          4.912621945229523,
          4.964582157965211,
          5.1441624333258265,
          5.601130431434292,
          5.850381909216379,
          5.69082751227592,
          5.918714950841537,
          6.839244025901138,
          7.483580042550146,
          7.571612711060219,
          7.236719349679312,
          8.395884872729185,
          8.952404889706823,
          9.963634869328585,
          11.13582392066745,
          12.025371230850647,
          13.269855199151403,
          13.421053005961591,
          15.86724116297284,
          17.595950231289343,
          18.607180210911103,
          16.8784711425946
         ]
        },
        {
         "mode": "lines",
         "name": "Best fit (6 Gaussians)",
         "type": "scatter",
         "x": [
          -52.163723557900866,
          -50.09616242193553,
          -49.06238185395287,
          -46.99482071798754,
          -45.96104015000488,
          -44.9272595820222,
          -43.89347901403954,
          -42.85969844605688,
          -41.82591787807421,
          -40.79213731009153,
          -39.75835674210887,
          -38.72457617412621,
          -37.69079560614355,
          -36.65701503816088,
          -35.623234470178204,
          -34.589453902195544,
          -33.555673334212884,
          -32.52189276623022,
          -31.48811219824755,
          -30.454331630264875,
          -29.420551062282215,
          -28.386770494299554,
          -27.352989926316894,
          -26.319209358334206,
          -25.285428790351546,
          -24.251648222368885,
          -23.217867654386225,
          -22.18408708640355,
          -21.150306518420877,
          -20.116525950438216,
          -19.082745382455556,
          -18.048964814472896,
          -17.015184246490207,
          -15.981403678507547,
          -14.947623110524887,
          -13.913842542542227,
          -12.880061974559567,
          -11.846281406576878,
          -10.812500838594218,
          -9.778720270611558,
          -8.744939702628898,
          -7.711159134646238,
          -6.677378566663549,
          -5.643597998680889,
          -4.609817430698229,
          -3.5760368627155685,
          -2.5422562947329084,
          -1.5084757267502198,
          -0.47469515876755963,
          0.5590854092151005,
          1.5928659771977607,
          2.6266465451804493,
          3.6604271131631094,
          4.69420768114577,
          5.72798824912843,
          6.76176881711109,
          7.7955493850937785,
          8.829329953076439,
          9.863110521059099,
          10.896891089041759,
          11.930671657024433,
          12.964452225007108,
          13.998232792989768,
          15.032013360972428,
          16.065793928955088,
          17.099574496937763,
          18.133355064920437,
          19.167135632903097,
          20.200916200885757,
          21.234696768868417,
          22.268477336851106,
          23.302257904833766,
          24.336038472816426,
          25.369819040799086,
          26.403599608781747,
          27.437380176764407,
          28.471160744747095,
          29.504941312729756,
          30.538721880712416,
          31.572502448695104,
          32.606283016677764,
          33.640063584660425,
          34.673844152643085,
          35.707624720625745,
          36.741405288608405,
          37.775185856591094,
          38.808966424573754,
          39.842746992556414,
          40.876527560539074,
          41.91030812852176,
          42.94408869650442,
          43.97786926448708,
          45.01164983246974,
          46.0454304004524,
          47.07921096843506,
          48.11299153641775,
          49.14677210440041,
          50.18055267238307
         ],
         "y": [
          18.75003169056282,
          18.863030946869227,
          18.914085826848627,
          18.99811115024615,
          19.0269314934872,
          19.04327438282239,
          19.04354206987137,
          19.023345730104978,
          18.977409182192016,
          18.899488059046416,
          18.782317033274094,
          18.61760107403281,
          18.396070213267507,
          18.10762057629125,
          17.741566905648554,
          17.287032598226876,
          16.73350115589227,
          16.07154636654975,
          15.29374575836313,
          14.395761341751024,
          13.377542531440364,
          12.244569059225642,
          11.009009578708845,
          9.690630404216199,
          8.31725738067464,
          6.924583562235027,
          5.555137978017519,
          4.2562955679705645,
          3.077318472590252,
          2.0655676651041794,
          1.2621930731188025,
          0.6977703357323408,
          0.38846659343753664,
          0.33335004416208847,
          0.5133823039239189,
          0.892442202259339,
          1.4204434299601818,
          2.0382712272570025,
          2.683938810537235,
          3.2991218612890805,
          3.8351273088679747,
          4.25742198904085,
          4.548081692250577,
          4.705877939960967,
          4.744126265429273,
          4.686792047732503,
          4.563613064166404,
          4.405103494734028,
          4.238240789922017,
          4.083430808652192,
          3.9530527174108228,
          3.8515713046873667,
          3.7769348070867923,
          3.7227974633600214,
          3.681038590956057,
          3.6440886931269905,
          3.6066921969952856,
          3.5668990576399455,
          3.526245680627063,
          3.4892283822523926,
          3.4622704770248967,
          3.4524302218975875,
          3.4660951470611607,
          3.507869812457584,
          3.5798029913851197,
          3.6810307514291147,
          3.8078454600632603,
          3.954145409745114,
          4.112179896888266,
          4.273481440405908,
          4.429869337069172,
          4.5744144366067845,
          4.702270686617692,
          4.8113012847468495,
          4.902453009363464,
          4.979858702844072,
          5.050672680256267,
          5.124665302538437,
          5.213619903390912,
          5.330587025411287,
          5.489057303703897,
          5.702115538463346,
          5.981635055261817,
          6.337564143370354,
          6.7773461320348565,
          7.305502537020398,
          7.923395715671243,
          8.629174578830657,
          9.41789497821336,
          10.281796118235144,
          11.21070624789621,
          12.192545288977538,
          13.213889070478986,
          14.260559397429384,
          15.318206051744784,
          16.37285063743449,
          17.411367480965865,
          18.421883065609396
         ]
        }
       ],
       "layout": {
        "font": {
         "color": "RebeccaPurple",
         "family": "Courier New, monospace",
         "size": 18
        },
        "legend": {
         "title": {
          "text": "Legend"
         }
        },
        "template": {
         "data": {
          "bar": [
           {
            "error_x": {
             "color": "#2a3f5f"
            },
            "error_y": {
             "color": "#2a3f5f"
            },
            "marker": {
             "line": {
              "color": "#E5ECF6",
              "width": 0.5
             },
             "pattern": {
              "fillmode": "overlay",
              "size": 10,
              "solidity": 0.2
             }
            },
            "type": "bar"
           }
          ],
          "barpolar": [
           {
            "marker": {
             "line": {
              "color": "#E5ECF6",
              "width": 0.5
             },
             "pattern": {
              "fillmode": "overlay",
              "size": 10,
              "solidity": 0.2
             }
            },
            "type": "barpolar"
           }
          ],
          "carpet": [
           {
            "aaxis": {
             "endlinecolor": "#2a3f5f",
             "gridcolor": "white",
             "linecolor": "white",
             "minorgridcolor": "white",
             "startlinecolor": "#2a3f5f"
            },
            "baxis": {
             "endlinecolor": "#2a3f5f",
             "gridcolor": "white",
             "linecolor": "white",
             "minorgridcolor": "white",
             "startlinecolor": "#2a3f5f"
            },
            "type": "carpet"
           }
          ],
          "choropleth": [
           {
            "colorbar": {
             "outlinewidth": 0,
             "ticks": ""
            },
            "type": "choropleth"
           }
          ],
          "contour": [
           {
            "colorbar": {
             "outlinewidth": 0,
             "ticks": ""
            },
            "colorscale": [
             [
              0,
              "#0d0887"
             ],
             [
              0.1111111111111111,
              "#46039f"
             ],
             [
              0.2222222222222222,
              "#7201a8"
             ],
             [
              0.3333333333333333,
              "#9c179e"
             ],
             [
              0.4444444444444444,
              "#bd3786"
             ],
             [
              0.5555555555555556,
              "#d8576b"
             ],
             [
              0.6666666666666666,
              "#ed7953"
             ],
             [
              0.7777777777777778,
              "#fb9f3a"
             ],
             [
              0.8888888888888888,
              "#fdca26"
             ],
             [
              1,
              "#f0f921"
             ]
            ],
            "type": "contour"
           }
          ],
          "contourcarpet": [
           {
            "colorbar": {
             "outlinewidth": 0,
             "ticks": ""
            },
            "type": "contourcarpet"
           }
          ],
          "heatmap": [
           {
            "colorbar": {
             "outlinewidth": 0,
             "ticks": ""
            },
            "colorscale": [
             [
              0,
              "#0d0887"
             ],
             [
              0.1111111111111111,
              "#46039f"
             ],
             [
              0.2222222222222222,
              "#7201a8"
             ],
             [
              0.3333333333333333,
              "#9c179e"
             ],
             [
              0.4444444444444444,
              "#bd3786"
             ],
             [
              0.5555555555555556,
              "#d8576b"
             ],
             [
              0.6666666666666666,
              "#ed7953"
             ],
             [
              0.7777777777777778,
              "#fb9f3a"
             ],
             [
              0.8888888888888888,
              "#fdca26"
             ],
             [
              1,
              "#f0f921"
             ]
            ],
            "type": "heatmap"
           }
          ],
          "heatmapgl": [
           {
            "colorbar": {
             "outlinewidth": 0,
             "ticks": ""
            },
            "colorscale": [
             [
              0,
              "#0d0887"
             ],
             [
              0.1111111111111111,
              "#46039f"
             ],
             [
              0.2222222222222222,
              "#7201a8"
             ],
             [
              0.3333333333333333,
              "#9c179e"
             ],
             [
              0.4444444444444444,
              "#bd3786"
             ],
             [
              0.5555555555555556,
              "#d8576b"
             ],
             [
              0.6666666666666666,
              "#ed7953"
             ],
             [
              0.7777777777777778,
              "#fb9f3a"
             ],
             [
              0.8888888888888888,
              "#fdca26"
             ],
             [
              1,
              "#f0f921"
             ]
            ],
            "type": "heatmapgl"
           }
          ],
          "histogram": [
           {
            "marker": {
             "pattern": {
              "fillmode": "overlay",
              "size": 10,
              "solidity": 0.2
             }
            },
            "type": "histogram"
           }
          ],
          "histogram2d": [
           {
            "colorbar": {
             "outlinewidth": 0,
             "ticks": ""
            },
            "colorscale": [
             [
              0,
              "#0d0887"
             ],
             [
              0.1111111111111111,
              "#46039f"
             ],
             [
              0.2222222222222222,
              "#7201a8"
             ],
             [
              0.3333333333333333,
              "#9c179e"
             ],
             [
              0.4444444444444444,
              "#bd3786"
             ],
             [
              0.5555555555555556,
              "#d8576b"
             ],
             [
              0.6666666666666666,
              "#ed7953"
             ],
             [
              0.7777777777777778,
              "#fb9f3a"
             ],
             [
              0.8888888888888888,
              "#fdca26"
             ],
             [
              1,
              "#f0f921"
             ]
            ],
            "type": "histogram2d"
           }
          ],
          "histogram2dcontour": [
           {
            "colorbar": {
             "outlinewidth": 0,
             "ticks": ""
            },
            "colorscale": [
             [
              0,
              "#0d0887"
             ],
             [
              0.1111111111111111,
              "#46039f"
             ],
             [
              0.2222222222222222,
              "#7201a8"
             ],
             [
              0.3333333333333333,
              "#9c179e"
             ],
             [
              0.4444444444444444,
              "#bd3786"
             ],
             [
              0.5555555555555556,
              "#d8576b"
             ],
             [
              0.6666666666666666,
              "#ed7953"
             ],
             [
              0.7777777777777778,
              "#fb9f3a"
             ],
             [
              0.8888888888888888,
              "#fdca26"
             ],
             [
              1,
              "#f0f921"
             ]
            ],
            "type": "histogram2dcontour"
           }
          ],
          "mesh3d": [
           {
            "colorbar": {
             "outlinewidth": 0,
             "ticks": ""
            },
            "type": "mesh3d"
           }
          ],
          "parcoords": [
           {
            "line": {
             "colorbar": {
              "outlinewidth": 0,
              "ticks": ""
             }
            },
            "type": "parcoords"
           }
          ],
          "pie": [
           {
            "automargin": true,
            "type": "pie"
           }
          ],
          "scatter": [
           {
            "fillpattern": {
             "fillmode": "overlay",
             "size": 10,
             "solidity": 0.2
            },
            "type": "scatter"
           }
          ],
          "scatter3d": [
           {
            "line": {
             "colorbar": {
              "outlinewidth": 0,
              "ticks": ""
             }
            },
            "marker": {
             "colorbar": {
              "outlinewidth": 0,
              "ticks": ""
             }
            },
            "type": "scatter3d"
           }
          ],
          "scattercarpet": [
           {
            "marker": {
             "colorbar": {
              "outlinewidth": 0,
              "ticks": ""
             }
            },
            "type": "scattercarpet"
           }
          ],
          "scattergeo": [
           {
            "marker": {
             "colorbar": {
              "outlinewidth": 0,
              "ticks": ""
             }
            },
            "type": "scattergeo"
           }
          ],
          "scattergl": [
           {
            "marker": {
             "colorbar": {
              "outlinewidth": 0,
              "ticks": ""
             }
            },
            "type": "scattergl"
           }
          ],
          "scattermapbox": [
           {
            "marker": {
             "colorbar": {
              "outlinewidth": 0,
              "ticks": ""
             }
            },
            "type": "scattermapbox"
           }
          ],
          "scatterpolar": [
           {
            "marker": {
             "colorbar": {
              "outlinewidth": 0,
              "ticks": ""
             }
            },
            "type": "scatterpolar"
           }
          ],
          "scatterpolargl": [
           {
            "marker": {
             "colorbar": {
              "outlinewidth": 0,
              "ticks": ""
             }
            },
            "type": "scatterpolargl"
           }
          ],
          "scatterternary": [
           {
            "marker": {
             "colorbar": {
              "outlinewidth": 0,
              "ticks": ""
             }
            },
            "type": "scatterternary"
           }
          ],
          "surface": [
           {
            "colorbar": {
             "outlinewidth": 0,
             "ticks": ""
            },
            "colorscale": [
             [
              0,
              "#0d0887"
             ],
             [
              0.1111111111111111,
              "#46039f"
             ],
             [
              0.2222222222222222,
              "#7201a8"
             ],
             [
              0.3333333333333333,
              "#9c179e"
             ],
             [
              0.4444444444444444,
              "#bd3786"
             ],
             [
              0.5555555555555556,
              "#d8576b"
             ],
             [
              0.6666666666666666,
              "#ed7953"
             ],
             [
              0.7777777777777778,
              "#fb9f3a"
             ],
             [
              0.8888888888888888,
              "#fdca26"
             ],
             [
              1,
              "#f0f921"
             ]
            ],
            "type": "surface"
           }
          ],
          "table": [
           {
            "cells": {
             "fill": {
              "color": "#EBF0F8"
             },
             "line": {
              "color": "white"
             }
            },
            "header": {
             "fill": {
              "color": "#C8D4E3"
             },
             "line": {
              "color": "white"
             }
            },
            "type": "table"
           }
          ]
         },
         "layout": {
          "annotationdefaults": {
           "arrowcolor": "#2a3f5f",
           "arrowhead": 0,
           "arrowwidth": 1
          },
          "autotypenumbers": "strict",
          "coloraxis": {
           "colorbar": {
            "outlinewidth": 0,
            "ticks": ""
           }
          },
          "colorscale": {
           "diverging": [
            [
             0,
             "#8e0152"
            ],
            [
             0.1,
             "#c51b7d"
            ],
            [
             0.2,
             "#de77ae"
            ],
            [
             0.3,
             "#f1b6da"
            ],
            [
             0.4,
             "#fde0ef"
            ],
            [
             0.5,
             "#f7f7f7"
            ],
            [
             0.6,
             "#e6f5d0"
            ],
            [
             0.7,
             "#b8e186"
            ],
            [
             0.8,
             "#7fbc41"
            ],
            [
             0.9,
             "#4d9221"
            ],
            [
             1,
             "#276419"
            ]
           ],
           "sequential": [
            [
             0,
             "#0d0887"
            ],
            [
             0.1111111111111111,
             "#46039f"
            ],
            [
             0.2222222222222222,
             "#7201a8"
            ],
            [
             0.3333333333333333,
             "#9c179e"
            ],
            [
             0.4444444444444444,
             "#bd3786"
            ],
            [
             0.5555555555555556,
             "#d8576b"
            ],
            [
             0.6666666666666666,
             "#ed7953"
            ],
            [
             0.7777777777777778,
             "#fb9f3a"
            ],
            [
             0.8888888888888888,
             "#fdca26"
            ],
            [
             1,
             "#f0f921"
            ]
           ],
           "sequentialminus": [
            [
             0,
             "#0d0887"
            ],
            [
             0.1111111111111111,
             "#46039f"
            ],
            [
             0.2222222222222222,
             "#7201a8"
            ],
            [
             0.3333333333333333,
             "#9c179e"
            ],
            [
             0.4444444444444444,
             "#bd3786"
            ],
            [
             0.5555555555555556,
             "#d8576b"
            ],
            [
             0.6666666666666666,
             "#ed7953"
            ],
            [
             0.7777777777777778,
             "#fb9f3a"
            ],
            [
             0.8888888888888888,
             "#fdca26"
            ],
            [
             1,
             "#f0f921"
            ]
           ]
          },
          "colorway": [
           "#636efa",
           "#EF553B",
           "#00cc96",
           "#ab63fa",
           "#FFA15A",
           "#19d3f3",
           "#FF6692",
           "#B6E880",
           "#FF97FF",
           "#FECB52"
          ],
          "font": {
           "color": "#2a3f5f"
          },
          "geo": {
           "bgcolor": "white",
           "lakecolor": "white",
           "landcolor": "#E5ECF6",
           "showlakes": true,
           "showland": true,
           "subunitcolor": "white"
          },
          "hoverlabel": {
           "align": "left"
          },
          "hovermode": "closest",
          "mapbox": {
           "style": "light"
          },
          "paper_bgcolor": "white",
          "plot_bgcolor": "#E5ECF6",
          "polar": {
           "angularaxis": {
            "gridcolor": "white",
            "linecolor": "white",
            "ticks": ""
           },
           "bgcolor": "#E5ECF6",
           "radialaxis": {
            "gridcolor": "white",
            "linecolor": "white",
            "ticks": ""
           }
          },
          "scene": {
           "xaxis": {
            "backgroundcolor": "#E5ECF6",
            "gridcolor": "white",
            "gridwidth": 2,
            "linecolor": "white",
            "showbackground": true,
            "ticks": "",
            "zerolinecolor": "white"
           },
           "yaxis": {
            "backgroundcolor": "#E5ECF6",
            "gridcolor": "white",
            "gridwidth": 2,
            "linecolor": "white",
            "showbackground": true,
            "ticks": "",
            "zerolinecolor": "white"
           },
           "zaxis": {
            "backgroundcolor": "#E5ECF6",
            "gridcolor": "white",
            "gridwidth": 2,
            "linecolor": "white",
            "showbackground": true,
            "ticks": "",
            "zerolinecolor": "white"
           }
          },
          "shapedefaults": {
           "line": {
            "color": "#2a3f5f"
           }
          },
          "ternary": {
           "aaxis": {
            "gridcolor": "white",
            "linecolor": "white",
            "ticks": ""
           },
           "baxis": {
            "gridcolor": "white",
            "linecolor": "white",
            "ticks": ""
           },
           "bgcolor": "#E5ECF6",
           "caxis": {
            "gridcolor": "white",
            "linecolor": "white",
            "ticks": ""
           }
          },
          "title": {
           "x": 0.05
          },
          "xaxis": {
           "automargin": true,
           "gridcolor": "white",
           "linecolor": "white",
           "ticks": "",
           "title": {
            "standoff": 15
           },
           "zerolinecolor": "white",
           "zerolinewidth": 2
          },
          "yaxis": {
           "automargin": true,
           "gridcolor": "white",
           "linecolor": "white",
           "ticks": "",
           "title": {
            "standoff": 15
           },
           "zerolinecolor": "white",
           "zerolinewidth": 2
          }
         }
        },
        "title": {
         "text": "Protein BBB Angles"
        },
        "xaxis": {
         "title": {
          "text": "Angle (degrees)"
         }
        },
        "yaxis": {
         "title": {
          "text": "Probability"
         }
        }
       }
      }
     },
     "metadata": {},
     "output_type": "display_data"
    }
   ],
   "source": [
    "data_bbb = protein_calculations[\"angles\"][\"bbb\"]\n",
    "# Convert to dataframe\n",
    "df = pd.DataFrame(data_bbb, columns=[\"angle\"])\n",
    "# Remove outliers\n",
    "df = outlier_remover.remove_outliers(df, \"angle\")\n",
    "# Get binned data\n",
    "x, y = data_binner.get_bins_U_norm(df, \"angle\")\n",
    "# Fit the data\n",
    "fits = {}\n",
    "for num_gaussians in [2,4,6]:\n",
    "    fits[num_gaussians] = fitter.fit_func(x, y, num_gaussians)\n",
    "# Select the best model\n",
    "(\n",
    "    best_fit,\n",
    "    best_func,\n",
    "    best_score,\n",
    "    best_num_gaussians,\n",
    ") = model_select.select_best_model(x, y, fits)\n",
    "print(f\"Best model has {best_num_gaussians} Gaussians with a score of {best_score}\")\n",
    "\n",
    "\n",
    "# Plot the data\n",
    "fig = go.Figure()\n",
    "fig.add_trace(go.Scatter(x=x, y=y, mode=\"markers\", name=\"Data\"))\n",
    "fig.add_trace(go.Scatter(x=x, y=best_func, mode=\"lines\", name=f\"Best fit ({best_num_gaussians} Gaussians)\"))\n",
    "fig.update_layout(\n",
    "    title=\"Protein BBB Angles\",\n",
    "    xaxis_title=\"Angle (degrees)\",\n",
    "    yaxis_title=\"Probability\",\n",
    "    legend_title=\"Legend\",\n",
    "    font=dict(\n",
    "        family=\"Courier New, monospace\",\n",
    "        size=18,\n",
    "        color=\"RebeccaPurple\"\n",
    "    ),\n",
    ")\n",
    "fig.show()\n",
    "\n",
    "# Save the best fit plot\n",
    "fig.write_image(\"plots/protein_bbb_angles_fit.png\")\n",
    "fig.write_html(\"htmls/protein_bbb_angles_fit.html\")"
   ]
  },
  {
   "cell_type": "code",
   "execution_count": null,
   "metadata": {},
   "outputs": [],
   "source": []
  }
 ],
 "metadata": {
  "kernelspec": {
   "display_name": "bio",
   "language": "python",
   "name": "python3"
  },
  "language_info": {
   "codemirror_mode": {
    "name": "ipython",
    "version": 3
   },
   "file_extension": ".py",
   "mimetype": "text/x-python",
   "name": "python",
   "nbconvert_exporter": "python",
   "pygments_lexer": "ipython3",
   "version": "3.11.3"
  },
  "orig_nbformat": 4
 },
 "nbformat": 4,
 "nbformat_minor": 2
}
