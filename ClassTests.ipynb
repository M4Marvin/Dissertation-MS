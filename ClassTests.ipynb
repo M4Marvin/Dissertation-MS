{
 "cells": [
  {
   "cell_type": "code",
   "execution_count": 1,
   "metadata": {},
   "outputs": [],
   "source": [
    "from Bio.PDB import PDBParser\n",
    "from src.ChainUnit import ChainUnitGenerator\n",
    "from src.Point import Point\n",
    "import os\n",
    "import pandas as pd\n",
    "import numpy as np\n",
    "\n",
    "np.set_printoptions(\n",
    "            formatter={\"float\": lambda x: \"{0:0.3f}\".format(x)},\n",
    "            linewidth=100,\n",
    "            suppress=True,\n",
    "        )\n",
    "np.set_printoptions(threshold=5)"
   ]
  },
  {
   "cell_type": "code",
   "execution_count": 2,
   "metadata": {},
   "outputs": [
    {
     "name": "stdout",
     "output_type": "stream",
     "text": [
      "[1 2 3]\n"
     ]
    }
   ],
   "source": [
    "p1 = Point([1, 2, 3])\n",
    "p2 = Point([4, 5, 6])\n",
    "print(p1)"
   ]
  },
  {
   "cell_type": "code",
   "execution_count": 3,
   "metadata": {},
   "outputs": [],
   "source": [
    "pdb_path = \"data/processed_pdbs/2CCZ.pdb\"\n",
    "parser = PDBParser()\n",
    "structure = parser.get_structure(\"2CCZ\", pdb_path)\n",
    "\n",
    "chain = structure[0][\"A\"]\n",
    "\n",
    "res = chain.get_residues().__next__()\n"
   ]
  },
  {
   "cell_type": "code",
   "execution_count": 4,
   "metadata": {},
   "outputs": [
    {
     "name": "stdout",
     "output_type": "stream",
     "text": [
      "Name of the unit: MET\n",
      "ID of the unit: 1\n",
      "Type of the unit: type_2\n",
      "Center of masses: {'ca_coords': [17.661  9.345 12.459], 'sidechain_com': [20.464  8.889 14.521], 'geo_center': [17.641  9.809 11.825]}\n",
      "\n"
     ]
    }
   ],
   "source": [
    "gen = ChainUnitGenerator()\n",
    "chain_unit = gen.generate(res)\n",
    "print(chain_unit)\n"
   ]
  },
  {
   "cell_type": "code",
   "execution_count": 5,
   "metadata": {},
   "outputs": [
    {
     "data": {
      "text/plain": [
       "{'resname': 'MET',\n",
       " 'id': 1,\n",
       " 'type': 'type_2',\n",
       " 'ca_coords': [17.661  9.345 12.459],\n",
       " 'sidechain_com': [20.464  8.889 14.521],\n",
       " 'geo_center': [17.641  9.809 11.825]}"
      ]
     },
     "execution_count": 5,
     "metadata": {},
     "output_type": "execute_result"
    }
   ],
   "source": [
    "chain_unit.to_dict()"
   ]
  },
  {
   "cell_type": "code",
   "execution_count": 6,
   "metadata": {},
   "outputs": [],
   "source": [
    "from src.Chain import ChainGenerator"
   ]
  },
  {
   "cell_type": "code",
   "execution_count": 7,
   "metadata": {},
   "outputs": [],
   "source": [
    "pdb_path = \"data/processed_pdbs/2CCZ.pdb\"\n",
    "parser = PDBParser()\n",
    "structure = parser.get_structure(\"2CCZ\", pdb_path)\n",
    "\n",
    "chain = structure[0][\"A\"]\n",
    "chain = ChainGenerator.generate_chain(chain, True)"
   ]
  },
  {
   "cell_type": "code",
   "execution_count": 17,
   "metadata": {},
   "outputs": [
    {
     "name": "stdout",
     "output_type": "stream",
     "text": [
      "Name of the unit: DT\n",
      "ID of the unit: 2\n",
      "Type of the unit: ssdna\n",
      "Center of masses: {'phosphate_com': [19.316 17.502 32.874], 'sugar_com': [19.123 19.22  36.99 ], 'base_com': [22.457 20.439 33.002]}\n",
      "\n",
      "Name of the unit: DT\n",
      "ID of the unit: 3\n",
      "Type of the unit: ssdna\n",
      "Center of masses: {'phosphate_com': [16.615 17.296 27.061], 'sugar_com': [14.368 13.549 26.475], 'base_com': [19.018 15.327 30.193]}\n",
      "\n",
      "Name of the unit: DT\n",
      "ID of the unit: 4\n",
      "Type of the unit: ssdna\n",
      "Center of masses: {'phosphate_com': [19.272 23.749 28.549], 'sugar_com': [23.624 25.164 28.623], 'base_com': [17.316 20.88  27.769]}\n",
      "\n",
      "Name of the unit: DT\n",
      "ID of the unit: 5\n",
      "Type of the unit: ssdna\n",
      "Center of masses: {'phosphate_com': [12.541 25.097 31.163], 'sugar_com': [10.846 22.108 34.339], 'base_com': [16.097 25.702 28.421]}\n",
      "\n",
      "Name of the unit: DT\n",
      "ID of the unit: 6\n",
      "Type of the unit: ssdna\n",
      "Center of masses: {'phosphate_com': [12.383 29.611 27.436], 'sugar_com': [15.921 31.962 28.772], 'base_com': [10.961 28.361 30.885]}\n",
      "\n",
      "Name of the unit: DT\n",
      "ID of the unit: 7\n",
      "Type of the unit: ssdna\n",
      "Center of masses: {'phosphate_com': [ 7.146 31.677 26.3  ], 'sugar_com': [ 3.977 30.241 23.199], 'base_com': [ 9.775 28.032 26.007]}\n",
      "\n",
      "Name of the unit: DT\n",
      "ID of the unit: 8\n",
      "Type of the unit: ssdna\n",
      "Center of masses: {'phosphate_com': [ 7.462 38.473 27.552], 'sugar_com': [11.222 36.695 25.916], 'base_com': [ 8.126 34.441 28.526]}\n",
      "\n",
      "Name of the unit: DT\n",
      "ID of the unit: 9\n",
      "Type of the unit: ssdna\n",
      "Center of masses: {'phosphate_com': [ 1.606 42.491 25.562], 'sugar_com': [ 1.101 46.334 23.403], 'base_com': [ 5.727 41.103 25.88 ]}\n",
      "\n",
      "Name of the unit: DT\n",
      "ID of the unit: 10\n",
      "Type of the unit: ssdna\n",
      "Center of masses: {'phosphate_com': [-3.995 39.699 25.027], 'sugar_com': [-4.245 43.476 27.4  ], 'base_com': [ 0.535 39.041 24.543]}\n",
      "\n",
      "Name of the unit: DT\n",
      "ID of the unit: 11\n",
      "Type of the unit: ssdna\n",
      "Center of masses: {'phosphate_com': [-1.923 35.551 23.644], 'sugar_com': [-3.757 32.201 24.405], 'base_com': [-5.155 37.693 22.048]}\n",
      "\n",
      "Name of the unit: DT\n",
      "ID of the unit: 12\n",
      "Type of the unit: ssdna\n",
      "Center of masses: {'phosphate_com': [-1.898 34.548 18.242], 'sugar_com': [-3.081 36.889 14.397], 'base_com': [ 0.787 34.746 21.278]}\n",
      "\n",
      "Name of the unit: DT\n",
      "ID of the unit: 13\n",
      "Type of the unit: ssdna\n",
      "Center of masses: {'phosphate_com': [-5.984 31.398 15.194], 'sugar_com': [-5.183 31.939 10.562], 'base_com': [-3.34  31.251 18.997]}\n",
      "\n",
      "Name of the unit: DT\n",
      "ID of the unit: 14\n",
      "Type of the unit: ssdna\n",
      "Center of masses: {'phosphate_com': [-10.657  33.681  16.082], 'sugar_com': [-12.351  33.318  20.268], 'base_com': [-8.894 30.71  17.427]}\n",
      "\n",
      "Name of the unit: DT\n",
      "ID of the unit: 15\n",
      "Type of the unit: ssdna\n",
      "Center of masses: {'phosphate_com': [-10.488  39.413  15.497], 'sugar_com': [-11.729  40.782  11.44 ], 'base_com': [-8.09  35.887 14.567]}\n",
      "\n"
     ]
    }
   ],
   "source": [
    "for unit in chain.units:\n",
    "    print(unit)"
   ]
  },
  {
   "cell_type": "code",
   "execution_count": 9,
   "metadata": {},
   "outputs": [
    {
     "name": "stdout",
     "output_type": "stream",
     "text": [
      "Type: protein\n",
      "Number of units: 115\n",
      "\n"
     ]
    }
   ],
   "source": [
    "print(chain)"
   ]
  },
  {
   "cell_type": "code",
   "execution_count": 16,
   "metadata": {},
   "outputs": [
    {
     "name": "stdout",
     "output_type": "stream",
     "text": [
      "{'bb':    nu_1_name nu_2_name  bb_distance\n",
      "0         DT        DT     4.411267\n",
      "1         DT        DT     3.559013\n",
      "2         DT        DT     4.531194\n",
      "3         DT        DT     3.934769\n",
      "4         DT        DT     4.503844\n",
      "5         DT        DT     4.200311\n",
      "6         DT        DT     4.359594\n",
      "7         DT        DT     4.603195\n",
      "8         DT        DT     4.192745\n",
      "9         DT        DT     4.057533\n",
      "10        DT        DT     4.634186\n",
      "11        DT        DT     3.707140\n",
      "12        DT        DT     4.364284,\n",
      " 'ps_sb_sp':    nu_name  ps_distance  sb_distance  sp_distance\n",
      "0       DT     4.463926     5.338636    10.420108\n",
      "1       DT     4.408579     6.213615    11.506564\n",
      "2       DT     4.576617     7.672660    11.370221\n",
      "3       DT     4.678912     8.690062    10.310783\n",
      "4       DT     4.452575     6.483346     9.120915\n",
      "5       DT     4.660876     6.810727     9.943157\n",
      "6       DT     4.469158     4.634397    11.232861\n",
      "7       DT     4.436883     7.409078     8.522481\n",
      "8       DT     4.468172     7.119406     9.072527\n",
      "9       DT     3.895335     6.137812     6.852214\n",
      "10      DT     4.654608     8.179240     6.262056\n",
      "11      DT     4.732000     8.661571     7.967238\n",
      "12      DT     4.530365     5.178926     7.961381\n",
      "13      DT     4.458268     6.854508          NaN}\n"
     ]
    }
   ],
   "source": [
    "from pprint import pprint as pp\n",
    "pp(chain.distances)"
   ]
  },
  {
   "cell_type": "code",
   "execution_count": 12,
   "metadata": {},
   "outputs": [],
   "source": [
    "dist = chain.distances[\"bs\"]"
   ]
  },
  {
   "cell_type": "code",
   "execution_count": 13,
   "metadata": {},
   "outputs": [
    {
     "name": "stdout",
     "output_type": "stream",
     "text": [
      "{'bbb': array([115.81712315, 127.49576442, 125.10134278, ..., 107.0395715 ,  93.07861245, 124.38893549]),\n",
      " 'bbs':    resname       angle\n",
      "0      ASN   78.146489\n",
      "1      CYS  114.256873\n",
      "2      LEU   92.519796\n",
      "3      ARG  114.777425\n",
      "4      GLY  125.479850\n",
      "5      PRO   87.070401\n",
      "6      CYS  141.979528\n",
      "7      GLN   93.007588\n",
      "8      LEU  143.725907\n",
      "9      GLU  162.011161\n",
      "10     HIS  144.407960\n",
      "11     VAL   99.421799\n",
      "12     GLN  134.854307\n",
      "13     GLU  128.645192\n",
      "14     GLY   93.300329\n",
      "15     PHE   84.599473\n",
      "16     HIS   96.317101\n",
      "17     ARG  123.644662\n",
      "18     ALA  156.996702\n",
      "19     CYS  110.663266\n",
      "20     GLN  134.261031\n",
      "21     VAL  129.851552\n",
      "22     GLY   98.939353\n",
      "23     HIS  141.435643\n",
      "24     ASN  115.001197\n",
      "25     ALA  147.834118\n",
      "26     THR  106.528671\n",
      "27     SER  110.963941\n",
      "28     SER  126.001357\n",
      "29     ARG  123.919401\n",
      "30     VAL  115.170094\n",
      "31     GLY  105.867375\n",
      "32     PHE  132.031434\n",
      "33     CYS   98.213850\n",
      "34     HIS  101.943851\n",
      "35     ALA  105.446013\n",
      "36     SER   78.084379\n",
      "37     LYS  122.907792\n",
      "38     LEU  102.859599\n",
      "39     ALA  125.322377\n",
      "40     GLU  126.016456\n",
      "41     GLN  110.569866\n",
      "42     ILE   90.402082\n",
      "43     LEU  115.898138\n",
      "44     ASP  167.443496\n",
      "45     LEU  109.653981\n",
      "46     GLU  123.079058\n",
      "47     HIS  102.071024\n",
      "48     HIS  123.171001\n",
      "49     HIS  120.669639,\n",
      " 'sbb':    resname       angle\n",
      "0      MET  146.650152\n",
      "1      ARG  151.245383\n",
      "2      ARG  127.527949\n",
      "3      ARG  143.012283\n",
      "4      LYS  107.388363\n",
      "5      ILE  118.461795\n",
      "6      HIS  123.632403\n",
      "7      GLN   78.567902\n",
      "8      PHE   94.730644\n",
      "9      GLU  103.811611\n",
      "10     HIS   73.891980\n",
      "11     ARG   84.629320\n",
      "12     GLN  128.207936\n",
      "13     GLU   88.560024\n",
      "14     GLU  103.122779\n",
      "15     PHE  129.676870\n",
      "16     HIS  139.988998\n",
      "17     ARG  116.447583\n",
      "18     GLN  108.909298\n",
      "19     TRP   66.439900\n",
      "20     GLN  138.743796\n",
      "21     MET  102.493490\n",
      "22     ILE   85.466885\n",
      "23     HIS  140.297177\n",
      "24     GLU   90.872080\n",
      "25     GLN  151.989248\n",
      "26     ILE  103.422870\n",
      "27     HIS  154.173511\n",
      "28     ILE  129.834725\n",
      "29     ARG  125.541406\n",
      "30     ILE   88.950481\n",
      "31     GLN  109.247504\n",
      "32     PHE   98.494239\n",
      "33     ILE  102.184149\n",
      "34     HIS  109.722848\n",
      "35     LYS  146.544742\n",
      "36     LYS  164.212352\n",
      "37     LYS  126.648521\n",
      "38     MET  114.299206\n",
      "39     HIS  155.260648\n",
      "40     GLU   90.152127\n",
      "41     GLN   93.495735\n",
      "42     ILE  110.870082\n",
      "43     GLU  132.023324\n",
      "44     ILE  121.976319\n",
      "45     LYS   87.825093\n",
      "46     GLU   99.015557\n",
      "47     HIS  104.678588\n",
      "48     HIS   76.317689\n",
      "49     HIS   88.228698}\n"
     ]
    }
   ],
   "source": [
    "pp(chain.angles)"
   ]
  },
  {
   "cell_type": "code",
   "execution_count": 14,
   "metadata": {},
   "outputs": [
    {
     "name": "stdout",
     "output_type": "stream",
     "text": [
      "{'bbbb': array([140.64139297, 160.22771448, 165.06547785, ...,  74.53009498,  64.99543053,  71.95629532]),\n",
      " 'bbbs':    resname    dihedral\n",
      "0      ASN   38.438762\n",
      "1      CYS  138.622740\n",
      "2      LEU   23.160045\n",
      "3      ARG   17.312049\n",
      "4      GLY   31.872900\n",
      "5      PRO   42.708340\n",
      "6      CYS   49.280898\n",
      "7      GLN   54.013078\n",
      "8      LEU   45.835692\n",
      "9      GLU   41.617099\n",
      "10     HIS   41.808060\n",
      "11     VAL   15.638384\n",
      "12     GLN  108.114657\n",
      "13     GLU    2.570327\n",
      "14     GLY   89.832187\n",
      "15     PHE   63.744066\n",
      "16     HIS   27.546338\n",
      "17     ARG  116.558556\n",
      "18     ALA   60.565629\n",
      "19     CYS   42.194447\n",
      "20     GLN   22.168110\n",
      "21     VAL   62.665100\n",
      "22     GLY  133.455233\n",
      "23     HIS   36.965030\n",
      "24     ASN   83.392605\n",
      "25     ALA   55.368465\n",
      "26     THR   89.428486\n",
      "27     SER   54.759482\n",
      "28     SER   59.556063\n",
      "29     ARG    5.339147\n",
      "30     VAL   31.717232\n",
      "31     GLY  157.170570\n",
      "32     PHE   59.137044\n",
      "33     CYS   47.232030\n",
      "34     HIS    1.507233\n",
      "35     ALA   60.838038\n",
      "36     SER   93.738291\n",
      "37     LYS  135.994146\n",
      "38     LEU   22.554398\n",
      "39     ALA   72.253115\n",
      "40     GLU  131.547787\n",
      "41     GLN   13.329772\n",
      "42     ILE   33.318845\n",
      "43     LEU   63.126672\n",
      "44     ASP  141.637968\n",
      "45     LEU   73.552605\n",
      "46     GLU   46.529717\n",
      "47     HIS   11.664251\n",
      "48     HIS   41.786738\n",
      "49     HIS  112.892862,\n",
      " 'sbbb':    resname    dihedral\n",
      "0      MET   95.970746\n",
      "1      ARG   55.561619\n",
      "2      ARG   72.594686\n",
      "3      ARG   26.070359\n",
      "4      LYS   39.949480\n",
      "5      ILE   38.362182\n",
      "6      HIS   38.816600\n",
      "7      GLN   47.227092\n",
      "8      PHE    6.391513\n",
      "9      GLU    0.983160\n",
      "10     HIS   19.550224\n",
      "11     ARG   19.225641\n",
      "12     GLN   77.430645\n",
      "13     GLU   51.683190\n",
      "14     GLU  171.579517\n",
      "15     PHE   62.069056\n",
      "16     HIS    7.535475\n",
      "17     ARG   41.784664\n",
      "18     GLN    2.410807\n",
      "19     TRP   47.821427\n",
      "20     GLN    3.613657\n",
      "21     MET   58.615128\n",
      "22     ILE   11.980975\n",
      "23     HIS  161.641638\n",
      "24     GLU  178.275462\n",
      "25     GLN  135.579562\n",
      "26     ILE  158.357427\n",
      "27     HIS  158.314728\n",
      "28     ILE   23.351170\n",
      "29     ARG   45.663777\n",
      "30     ILE   11.116933\n",
      "31     GLN  110.331789\n",
      "32     PHE   11.285693\n",
      "33     ILE   12.916371\n",
      "34     HIS   48.704017\n",
      "35     LYS   21.138322\n",
      "36     LYS   83.726806\n",
      "37     LYS   73.784555\n",
      "38     MET   30.089577\n",
      "39     HIS   50.051784\n",
      "40     GLU  157.640185\n",
      "41     GLN   22.910795\n",
      "42     ILE   25.574475\n",
      "43     GLU   14.475639\n",
      "44     ILE  133.471763\n",
      "45     LYS  140.292455\n",
      "46     GLU  172.325964\n",
      "47     HIS  162.906830\n",
      "48     HIS  173.636531,\n",
      " 'sbbs': array([160.30310944, 148.11422261, 147.12238184, ..., 120.4334768 ,  59.89349737,  17.06108857])}\n"
     ]
    }
   ],
   "source": [
    "pp(chain.dihedrals)"
   ]
  },
  {
   "cell_type": "code",
   "execution_count": 19,
   "metadata": {},
   "outputs": [
    {
     "name": "stdout",
     "output_type": "stream",
     "text": [
      "Name of the unit: DT\n",
      "ID of the unit: 2\n",
      "Type of the unit: ssdna\n",
      "Center of masses: {'phosphate_com': [19.316 17.502 32.874], 'sugar_com': [19.123 19.22  36.99 ], 'base_com': [22.457 20.439 33.002]}\n",
      "\n",
      "Name of the unit: DT\n",
      "ID of the unit: 3\n",
      "Type of the unit: ssdna\n",
      "Center of masses: {'phosphate_com': [16.615 17.296 27.061], 'sugar_com': [14.368 13.549 26.475], 'base_com': [19.018 15.327 30.193]}\n",
      "\n",
      "Name of the unit: DT\n",
      "ID of the unit: 4\n",
      "Type of the unit: ssdna\n",
      "Center of masses: {'phosphate_com': [19.272 23.749 28.549], 'sugar_com': [23.624 25.164 28.623], 'base_com': [17.316 20.88  27.769]}\n",
      "\n",
      "Name of the unit: DT\n",
      "ID of the unit: 5\n",
      "Type of the unit: ssdna\n",
      "Center of masses: {'phosphate_com': [12.541 25.097 31.163], 'sugar_com': [10.846 22.108 34.339], 'base_com': [16.097 25.702 28.421]}\n",
      "\n",
      "Name of the unit: DT\n",
      "ID of the unit: 6\n",
      "Type of the unit: ssdna\n",
      "Center of masses: {'phosphate_com': [12.383 29.611 27.436], 'sugar_com': [15.921 31.962 28.772], 'base_com': [10.961 28.361 30.885]}\n",
      "\n",
      "Name of the unit: DT\n",
      "ID of the unit: 7\n",
      "Type of the unit: ssdna\n",
      "Center of masses: {'phosphate_com': [ 7.146 31.677 26.3  ], 'sugar_com': [ 3.977 30.241 23.199], 'base_com': [ 9.775 28.032 26.007]}\n",
      "\n",
      "Name of the unit: DT\n",
      "ID of the unit: 8\n",
      "Type of the unit: ssdna\n",
      "Center of masses: {'phosphate_com': [ 7.462 38.473 27.552], 'sugar_com': [11.222 36.695 25.916], 'base_com': [ 8.126 34.441 28.526]}\n",
      "\n",
      "Name of the unit: DT\n",
      "ID of the unit: 9\n",
      "Type of the unit: ssdna\n",
      "Center of masses: {'phosphate_com': [ 1.606 42.491 25.562], 'sugar_com': [ 1.101 46.334 23.403], 'base_com': [ 5.727 41.103 25.88 ]}\n",
      "\n",
      "Name of the unit: DT\n",
      "ID of the unit: 10\n",
      "Type of the unit: ssdna\n",
      "Center of masses: {'phosphate_com': [-3.995 39.699 25.027], 'sugar_com': [-4.245 43.476 27.4  ], 'base_com': [ 0.535 39.041 24.543]}\n",
      "\n",
      "Name of the unit: DT\n",
      "ID of the unit: 11\n",
      "Type of the unit: ssdna\n",
      "Center of masses: {'phosphate_com': [-1.923 35.551 23.644], 'sugar_com': [-3.757 32.201 24.405], 'base_com': [-5.155 37.693 22.048]}\n",
      "\n",
      "Name of the unit: DT\n",
      "ID of the unit: 12\n",
      "Type of the unit: ssdna\n",
      "Center of masses: {'phosphate_com': [-1.898 34.548 18.242], 'sugar_com': [-3.081 36.889 14.397], 'base_com': [ 0.787 34.746 21.278]}\n",
      "\n",
      "Name of the unit: DT\n",
      "ID of the unit: 13\n",
      "Type of the unit: ssdna\n",
      "Center of masses: {'phosphate_com': [-5.984 31.398 15.194], 'sugar_com': [-5.183 31.939 10.562], 'base_com': [-3.34  31.251 18.997]}\n",
      "\n",
      "Name of the unit: DT\n",
      "ID of the unit: 14\n",
      "Type of the unit: ssdna\n",
      "Center of masses: {'phosphate_com': [-10.657  33.681  16.082], 'sugar_com': [-12.351  33.318  20.268], 'base_com': [-8.894 30.71  17.427]}\n",
      "\n",
      "Name of the unit: DT\n",
      "ID of the unit: 15\n",
      "Type of the unit: ssdna\n",
      "Center of masses: {'phosphate_com': [-10.488  39.413  15.497], 'sugar_com': [-11.729  40.782  11.44 ], 'base_com': [-8.09  35.887 14.567]}\n",
      "\n"
     ]
    }
   ],
   "source": [
    "from src.Structure import Structure\n",
    "\n",
    "\n",
    "structure1 = Structure(\"2CCZ\", structure)\n",
    "\n",
    "for chain in structure1.ssdna_chains:\n",
    "    for unit in chain.units:\n",
    "        print(unit)"
   ]
  },
  {
   "cell_type": "code",
   "execution_count": 12,
   "metadata": {},
   "outputs": [
    {
     "data": {
      "application/vnd.jupyter.widget-view+json": {
       "model_id": "c0915592c3624fab920d217346fd59a1",
       "version_major": 2,
       "version_minor": 0
      },
      "text/plain": []
     },
     "metadata": {},
     "output_type": "display_data"
    },
    {
     "data": {
      "application/vnd.jupyter.widget-view+json": {
       "model_id": "cacdccfd3a4a4f308bc4c1d3f267cbbd",
       "version_major": 2,
       "version_minor": 0
      },
      "text/plain": [
       "NGLWidget()"
      ]
     },
     "metadata": {},
     "output_type": "display_data"
    }
   ],
   "source": [
    "import nglview as nv\n",
    "\n",
    "view = nv.show_biopython(structure)\n",
    "view"
   ]
  },
  {
   "cell_type": "code",
   "execution_count": 45,
   "metadata": {},
   "outputs": [
    {
     "name": "stdout",
     "output_type": "stream",
     "text": [
      "MDPNSLMTNRLVLSGTVCRAPLRKVSPSGIPHCQFVLEHRSVQEEAGFHRQAWCQMPVIVSGHENQAITHSITVGSRITVQGFISCHKAKNGLSKMVLHAEQIELIDSVDKLAAALEHHHHH\n",
      "PNSLMTNRLVLSGTVCRAPLRKVSPSGIPHCQFVLEHRSVQEEAGFHRQAWCQMPVIVSGHENQAITHSITVGSRITVQGFISCHKAKNGLSKMVLHAEQIELIDSVDKLAAALEHHHH\n"
     ]
    }
   ],
   "source": [
    "from Bio.PDB.Polypeptide import PPBuilder\n",
    "\n",
    "ppb = PPBuilder()\n",
    "for pp in ppb.build_peptides(structure):\n",
    "    print(pp.get_sequence())"
   ]
  },
  {
   "cell_type": "code",
   "execution_count": 13,
   "metadata": {},
   "outputs": [],
   "source": [
    "chain = structure.get_chains().__next__()\n",
    "res_list = []\n",
    "for res in chain.get_residues():\n",
    "    res_list.append(ChainUnitGenerator().generate(res))"
   ]
  },
  {
   "cell_type": "code",
   "execution_count": 14,
   "metadata": {},
   "outputs": [
    {
     "name": "stdout",
     "output_type": "stream",
     "text": [
      "None\n",
      "115\n"
     ]
    }
   ],
   "source": [
    "for i, res in enumerate(res_list):\n",
    "    if res is None:\n",
    "        print(\"None\")\n",
    "        print(i)\n",
    "\n",
    "    "
   ]
  },
  {
   "cell_type": "code",
   "execution_count": 16,
   "metadata": {},
   "outputs": [
    {
     "name": "stdout",
     "output_type": "stream",
     "text": [
      "Protein chains:\n",
      "bb: (636,)\n",
      "bs: (261, 2)\n",
      "bbb: (633,)\n",
      "sbb: (258, 2)\n",
      "bbs: (259, 2)\n",
      "bbbb: (630,)\n",
      "sbbs: (111,)\n",
      "sbbb: (258, 2)\n",
      "bbbs: (258, 2)\n",
      "\n",
      "ssDNA chains:\n",
      "ps_sb_sp: (25, 4)\n",
      "bb: (19, 3)\n",
      "psb_psp_bsp_sps: (25, 5)\n",
      "psps: (19, 1)\n",
      "spsp: (13, 1)\n"
     ]
    }
   ],
   "source": [
    "structure1.print_stats()"
   ]
  },
  {
   "cell_type": "code",
   "execution_count": 18,
   "metadata": {},
   "outputs": [
    {
     "name": "stdout",
     "output_type": "stream",
     "text": [
      "distances\n",
      "{'bb': array([3.7318382, 3.7491426, 3.7097251, ..., 3.7904954, 3.8268442, 3.8762379], dtype=float32), 'bs':     resname  distance\n",
      "0       ARG  4.595774\n",
      "1       MET  3.417751\n",
      "2       HIS  3.175453\n",
      "3       TYR  3.889624\n",
      "4       ILE  2.393688\n",
      "..      ...       ...\n",
      "256     ARG  4.367954\n",
      "257     GLU  3.463273\n",
      "258     ARG  4.713739\n",
      "259     GLU  2.868031\n",
      "260     ARG  4.536646\n",
      "\n",
      "[261 rows x 2 columns]}\n",
      "angles\n",
      "{'bbb': array([142.56196945, 120.91707367, 127.49931562, ..., 110.34359066, 131.29697919, 105.34372666]), 'sbb':     resname       angle\n",
      "0       ARG   83.129474\n",
      "1       MET   99.386493\n",
      "2       HIS  144.573243\n",
      "3       TYR  156.759283\n",
      "4       ILE  130.257182\n",
      "..      ...         ...\n",
      "253     GLU   93.097217\n",
      "254     ARG  112.554063\n",
      "255     GLU  111.865217\n",
      "256     ARG   94.804682\n",
      "257     GLU  134.462515\n",
      "\n",
      "[258 rows x 2 columns], 'bbs':     resname       angle\n",
      "0       GLY  136.210745\n",
      "1       ASN   80.419748\n",
      "2       VAL   82.079066\n",
      "3       LEU  118.721166\n",
      "4       ALA  103.794029\n",
      "..      ...         ...\n",
      "254     THR  104.330285\n",
      "255     VAL  144.690271\n",
      "256     THR  130.921372\n",
      "257     VAL   97.395073\n",
      "258     ALA  109.891605\n",
      "\n",
      "[259 rows x 2 columns]}\n",
      "dihedrals\n",
      "{'bbbb': array([174.41404925, 176.81924571, 156.14992504, ..., 142.5358431 , 143.70220441,  70.27381874]), 'sbbs': array([164.66314734, 167.9690875 , 151.66369423, ...,  18.00866655, 165.70982322, 167.1433418 ]), 'sbbb':     resname   dihedral\n",
      "0       ARG  49.410929\n",
      "1       MET  21.029216\n",
      "2       HIS   3.434827\n",
      "3       TYR   6.789016\n",
      "4       ILE  72.357181\n",
      "..      ...        ...\n",
      "253     GLU  83.416020\n",
      "254     ARG  59.533293\n",
      "255     GLU  22.182404\n",
      "256     ARG   1.709127\n",
      "257     GLU  62.401892\n",
      "\n",
      "[258 rows x 2 columns], 'bbbs':     resname    dihedral\n",
      "0       GLY   31.497602\n",
      "1       ASN   23.923081\n",
      "2       VAL   11.438883\n",
      "3       LEU   20.206917\n",
      "4       ALA  126.223752\n",
      "..      ...         ...\n",
      "253     THR   10.694585\n",
      "254     VAL   62.124150\n",
      "255     THR  156.554364\n",
      "256     VAL    5.203159\n",
      "257     ALA   93.402924\n",
      "\n",
      "[258 rows x 2 columns]}\n"
     ]
    }
   ],
   "source": [
    "for key, value in structure1.protein_calculations.items():\n",
    "    print(key)\n",
    "    print(value)"
   ]
  },
  {
   "cell_type": "code",
   "execution_count": 30,
   "metadata": {},
   "outputs": [
    {
     "ename": "AttributeError",
     "evalue": "'NoneType' object has no attribute 'items'",
     "output_type": "error",
     "traceback": [
      "\u001b[0;31m---------------------------------------------------------------------------\u001b[0m",
      "\u001b[0;31mAttributeError\u001b[0m                            Traceback (most recent call last)",
      "Cell \u001b[0;32mIn[30], line 1\u001b[0m\n\u001b[0;32m----> 1\u001b[0m \u001b[39mfor\u001b[39;00m key,value \u001b[39min\u001b[39;00m structure1\u001b[39m.\u001b[39;49mssdna_distances\u001b[39m.\u001b[39;49mitems():\n\u001b[1;32m      2\u001b[0m     \u001b[39mprint\u001b[39m(key)\n\u001b[1;32m      3\u001b[0m     \u001b[39mprint\u001b[39m(value)\n",
      "\u001b[0;31mAttributeError\u001b[0m: 'NoneType' object has no attribute 'items'"
     ]
    }
   ],
   "source": [
    "for key,value in structure1.ssdna_distances.items():\n",
    "    print(key)\n",
    "    print(value)"
   ]
  },
  {
   "cell_type": "code",
   "execution_count": 19,
   "metadata": {},
   "outputs": [
    {
     "ename": "AttributeError",
     "evalue": "'numpy.ndarray' object has no attribute 'describe'",
     "output_type": "error",
     "traceback": [
      "\u001b[0;31m---------------------------------------------------------------------------\u001b[0m",
      "\u001b[0;31mAttributeError\u001b[0m                            Traceback (most recent call last)",
      "Cell \u001b[0;32mIn[19], line 2\u001b[0m\n\u001b[1;32m      1\u001b[0m arr \u001b[39m=\u001b[39m np\u001b[39m.\u001b[39marray([\u001b[39m1\u001b[39m, \u001b[39m2\u001b[39m, \u001b[39m3\u001b[39m])\n\u001b[0;32m----> 2\u001b[0m arr\u001b[39m.\u001b[39;49mdescribe()\n",
      "\u001b[0;31mAttributeError\u001b[0m: 'numpy.ndarray' object has no attribute 'describe'"
     ]
    }
   ],
   "source": [
    "arr = np.array([1, 2, 3])\n",
    "arr.describe()"
   ]
  },
  {
   "cell_type": "code",
   "execution_count": null,
   "metadata": {},
   "outputs": [],
   "source": []
  }
 ],
 "metadata": {
  "kernelspec": {
   "display_name": "bio",
   "language": "python",
   "name": "python3"
  },
  "language_info": {
   "codemirror_mode": {
    "name": "ipython",
    "version": 3
   },
   "file_extension": ".py",
   "mimetype": "text/x-python",
   "name": "python",
   "nbconvert_exporter": "python",
   "pygments_lexer": "ipython3",
   "version": "3.11.3"
  },
  "orig_nbformat": 4
 },
 "nbformat": 4,
 "nbformat_minor": 2
}
