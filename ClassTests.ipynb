{
 "cells": [
  {
   "cell_type": "code",
   "execution_count": 1,
   "metadata": {},
   "outputs": [],
   "source": [
    "from Bio.PDB import PDBParser\n",
    "from src.ChainUnit import ChainUnit\n",
    "import os\n",
    "import pandas as pd\n",
    "import numpy as np\n",
    "\n",
    "np.set_printoptions(\n",
    "            formatter={\"float\": lambda x: \"{0:0.3f}\".format(x)},\n",
    "            linewidth=100,\n",
    "            suppress=True,\n",
    "        )\n",
    "\n",
    "# Same for pandas\n",
    "pd.options.display.float_format = \"{0:,0.3f}\".format"
   ]
  },
  {
   "cell_type": "code",
   "execution_count": 2,
   "metadata": {},
   "outputs": [
    {
     "name": "stderr",
     "output_type": "stream",
     "text": [
      "/Users/marvinprakash/mambaforge/envs/bio/lib/python3.11/site-packages/Bio/PDB/PDBParser.py:395: PDBConstructionWarning: Ignoring unrecognized record 'END' at line 5502\n",
      "  warnings.warn(\n"
     ]
    }
   ],
   "source": [
    "pdb_path = \"data/processed_pdbs/3UDG.pdb\"\n",
    "parser = PDBParser()\n",
    "structure = parser.get_structure(\"3UDG\", pdb_path)"
   ]
  },
  {
   "cell_type": "code",
   "execution_count": 3,
   "metadata": {},
   "outputs": [
    {
     "name": "stdout",
     "output_type": "stream",
     "text": [
      "([32.050 -58.395 17.096], [29.344 -59.055 13.444], [34.228 -55.728 15.594])\n"
     ]
    }
   ],
   "source": [
    "chain = structure[0][\"D\"]\n",
    "\n",
    "res = chain.get_residues().__next__()\n",
    "unit = ChainUnit(res)\n",
    "print(unit.coms)"
   ]
  },
  {
   "cell_type": "code",
   "execution_count": 4,
   "metadata": {},
   "outputs": [
    {
     "data": {
      "text/plain": [
       "True"
      ]
     },
     "execution_count": 4,
     "metadata": {},
     "output_type": "execute_result"
    }
   ],
   "source": [
    "unit.fidelity"
   ]
  },
  {
   "cell_type": "code",
   "execution_count": 5,
   "metadata": {},
   "outputs": [
    {
     "data": {
      "text/plain": [
       "([32.050 -58.395 17.096], [29.344 -59.055 13.444], [34.228 -55.728 15.594])"
      ]
     },
     "execution_count": 5,
     "metadata": {},
     "output_type": "execute_result"
    }
   ],
   "source": [
    "unit.coms"
   ]
  },
  {
   "cell_type": "code",
   "execution_count": 6,
   "metadata": {},
   "outputs": [
    {
     "data": {
      "text/plain": [
       "{'resname': 'DT',\n",
       " 'id': 1,\n",
       " 'phosphate_com': [32.050 -58.395 17.096],\n",
       " 'sugar_com': [29.344 -59.055 13.444],\n",
       " 'base_com': [34.228 -55.728 15.594]}"
      ]
     },
     "execution_count": 6,
     "metadata": {},
     "output_type": "execute_result"
    }
   ],
   "source": [
    "unit.to_dict()"
   ]
  },
  {
   "cell_type": "code",
   "execution_count": 7,
   "metadata": {},
   "outputs": [],
   "source": [
    "from src.Chain import Chain"
   ]
  },
  {
   "cell_type": "code",
   "execution_count": 8,
   "metadata": {},
   "outputs": [
    {
     "name": "stdout",
     "output_type": "stream",
     "text": [
      "  resname  id            phosphate_com                sugar_com  \\\n",
      "0      DT   1  [32.050 -58.395 17.096]  [29.344 -59.055 13.444]   \n",
      "1      DT   2  [33.192 -64.374 17.839]  [35.204 -68.404 19.791]   \n",
      "2      DT   3  [31.547 -69.248 15.165]  [31.991 -70.295 19.747]   \n",
      "3      DT   4  [27.657 -74.083 13.748]  [24.578 -71.096 15.096]   \n",
      "4      DT   5  [23.449 -78.475 12.207]  [19.718 -75.564 13.413]   \n",
      "\n",
      "                  base_com  \n",
      "0  [34.228 -55.728 15.594]  \n",
      "1  [32.273 -60.654 19.909]  \n",
      "2  [30.303 -65.343 15.514]  \n",
      "3  [30.110 -71.308 12.130]  \n",
      "4  [27.774 -77.509 12.062]  \n"
     ]
    }
   ],
   "source": [
    "chain1 = Chain(chain)\n",
    "print(chain1.df.head())"
   ]
  },
  {
   "cell_type": "code",
   "execution_count": 9,
   "metadata": {},
   "outputs": [
    {
     "name": "stdout",
     "output_type": "stream",
     "text": [
      "Chain type: protein\n",
      "Number of units: 211\n",
      "\n",
      "Chain type: protein\n",
      "Number of units: 214\n",
      "\n",
      "Chain type: protein\n",
      "Number of units: 214\n",
      "\n",
      "Chain type: ssdna\n",
      "Number of units: 5\n",
      "\n",
      "Chain type: ssdna\n",
      "Number of units: 5\n",
      "\n",
      "Chain type: ssdna\n",
      "Number of units: 4\n",
      "\n",
      "Chain type: ssdna\n",
      "Number of units: 5\n",
      "\n",
      "Chain type: ssdna\n",
      "Number of units: 3\n",
      "\n",
      "Chain type: ssdna\n",
      "Number of units: 3\n",
      "\n"
     ]
    }
   ],
   "source": [
    "for chain in structure[0]:\n",
    "    print(Chain(chain))"
   ]
  },
  {
   "cell_type": "code",
   "execution_count": 10,
   "metadata": {},
   "outputs": [
    {
     "name": "stdout",
     "output_type": "stream",
     "text": [
      "  resname  id unit_type                ca_coords           sidechain_com\n",
      "0     ARG   3    type_2   [-2.455 1.216 -13.840]   [-3.823 3.243 -9.949]\n",
      "1     GLY   4    type_1  [-0.123 -0.589 -11.553]                    None\n",
      "2     MET   5    type_2   [-0.004 -2.524 -8.344]  [-2.114 -4.600 -6.635]\n",
      "3     ASN   6    type_1    [3.231 -3.630 -6.904]                    None\n",
      "4     HIS   7    type_2    [3.802 -5.462 -3.595]   [1.020 -4.071 -2.956]\n",
      "\n",
      "\n",
      "  resname  id unit_type                ca_coords            sidechain_com\n",
      "0     GLY   4    type_1  [27.988 -53.306 31.392]                     None\n",
      "1     MET   5    type_2  [26.410 -51.939 28.155]  [23.782 -52.619 26.048]\n",
      "2     ASN   6    type_1  [27.313 -48.616 26.598]                     None\n",
      "3     HIS   7    type_2  [26.298 -47.375 23.128]  [26.249 -50.502 22.392]\n",
      "4     VAL   8    type_1  [26.078 -43.942 21.493]                     None\n",
      "\n",
      "\n",
      "  resname  id unit_type                ca_coords            sidechain_com\n",
      "0     ARG   3    type_2   [34.013 -52.250 7.749]   [34.063 -50.758 3.319]\n",
      "1     GLY   4    type_1   [30.630 -53.783 8.584]                     None\n",
      "2     MET   5    type_2  [28.528 -52.745 11.533]  [27.615 -49.743 12.898]\n",
      "3     ASN   6    type_1  [25.759 -55.003 12.757]                     None\n",
      "4     HIS   7    type_2  [23.466 -54.269 15.663]  [25.957 -52.514 16.629]\n",
      "\n",
      "\n",
      "  resname  id            phosphate_com                sugar_com  \\\n",
      "0      DT   1  [32.050 -58.395 17.096]  [29.344 -59.055 13.444]   \n",
      "1      DT   2  [33.192 -64.374 17.839]  [35.204 -68.404 19.791]   \n",
      "2      DT   3  [31.547 -69.248 15.165]  [31.991 -70.295 19.747]   \n",
      "3      DT   4  [27.657 -74.083 13.748]  [24.578 -71.096 15.096]   \n",
      "4      DT   5  [23.449 -78.475 12.207]  [19.718 -75.564 13.413]   \n",
      "\n",
      "                  base_com  \n",
      "0  [34.228 -55.728 15.594]  \n",
      "1  [32.273 -60.654 19.909]  \n",
      "2  [30.303 -65.343 15.514]  \n",
      "3  [30.110 -71.308 12.130]  \n",
      "4  [27.774 -77.509 12.062]  \n",
      "\n",
      "\n",
      "  resname  id            phosphate_com                sugar_com  \\\n",
      "0      DT   1  [33.745 -52.612 23.922]  [32.598 -49.837 27.283]   \n",
      "1      DT   2  [39.967 -51.262 24.379]  [44.744 -51.305 23.596]   \n",
      "2      DT   3  [42.942 -47.081 27.113]  [44.901 -47.546 22.786]   \n",
      "3      DT   4  [44.871 -41.225 28.283]  [41.128 -40.309 26.137]   \n",
      "4      DT   5  [46.257 -35.440 30.234]  [42.117 -35.463 28.111]   \n",
      "\n",
      "                  base_com  \n",
      "0  [32.150 -55.703 25.229]  \n",
      "1  [36.792 -52.089 21.927]  \n",
      "2  [39.040 -48.000 26.258]  \n",
      "3  [43.403 -44.448 29.946]  \n",
      "4  [45.189 -39.282 31.578]  \n",
      "\n",
      "\n",
      "  resname  id            phosphate_com                sugar_com  \\\n",
      "0      DT   1  [28.308 -62.089 -5.628]  [24.637 -62.606 -2.592]   \n",
      "1      DT   2  [30.073 -56.184 -3.871]  [31.544 -58.180 -0.192]   \n",
      "2      DT   3  [34.672 -52.829 -1.935]  [35.119 -57.192 -1.300]   \n",
      "3      DT   5   [43.712 -50.575 5.813]   [41.551 -46.662 6.788]   \n",
      "\n",
      "                  base_com  \n",
      "0  [27.021 -65.434 -7.295]  \n",
      "1  [30.363 -59.299 -6.143]  \n",
      "2  [32.863 -53.920 -5.520]  \n",
      "3   [40.523 -50.751 3.415]  \n",
      "\n",
      "\n",
      "  resname  id          phosphate_com               sugar_com  \\\n",
      "0      DT   1   [2.975 4.165 -3.613]    [4.877 1.646 -7.018]   \n",
      "1      DT   2   [7.225 8.284 -3.600]   [9.867 12.270 -2.402]   \n",
      "2      DT   3  [12.409 8.710 -6.573]  [13.209 10.381 -2.346]   \n",
      "3      DT   4  [18.581 7.578 -7.635]   [17.753 3.600 -5.631]   \n",
      "4      DT   5  [23.568 5.474 -8.228]                    None   \n",
      "\n",
      "                base_com  \n",
      "0  [-0.657 3.568 -5.239]  \n",
      "1   [4.578 5.931 -1.168]  \n",
      "2   [9.570 5.953 -5.597]  \n",
      "3  [14.823 8.121 -9.555]  \n",
      "4  [21.384 8.801 -9.716]  \n",
      "\n",
      "\n",
      "  resname  id            phosphate_com                sugar_com  \\\n",
      "0      DT   1   [8.816 -0.722 -25.569]  [11.085 -2.791 -22.109]   \n",
      "1      DT   2   [2.511 -1.757 -24.295]    [3.427 0.888 -20.860]   \n",
      "2      DT   3  [-3.107 -0.155 -23.001]    [0.017 2.836 -21.150]   \n",
      "\n",
      "                  base_com  \n",
      "0  [12.750 -0.100 -26.576]  \n",
      "1    [5.341 0.271 -26.563]  \n",
      "2  [-0.593 -0.884 -26.198]  \n",
      "\n",
      "\n",
      "  resname  id            phosphate_com                sugar_com  \\\n",
      "0      DT   1  [30.767 -45.179 44.987]  [30.942 -41.911 42.181]   \n",
      "1      DT   2  [26.593 -49.732 43.780]  [29.672 -50.316 40.656]   \n",
      "2      DT   3  [25.904 -55.501 42.047]  [29.983 -53.860 41.780]   \n",
      "\n",
      "                  base_com  \n",
      "0  [34.124 -46.197 44.334]  \n",
      "1  [29.599 -48.153 46.198]  \n",
      "2  [25.440 -52.957 45.404]  \n",
      "\n",
      "\n"
     ]
    }
   ],
   "source": [
    "for chain in structure[0]:\n",
    "    print(Chain(chain).df.head())\n",
    "    print(\"\\n\")\n"
   ]
  },
  {
   "cell_type": "code",
   "execution_count": 11,
   "metadata": {},
   "outputs": [],
   "source": [
    "from src.Structure import Structure\n",
    "\n",
    "structure1 = Structure(\"3UDG\", structure)"
   ]
  },
  {
   "cell_type": "code",
   "execution_count": 12,
   "metadata": {},
   "outputs": [
    {
     "name": "stdout",
     "output_type": "stream",
     "text": [
      "Number of chains: 9\n",
      "00. Chain type: protein\n",
      "Number of units: 211\n",
      " 01. Chain type: protein\n",
      "Number of units: 214\n",
      " 02. Chain type: protein\n",
      "Number of units: 214\n",
      " 03. Chain type: ssdna\n",
      "Number of units: 5\n",
      " 04. Chain type: ssdna\n",
      "Number of units: 5\n",
      " 05. Chain type: ssdna\n",
      "Number of units: 4\n",
      " 06. Chain type: ssdna\n",
      "Number of units: 5\n",
      " 07. Chain type: ssdna\n",
      "Number of units: 3\n",
      " 08. Chain type: ssdna\n",
      "Number of units: 3\n",
      "\n"
     ]
    }
   ],
   "source": [
    "print(structure1)"
   ]
  },
  {
   "cell_type": "code",
   "execution_count": 13,
   "metadata": {},
   "outputs": [],
   "source": [
    "structure1.save_as_markdown(show=True)"
   ]
  },
  {
   "cell_type": "code",
   "execution_count": 1,
   "metadata": {},
   "outputs": [],
   "source": [
    "from src.Point import Point\n",
    "import numpy as np"
   ]
  },
  {
   "cell_type": "code",
   "execution_count": 2,
   "metadata": {},
   "outputs": [
    {
     "name": "stdout",
     "output_type": "stream",
     "text": [
      "Point([0.213 0.000 0.000])\n"
     ]
    }
   ],
   "source": [
    "p = Point(np.array([0.213124312, 0, 0]))\n",
    "print(p)"
   ]
  },
  {
   "cell_type": "code",
   "execution_count": null,
   "metadata": {},
   "outputs": [],
   "source": []
  },
  {
   "cell_type": "code",
   "execution_count": null,
   "metadata": {},
   "outputs": [],
   "source": []
  }
 ],
 "metadata": {
  "kernelspec": {
   "display_name": "bio",
   "language": "python",
   "name": "python3"
  },
  "language_info": {
   "codemirror_mode": {
    "name": "ipython",
    "version": 3
   },
   "file_extension": ".py",
   "mimetype": "text/x-python",
   "name": "python",
   "nbconvert_exporter": "python",
   "pygments_lexer": "ipython3",
   "version": "3.11.3"
  },
  "orig_nbformat": 4
 },
 "nbformat": 4,
 "nbformat_minor": 2
}
