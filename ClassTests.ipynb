{
 "cells": [
  {
   "cell_type": "code",
   "execution_count": 22,
   "metadata": {},
   "outputs": [],
   "source": [
    "from Bio.PDB import PDBParser\n",
    "from src.ChainUnit import ChainUnitGenerator\n",
    "import os\n",
    "import pandas as pd\n",
    "import numpy as np\n",
    "\n",
    "np.set_printoptions(\n",
    "            formatter={\"float\": lambda x: \"{0:0.3f}\".format(x)},\n",
    "            linewidth=100,\n",
    "            suppress=True,\n",
    "        )\n",
    "np.set_printoptions(threshold=5)"
   ]
  },
  {
   "cell_type": "code",
   "execution_count": 2,
   "metadata": {},
   "outputs": [
    {
     "name": "stderr",
     "output_type": "stream",
     "text": [
      "/Users/marvinprakash/mambaforge/envs/bio/lib/python3.11/site-packages/Bio/PDB/PDBParser.py:395: PDBConstructionWarning: Ignoring unrecognized record 'END' at line 5502\n",
      "  warnings.warn(\n"
     ]
    }
   ],
   "source": [
    "pdb_path = \"data/processed_pdbs/3UDG.pdb\"\n",
    "parser = PDBParser()\n",
    "structure = parser.get_structure(\"3UDG\", pdb_path)\n",
    "\n",
    "chain = structure[0][\"A\"]\n",
    "\n",
    "res = chain.get_residues().__next__()"
   ]
  },
  {
   "cell_type": "code",
   "execution_count": 3,
   "metadata": {},
   "outputs": [],
   "source": [
    "generator = ChainUnitGenerator()\n",
    "chain_unit = generator.generate(res)"
   ]
  },
  {
   "cell_type": "code",
   "execution_count": 4,
   "metadata": {},
   "outputs": [
    {
     "data": {
      "text/plain": [
       "Name of the unit: ARG\n",
       "ID of the unit: 3\n",
       "Type of the unit: type_2\n",
       "Center of masses: {'ca_coords': [-2.455 1.216 -13.840], 'sidechain_com': [-3.823 3.243 -9.949]}"
      ]
     },
     "execution_count": 4,
     "metadata": {},
     "output_type": "execute_result"
    }
   ],
   "source": [
    "chain_unit"
   ]
  },
  {
   "cell_type": "code",
   "execution_count": 5,
   "metadata": {},
   "outputs": [
    {
     "data": {
      "text/plain": [
       "{'ca_coords': [-2.455 1.216 -13.840], 'sidechain_com': [-3.823 3.243 -9.949]}"
      ]
     },
     "execution_count": 5,
     "metadata": {},
     "output_type": "execute_result"
    }
   ],
   "source": [
    "chain_unit.coms"
   ]
  },
  {
   "cell_type": "code",
   "execution_count": 6,
   "metadata": {},
   "outputs": [
    {
     "data": {
      "text/plain": [
       "{'resname': 'ARG',\n",
       " 'id': 3,\n",
       " 'ca_coords': [-2.455 1.216 -13.840],\n",
       " 'sidechain_com': [-3.823 3.243 -9.949]}"
      ]
     },
     "execution_count": 6,
     "metadata": {},
     "output_type": "execute_result"
    }
   ],
   "source": [
    "chain_unit.to_dict()"
   ]
  },
  {
   "cell_type": "code",
   "execution_count": 7,
   "metadata": {},
   "outputs": [],
   "source": [
    "from src.Chain import ChainGenerator"
   ]
  },
  {
   "cell_type": "code",
   "execution_count": 8,
   "metadata": {},
   "outputs": [],
   "source": [
    "gen = ChainGenerator()\n",
    "\n",
    "chain = gen.generate(chain)"
   ]
  },
  {
   "cell_type": "code",
   "execution_count": 28,
   "metadata": {},
   "outputs": [
    {
     "name": "stdout",
     "output_type": "stream",
     "text": [
      "{'bb': array([3.7318382, 3.7491426, 3.7097251, ..., 3.8165686, 3.829019 , 3.8735902], dtype=float32),\n",
      " 'bs':    resname  distance\n",
      "0      ARG  4.595774\n",
      "1      MET  3.417751\n",
      "2      HIS  3.175453\n",
      "3      TYR  3.889624\n",
      "4      ILE  2.393688\n",
      "..     ...       ...\n",
      "81     ARG  3.847656\n",
      "82     GLU  3.512633\n",
      "83     ARG  4.696457\n",
      "84     GLU  2.929031\n",
      "85     ARG  4.023056\n",
      "\n",
      "[86 rows x 2 columns]}\n"
     ]
    }
   ],
   "source": [
    "from pprint import pprint as pp\n",
    "pp(chain.distances)"
   ]
  },
  {
   "cell_type": "code",
   "execution_count": 29,
   "metadata": {},
   "outputs": [
    {
     "name": "stdout",
     "output_type": "stream",
     "text": [
      "{'bbb': array([142.56196945, 120.91707367, 127.49931562, ..., 111.69622262, 127.05194902, 127.94188246]),\n",
      " 'bbs':    resname       angle\n",
      "0      GLY  136.210745\n",
      "1      ASN   80.419748\n",
      "2      VAL   82.079066\n",
      "3      LEU  118.721166\n",
      "4      ALA  103.794029\n",
      "..     ...         ...\n",
      "80     THR   88.278482\n",
      "81     VAL  142.443493\n",
      "82     THR  129.749094\n",
      "83     VAL   99.273487\n",
      "84     ALA  127.795296\n",
      "\n",
      "[85 rows x 2 columns],\n",
      " 'sbb':    resname       angle\n",
      "0      ARG   83.129474\n",
      "1      MET   99.386493\n",
      "2      HIS  144.573243\n",
      "3      TYR  156.759283\n",
      "4      ILE  130.257182\n",
      "..     ...         ...\n",
      "80     GLU  103.112214\n",
      "81     ARG  135.314411\n",
      "82     GLU  112.281932\n",
      "83     ARG   94.201194\n",
      "84     GLU  130.667096\n",
      "\n",
      "[85 rows x 2 columns]}\n"
     ]
    }
   ],
   "source": [
    "pp(chain.angles)"
   ]
  },
  {
   "cell_type": "code",
   "execution_count": 11,
   "metadata": {},
   "outputs": [
    {
     "name": "stdout",
     "output_type": "stream",
     "text": [
      "{'bbbb': array([174.414, 176.819, 156.150, 176.441, 170.352, 177.711, 170.305, 119.744, 88.622, 103.328,\n",
      "       150.102, 22.310, 38.720, 125.327, 141.373, 149.188, 165.686, 131.226, 137.227, 94.698,\n",
      "       53.324, 108.511, 156.027, 124.544, 169.524, 163.276, 168.233, 163.010, 132.702, 163.870,\n",
      "       179.573, 140.399, 113.273, 149.842, 137.066, 159.780, 131.154, 73.523, 98.914, 137.896,\n",
      "       136.898, 172.606, 161.998, 178.624, 161.441, 176.093, 132.591, 166.869, 167.262, 163.484,\n",
      "       154.296, 5.244, 13.252, 58.777, 63.745, 41.851, 53.231, 48.515, 50.566, 63.859, 66.685,\n",
      "       143.159, 172.898, 156.141, 70.064, 26.779, 131.607, 130.591, 175.539, 132.883, 164.806,\n",
      "       168.265, 127.204, 109.396, 97.963, 158.291, 155.527, 172.408, 169.787, 153.450, 105.090,\n",
      "       128.365, 118.488, 57.660, 99.231, 82.405, 72.745, 175.942, 179.013, 171.917, 134.546,\n",
      "       164.843, 90.650, 165.596, 144.033, 174.675, 8.793, 173.677, 179.343, 116.878, 119.915,\n",
      "       140.249, 65.505, 111.435, 147.197, 95.024, 147.248, 153.862, 133.425, 154.942, 104.108,\n",
      "       53.839, 89.391, 116.172, 138.893, 163.962, 105.056, 136.112, 21.361, 165.018, 125.462,\n",
      "       173.219, 158.587, 175.157, 175.666, 164.272, 166.882, 119.843, 69.252, 109.291, 156.171,\n",
      "       0.195, 77.214, 140.199, 147.670, 117.278, 178.108, 129.711, 131.836, 95.758, 54.967,\n",
      "       101.500, 147.681, 119.238, 178.937, 167.982, 148.857, 165.417, 161.764, 177.840, 139.090,\n",
      "       159.902, 144.530, 171.124, 168.940, 146.576, 1.616, 79.287, 176.069, 143.864, 179.362,\n",
      "       152.368, 160.605, 150.603, 177.798, 144.908, 167.544, 148.605, 167.807, 155.147, 34.742,\n",
      "       9.141, 54.513, 51.221, 44.555, 51.685, 46.142, 109.972, 63.277, 128.123, 156.929, 81.819,\n",
      "       23.271, 138.224, 129.216, 177.766, 144.148, 178.077, 174.005, 104.374, 52.709, 120.063,\n",
      "       174.719, 122.805, 116.167, 48.355, 52.801, 168.704, 122.373, 149.728, 133.536, 169.471,\n",
      "       15.266, 175.756, 169.771, 138.875, 150.067, 93.161]),\n",
      " 'bbbs':    resname    dihedral\n",
      "0      GLY   31.497602\n",
      "1      ASN   23.923081\n",
      "2      VAL   11.438883\n",
      "3      LEU   20.206917\n",
      "4      ALA  126.223752\n",
      "..     ...         ...\n",
      "80     THR   25.660358\n",
      "81     VAL   58.022595\n",
      "82     THR  159.751221\n",
      "83     VAL    6.883259\n",
      "84     ALA  113.374739\n",
      "\n",
      "[85 rows x 2 columns],\n",
      " 'sbbb':    resname    dihedral\n",
      "0      ARG   49.410929\n",
      "1      MET   21.029216\n",
      "2      HIS    3.434827\n",
      "3      TYR    6.789016\n",
      "4      ILE   72.357181\n",
      "..     ...         ...\n",
      "80     GLU  168.878247\n",
      "81     ARG   78.275748\n",
      "82     GLU   28.601990\n",
      "83     ARG    0.404488\n",
      "84     GLU   63.635917\n",
      "\n",
      "[85 rows x 2 columns],\n",
      " 'sbbs': array([164.663, 167.969, 151.664, 120.246, 177.360, 105.402, 40.222, 18.172, 38.283, 84.803,\n",
      "       176.705, 164.839, 135.334, 174.341, 161.812, 168.640, 152.916, 76.476, 114.493, 135.525,\n",
      "       86.123, 132.578, 105.967, 56.996, 149.177, 168.505, 136.955, 156.266, 165.153, 136.727,\n",
      "       39.831, 150.005, 8.940, 16.429, 162.606, 166.769])}\n"
     ]
    }
   ],
   "source": [
    "pp(chain.dihedrals)"
   ]
  },
  {
   "cell_type": "code",
   "execution_count": 12,
   "metadata": {},
   "outputs": [],
   "source": [
    "res = structure[0][\"D\"].get_residues().__next__()"
   ]
  },
  {
   "cell_type": "code",
   "execution_count": 13,
   "metadata": {},
   "outputs": [],
   "source": [
    "from src.Structure import Structure\n",
    "\n",
    "structure1 = Structure(\"3UDG\", structure)"
   ]
  },
  {
   "cell_type": "code",
   "execution_count": 14,
   "metadata": {},
   "outputs": [],
   "source": [
    "structure1.save_as_markdown()"
   ]
  },
  {
   "cell_type": "code",
   "execution_count": 15,
   "metadata": {},
   "outputs": [
    {
     "name": "stdout",
     "output_type": "stream",
     "text": [
      "Number of chains: 9\n",
      "\n",
      "Protein chains:\n",
      "\n",
      "Chain 1: Type: protein\n",
      "Number of units: 211\n",
      "\n",
      "Chain 2: Type: protein\n",
      "Number of units: 214\n",
      "\n",
      "Chain 3: Type: protein\n",
      "Number of units: 214\n",
      "\n",
      "ssDna chains:\n",
      "\n",
      "Chain 1: Type: ssdna\n",
      "Number of units: 5\n",
      "\n",
      "Chain 2: Type: ssdna\n",
      "Number of units: 5\n",
      "\n",
      "Chain 3: Type: ssdna\n",
      "Number of units: 4\n",
      "\n",
      "Chain 4: Type: ssdna\n",
      "Number of units: 5\n",
      "\n",
      "Chain 5: Type: ssdna\n",
      "Number of units: 3\n",
      "\n",
      "Chain 6: Type: ssdna\n",
      "Number of units: 3\n",
      "\n"
     ]
    }
   ],
   "source": [
    "print(structure1)"
   ]
  },
  {
   "cell_type": "code",
   "execution_count": 24,
   "metadata": {},
   "outputs": [
    {
     "name": "stdout",
     "output_type": "stream",
     "text": [
      "bbbb\n",
      "[174.41404925 176.81924571 156.14992504 ... 142.5358431  143.70220441  70.27381874]\n",
      "sbbs\n",
      "[164.66314734 167.9690875  151.66369423 ...  18.00866655 165.70982322 167.1433418 ]\n",
      "sbbb\n",
      "    resname   dihedral\n",
      "0       ARG  49.410929\n",
      "1       MET  21.029216\n",
      "2       HIS   3.434827\n",
      "3       TYR   6.789016\n",
      "4       ILE  72.357181\n",
      "..      ...        ...\n",
      "253     GLU  83.416020\n",
      "254     ARG  59.533293\n",
      "255     GLU  22.182404\n",
      "256     ARG   1.709127\n",
      "257     GLU  62.401892\n",
      "\n",
      "[258 rows x 2 columns]\n",
      "bbbs\n",
      "    resname    dihedral\n",
      "0       GLY   31.497602\n",
      "1       ASN   23.923081\n",
      "2       VAL   11.438883\n",
      "3       LEU   20.206917\n",
      "4       ALA  126.223752\n",
      "..      ...         ...\n",
      "253     THR   10.694585\n",
      "254     VAL   62.124150\n",
      "255     THR  156.554364\n",
      "256     VAL    5.203159\n",
      "257     ALA   93.402924\n",
      "\n",
      "[258 rows x 2 columns]\n"
     ]
    }
   ],
   "source": [
    "for key, value in structure1.protein_dihedrals.items():\n",
    "    print(key)\n",
    "    print(value)"
   ]
  },
  {
   "cell_type": "code",
   "execution_count": 30,
   "metadata": {},
   "outputs": [
    {
     "ename": "AttributeError",
     "evalue": "'NoneType' object has no attribute 'items'",
     "output_type": "error",
     "traceback": [
      "\u001b[0;31m---------------------------------------------------------------------------\u001b[0m",
      "\u001b[0;31mAttributeError\u001b[0m                            Traceback (most recent call last)",
      "Cell \u001b[0;32mIn[30], line 1\u001b[0m\n\u001b[0;32m----> 1\u001b[0m \u001b[39mfor\u001b[39;00m key,value \u001b[39min\u001b[39;00m structure1\u001b[39m.\u001b[39;49mssdna_distances\u001b[39m.\u001b[39;49mitems():\n\u001b[1;32m      2\u001b[0m     \u001b[39mprint\u001b[39m(key)\n\u001b[1;32m      3\u001b[0m     \u001b[39mprint\u001b[39m(value)\n",
      "\u001b[0;31mAttributeError\u001b[0m: 'NoneType' object has no attribute 'items'"
     ]
    }
   ],
   "source": [
    "for key,value in structure1.ssdna_distances.items():\n",
    "    print(key)\n",
    "    print(value)"
   ]
  },
  {
   "cell_type": "code",
   "execution_count": null,
   "metadata": {},
   "outputs": [],
   "source": []
  }
 ],
 "metadata": {
  "kernelspec": {
   "display_name": "bio",
   "language": "python",
   "name": "python3"
  },
  "language_info": {
   "codemirror_mode": {
    "name": "ipython",
    "version": 3
   },
   "file_extension": ".py",
   "mimetype": "text/x-python",
   "name": "python",
   "nbconvert_exporter": "python",
   "pygments_lexer": "ipython3",
   "version": "3.11.3"
  },
  "orig_nbformat": 4
 },
 "nbformat": 4,
 "nbformat_minor": 2
}
